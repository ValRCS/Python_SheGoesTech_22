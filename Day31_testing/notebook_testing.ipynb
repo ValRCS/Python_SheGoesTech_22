{
 "cells": [
  {
   "cell_type": "markdown",
   "metadata": {},
   "source": [
    "# Testing in Jupyter Notebooks"
   ]
  },
  {
   "cell_type": "code",
   "execution_count": null,
   "metadata": {},
   "outputs": [],
   "source": [
    "# turns out we can use doctest in jupyter notebook as well\n",
    "# we just make a cell with >>> and then the code"
   ]
  },
  {
   "cell_type": "code",
   "execution_count": 8,
   "metadata": {},
   "outputs": [],
   "source": [
    "# lets make a simple function we can test\n",
    "def add(a, b):\n",
    "    \"\"\"\n",
    "    Description: This function adds two similar objects that support addition\n",
    "    Parameters: a and b are two objects of same type that support addition\n",
    "    >>> add(2, 3)\n",
    "    5\n",
    "    >>> add(-100, 50)\n",
    "    -50\n",
    "    >>> add(0, 2900)\n",
    "    2900\n",
    "    \"\"\"\n",
    "    # you could have your regular code and comments here\n",
    "    return a + b"
   ]
  },
  {
   "cell_type": "code",
   "execution_count": 9,
   "metadata": {},
   "outputs": [],
   "source": [
    "# lets add another function to test\n",
    "def print_string(s):\n",
    "    \"\"\"\n",
    "    Description: This function prints a string\n",
    "    Parameters: s is a string\n",
    "    >>> print_string('hello')\n",
    "    hello\n",
    "    >>> print_string('Valdis')\n",
    "    Valdis\n",
    "    \"\"\"\n",
    "    print(s) # remember print does not return anything but we can still test it"
   ]
  },
  {
   "cell_type": "code",
   "execution_count": 21,
   "metadata": {},
   "outputs": [
    {
     "name": "stdout",
     "output_type": "stream",
     "text": [
      "**********************************************************************\n",
      "File \"__main__\", line 11, in __main__.WizCoin.value\n",
      "Failed example:\n",
      "    value(7,5,4)\n",
      "Exception raised:\n",
      "    Traceback (most recent call last):\n",
      "      File \"C:\\Users\\val-wd\\AppData\\Local\\Programs\\Python\\Python310\\lib\\doctest.py\", line 1350, in __run\n",
      "        exec(compile(example.source, filename, \"single\",\n",
      "      File \"<doctest __main__.WizCoin.value[0]>\", line 1, in <module>\n",
      "        value(7,5,4)\n",
      "    NameError: name 'value' is not defined\n",
      "**********************************************************************\n",
      "1 items had failures:\n",
      "   1 of   1 in __main__.WizCoin.value\n",
      "***Test Failed*** 1 failures.\n"
     ]
    },
    {
     "data": {
      "text/plain": [
       "TestResults(failed=1, attempted=3)"
      ]
     },
     "execution_count": 21,
     "metadata": {},
     "output_type": "execute_result"
    }
   ],
   "source": [
    "# then we import doctest and run it\n",
    "import doctest\n",
    "doctest.testmod()"
   ]
  },
  {
   "cell_type": "code",
   "execution_count": 11,
   "metadata": {},
   "outputs": [
    {
     "name": "stdout",
     "output_type": "stream",
     "text": [
      "Trying:\n",
      "    add(2, 3)\n",
      "Expecting:\n",
      "    5\n",
      "ok\n",
      "Trying:\n",
      "    add(-100, 50)\n",
      "Expecting:\n",
      "    -50\n",
      "ok\n",
      "Trying:\n",
      "    add(0, 2900)\n",
      "Expecting:\n",
      "    2900\n",
      "ok\n",
      "Trying:\n",
      "    print_string('hello')\n",
      "Expecting:\n",
      "    hello\n",
      "ok\n",
      "Trying:\n",
      "    print_string('Valdis')\n",
      "Expecting:\n",
      "    Valdis\n",
      "ok\n",
      "1 items had no tests:\n",
      "    __main__\n",
      "2 items passed all tests:\n",
      "   3 tests in __main__.add\n",
      "   2 tests in __main__.print_string\n",
      "5 tests in 3 items.\n",
      "5 passed and 0 failed.\n",
      "Test passed.\n"
     ]
    },
    {
     "data": {
      "text/plain": [
       "TestResults(failed=0, attempted=5)"
      ]
     },
     "execution_count": 11,
     "metadata": {},
     "output_type": "execute_result"
    }
   ],
   "source": [
    "# we can run doctest in verbose mode\n",
    "doctest.testmod(verbose=True)"
   ]
  },
  {
   "cell_type": "code",
   "execution_count": null,
   "metadata": {},
   "outputs": [],
   "source": [
    "# so what kind of test case do we need to write?\n",
    "# we need to write a test case that will fail if our function is not working\n",
    "# and we need to write a test case that will pass if our function is working\n",
    "\n",
    "# so lets say you are testing function with 3 parameters\n",
    "# the first test case should be with all parameters at their minimum values\n",
    "# the second test case should be with all parameters at their maximum values\n",
    "# the third test case should be with all parameters at their average values\n",
    "# the fourth test case should be with all parameters at their median values\n",
    "# the fifth test case should be with all parameters at their mode values\n",
    "# the sixth test case should be with all parameters at their random values\n",
    "# the seventh test case should be with all parameters at their extreme values - similar to minimum and maximum but not exactly\n",
    "# typically you also would want to test all 0 values and all 1 values\n",
    "# or for strings you would want to test empty string and a string with one character\n",
    "# or for lists you would want to test empty list and a list with one element\n",
    "# or for dictionaries you would want to test empty dictionary and a dictionary with one key value pair\n",
    "# or for sets you would want to test empty set and a set with one element\n",
    "\n",
    "# again you can't cover all possible cases but you can cover most of them"
   ]
  },
  {
   "cell_type": "code",
   "execution_count": 13,
   "metadata": {},
   "outputs": [
    {
     "name": "stdout",
     "output_type": "stream",
     "text": [
      "Testing radius 1\n",
      "Testing function add\n",
      "Result is 2\n",
      "Testing function multiply\n",
      "Result is 1\n",
      "Testing function divide\n",
      "Result is 1.0\n",
      "Testing function subtract\n",
      "Result is 0\n",
      "Testing radius 2\n",
      "Testing function add\n",
      "Result is 4\n",
      "Testing function multiply\n",
      "Result is 4\n",
      "Testing function divide\n",
      "Result is 1.0\n",
      "Testing function subtract\n",
      "Result is 0\n",
      "Testing radius 3\n",
      "Testing function add\n",
      "Result is 6\n",
      "Testing function multiply\n",
      "Result is 9\n",
      "Testing function divide\n",
      "Result is 1.0\n",
      "Testing function subtract\n",
      "Result is 0\n",
      "Testing radius 4\n",
      "Testing function add\n",
      "Result is 8\n",
      "Testing function multiply\n",
      "Result is 16\n",
      "Testing function divide\n",
      "Result is 1.0\n",
      "Testing function subtract\n",
      "Result is 0\n",
      "Testing radius 5\n",
      "Testing function add\n",
      "Result is 10\n",
      "Testing function multiply\n",
      "Result is 25\n",
      "Testing function divide\n",
      "Result is 1.0\n",
      "Testing function subtract\n",
      "Result is 0\n"
     ]
    }
   ],
   "source": [
    "# how would you do integration testing?\n",
    "\n",
    "# reminder that integration testing is testing how different parts of your code work together\n",
    "\n",
    "# so you have two different functions\n",
    "# you can test them separately - unit testing\n",
    "# but you can also test them together - integration testing\n",
    "\n",
    "# example of integration testing\n",
    "\n",
    "# lets say we have a function that adds two numbers\n",
    "def add(a, b):\n",
    "    return a + b\n",
    "\n",
    "# and we have a function that multiplies two numbers\n",
    "\n",
    "def multiply(a, b):\n",
    "    return a * b\n",
    "\n",
    "# and we have a function that divides two numbers\n",
    "\n",
    "def divide(a, b):\n",
    "    return a / b\n",
    "\n",
    "# and we have a function that subtracts two numbers\n",
    "\n",
    "def subtract(a, b):\n",
    "    return a - b\n",
    "\n",
    "# and we have a function that calculates the area of a circle\n",
    "\n",
    "# def circle_area(r):\n",
    "#     return 3.14 * r * r\n",
    "\n",
    "# how to test these functions together?\n",
    "\n",
    "# lets say we have a function that calculates the area of a circle\n",
    "# and we want to test it with different radii\n",
    "# and we want to test it with different functions\n",
    "\n",
    "# we can use a for loop to test different radii\n",
    "# and we can use a for loop to test different functions\n",
    "\n",
    "# lets create a list of functions\n",
    "# remember in Python functions are first class objects you can pass them around\n",
    "functions = [add, multiply, divide, subtract]\n",
    "\n",
    "# lets create a list of radii\n",
    "radii = [1, 2, 3, 4, 5]\n",
    "\n",
    "# lets create a for loop to test different radii\n",
    "\n",
    "for radius in radii:\n",
    "    print(f\"Testing radius {radius}\")\n",
    "    for func in functions:\n",
    "        print(f\"Testing function {func.__name__}\")\n",
    "        print(f\"Result is {func(radius, radius)}\")\n",
    "\n",
    "# full integration test would be to test all possible combinations of functions and radii"
   ]
  },
  {
   "cell_type": "code",
   "execution_count": 10,
   "metadata": {},
   "outputs": [],
   "source": [
    "# lets make a simple class\n",
    "class WizCoin:\n",
    "    def __init__(self, galleons, sickles, knuts):\n",
    "        \"\"\"Create a new WizCoin object with galleons, sickles, and knuts.\"\"\"\n",
    "        self.galleons = galleons\n",
    "        self.sickles  = sickles\n",
    "        self.knuts    = knuts\n",
    "        # NOTE: __init__() methods NEVER have a return statement.\n",
    "    def value(self, g, s, k):\n",
    "        \"\"\"The value (in knuts) of all the coins in this WizCoin object.\n",
    "        >>> t.value(7,5,4)\n",
    "        3600\n",
    "        \"\"\"\n",
    "        return (self.galleons * 17 * 29) + (self.sickles * 29) + (self.knuts)\n",
    "\n",
    "    def weightInGrams(self):\n",
    "        \"\"\"Returns the weight of the coins in grams.\n",
    "        >>> t.weightInGrams()\n",
    "        294.421\n",
    "        \"\"\"\n",
    "        return (self.galleons * 31.103) + (self.sickles * 11.34) + (self.knuts * 5.0)"
   ]
  },
  {
   "cell_type": "code",
   "execution_count": 11,
   "metadata": {},
   "outputs": [
    {
     "data": {
      "text/plain": [
       "TestResults(failed=0, attempted=2)"
      ]
     },
     "execution_count": 11,
     "metadata": {},
     "output_type": "execute_result"
    }
   ],
   "source": [
    "# lets try doctesting our class\n",
    "import doctest\n",
    "# doctest.testmod()\n",
    "# since we need an actual object we need to do a bit more sophisticated testing\n",
    "doctest.testmod(extraglobs={'t': WizCoin(7,5,4)})\n",
    "# so we extraglobs is a dictionary of variables we want to use in our doctests\n",
    "# in this case we want to use our WizCoin object t - t is a variable name"
   ]
  },
  {
   "cell_type": "code",
   "execution_count": 12,
   "metadata": {},
   "outputs": [],
   "source": [
    "# another good practice is to add type hints to your functions\n",
    "# this is not required but it is good practice\n",
    "# for example we can add type hints to our add function\n",
    "def add(a: int, b: int) -> int:\n",
    "    \"\"\"\n",
    "    Description: This function adds two similar objects that support addition\n",
    "    Parameters: a and b are two objects of same type that support addition\n",
    "    >>> add(2, 3)\n",
    "    5\n",
    "    >>> add(-100, 50)\n",
    "    -50\n",
    "    >>> add(0, 2900)\n",
    "    2900\n",
    "    \"\"\"\n",
    "    # you could have your regular code and comments here\n",
    "    return a + b"
   ]
  },
  {
   "cell_type": "code",
   "execution_count": 13,
   "metadata": {},
   "outputs": [
    {
     "data": {
      "text/plain": [
       "TestResults(failed=0, attempted=5)"
      ]
     },
     "execution_count": 13,
     "metadata": {},
     "output_type": "execute_result"
    }
   ],
   "source": [
    "doctest.testmod(extraglobs={'t': WizCoin(7,5,4)})"
   ]
  },
  {
   "cell_type": "code",
   "execution_count": 14,
   "metadata": {},
   "outputs": [
    {
     "data": {
      "text/plain": [
       "'helloworld'"
      ]
     },
     "execution_count": 14,
     "metadata": {},
     "output_type": "execute_result"
    }
   ],
   "source": [
    "# type hints are not enforced by Python\n",
    "# they are just hints for the programmer\n",
    "# also type hints are not enforced by doctest\n",
    "# so you can still pass a string to\n",
    "add(\"hello\", \"world\") # Python is dynamic and not going to complain"
   ]
  },
  {
   "cell_type": "code",
   "execution_count": null,
   "metadata": {},
   "outputs": [],
   "source": [
    "# there are special linting tools that can check your type hints\n",
    "# and there are special tools that can check your doctests\n",
    "# but they are not part of Python\n",
    "\n",
    "# i like to compare type hints to UN declarations - statements of intent, but not enforced\n"
   ]
  },
  {
   "cell_type": "code",
   "execution_count": null,
   "metadata": {},
   "outputs": [],
   "source": [
    "# you can use docstrings to generate documentation\n",
    "\n",
    "# more on using docstrings to generate documentation\n",
    "# https://www.python.org/dev/peps/pep-0257/\n",
    "\n",
    "# there are standard tools to generate documentation from docstrings\n",
    "# you can use Sphinx\n",
    "# https://www.sphinx-doc.org/en/master/"
   ]
  },
  {
   "cell_type": "code",
   "execution_count": null,
   "metadata": {},
   "outputs": [],
   "source": [
    "# what other testing tools are there?\n",
    "\n",
    "# there are other testing tools\n",
    "# you can use unittest\n",
    "# https://docs.python.org/3/library/unittest.html\n",
    "# you can use pytest\n",
    "# https://docs.pytest.org/en/latest/"
   ]
  },
  {
   "cell_type": "code",
   "execution_count": null,
   "metadata": {},
   "outputs": [],
   "source": [
    "# again strive to make your code modular, make lots of small functions\n",
    "# if you are manipulating some data internally you can make classes"
   ]
  },
  {
   "cell_type": "code",
   "execution_count": null,
   "metadata": {},
   "outputs": [],
   "source": []
  }
 ],
 "metadata": {
  "kernelspec": {
   "display_name": "Python 3.10.7 ('venv': venv)",
   "language": "python",
   "name": "python3"
  },
  "language_info": {
   "codemirror_mode": {
    "name": "ipython",
    "version": 3
   },
   "file_extension": ".py",
   "mimetype": "text/x-python",
   "name": "python",
   "nbconvert_exporter": "python",
   "pygments_lexer": "ipython3",
   "version": "3.10.7"
  },
  "orig_nbformat": 4,
  "vscode": {
   "interpreter": {
    "hash": "b80708c7bd38bd96dc15c82484a40621665f8a1d2e88ebc3c5ed926cece63585"
   }
  }
 },
 "nbformat": 4,
 "nbformat_minor": 2
}
