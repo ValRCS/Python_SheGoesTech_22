{
 "cells": [
  {
   "cell_type": "markdown",
   "metadata": {},
   "source": [
    "# Testing in Jupyter Notebooks"
   ]
  },
  {
   "cell_type": "code",
   "execution_count": null,
   "metadata": {},
   "outputs": [],
   "source": [
    "# turns out we can use doctest in jupyter notebook as well\n",
    "# we just make a cell with >>> and then the code"
   ]
  },
  {
   "cell_type": "code",
   "execution_count": 8,
   "metadata": {},
   "outputs": [],
   "source": [
    "# lets make a simple function we can test\n",
    "def add(a, b):\n",
    "    \"\"\"\n",
    "    Description: This function adds two similar objects that support addition\n",
    "    Parameters: a and b are two objects of same type that support addition\n",
    "    >>> add(2, 3)\n",
    "    5\n",
    "    >>> add(-100, 50)\n",
    "    -50\n",
    "    >>> add(0, 2900)\n",
    "    2900\n",
    "    \"\"\"\n",
    "    # you could have your regular code and comments here\n",
    "    return a + b"
   ]
  },
  {
   "cell_type": "code",
   "execution_count": 9,
   "metadata": {},
   "outputs": [],
   "source": [
    "# lets add another function to test\n",
    "def print_string(s):\n",
    "    \"\"\"\n",
    "    Description: This function prints a string\n",
    "    Parameters: s is a string\n",
    "    >>> print_string('hello')\n",
    "    hello\n",
    "    >>> print_string('Valdis')\n",
    "    Valdis\n",
    "    \"\"\"\n",
    "    print(s) # remember print does not return anything but we can still test it"
   ]
  },
  {
   "cell_type": "code",
   "execution_count": 10,
   "metadata": {},
   "outputs": [
    {
     "data": {
      "text/plain": [
       "TestResults(failed=0, attempted=5)"
      ]
     },
     "execution_count": 10,
     "metadata": {},
     "output_type": "execute_result"
    }
   ],
   "source": [
    "# then we import doctest and run it\n",
    "import doctest\n",
    "doctest.testmod()"
   ]
  },
  {
   "cell_type": "code",
   "execution_count": 11,
   "metadata": {},
   "outputs": [
    {
     "name": "stdout",
     "output_type": "stream",
     "text": [
      "Trying:\n",
      "    add(2, 3)\n",
      "Expecting:\n",
      "    5\n",
      "ok\n",
      "Trying:\n",
      "    add(-100, 50)\n",
      "Expecting:\n",
      "    -50\n",
      "ok\n",
      "Trying:\n",
      "    add(0, 2900)\n",
      "Expecting:\n",
      "    2900\n",
      "ok\n",
      "Trying:\n",
      "    print_string('hello')\n",
      "Expecting:\n",
      "    hello\n",
      "ok\n",
      "Trying:\n",
      "    print_string('Valdis')\n",
      "Expecting:\n",
      "    Valdis\n",
      "ok\n",
      "1 items had no tests:\n",
      "    __main__\n",
      "2 items passed all tests:\n",
      "   3 tests in __main__.add\n",
      "   2 tests in __main__.print_string\n",
      "5 tests in 3 items.\n",
      "5 passed and 0 failed.\n",
      "Test passed.\n"
     ]
    },
    {
     "data": {
      "text/plain": [
       "TestResults(failed=0, attempted=5)"
      ]
     },
     "execution_count": 11,
     "metadata": {},
     "output_type": "execute_result"
    }
   ],
   "source": [
    "# we can run doctest in verbose mode\n",
    "doctest.testmod(verbose=True)"
   ]
  },
  {
   "cell_type": "code",
   "execution_count": null,
   "metadata": {},
   "outputs": [],
   "source": [
    "# so what kind of test case do we need to write?\n",
    "# we need to write a test case that will fail if our function is not working\n",
    "# and we need to write a test case that will pass if our function is working\n",
    "\n",
    "# so lets say you are testing function with 3 parameters\n",
    "# the first test case should be with all parameters at their minimum values\n",
    "# the second test case should be with all parameters at their maximum values\n",
    "# the third test case should be with all parameters at their average values\n",
    "# the fourth test case should be with all parameters at their median values\n",
    "# the fifth test case should be with all parameters at their mode values\n",
    "# the sixth test case should be with all parameters at their random values\n",
    "# the seventh test case should be with all parameters at their extreme values - similar to minimum and maximum but not exactly\n",
    "# typically you also would want to test all 0 values and all 1 values\n",
    "# or for strings you would want to test empty string and a string with one character\n",
    "# or for lists you would want to test empty list and a list with one element\n",
    "# or for dictionaries you would want to test empty dictionary and a dictionary with one key value pair\n",
    "# or for sets you would want to test empty set and a set with one element\n",
    "\n",
    "# again you can't cover all possible cases but you can cover most of them"
   ]
  },
  {
   "cell_type": "code",
   "execution_count": 13,
   "metadata": {},
   "outputs": [
    {
     "name": "stdout",
     "output_type": "stream",
     "text": [
      "Testing radius 1\n",
      "Testing function add\n",
      "Result is 2\n",
      "Testing function multiply\n",
      "Result is 1\n",
      "Testing function divide\n",
      "Result is 1.0\n",
      "Testing function subtract\n",
      "Result is 0\n",
      "Testing radius 2\n",
      "Testing function add\n",
      "Result is 4\n",
      "Testing function multiply\n",
      "Result is 4\n",
      "Testing function divide\n",
      "Result is 1.0\n",
      "Testing function subtract\n",
      "Result is 0\n",
      "Testing radius 3\n",
      "Testing function add\n",
      "Result is 6\n",
      "Testing function multiply\n",
      "Result is 9\n",
      "Testing function divide\n",
      "Result is 1.0\n",
      "Testing function subtract\n",
      "Result is 0\n",
      "Testing radius 4\n",
      "Testing function add\n",
      "Result is 8\n",
      "Testing function multiply\n",
      "Result is 16\n",
      "Testing function divide\n",
      "Result is 1.0\n",
      "Testing function subtract\n",
      "Result is 0\n",
      "Testing radius 5\n",
      "Testing function add\n",
      "Result is 10\n",
      "Testing function multiply\n",
      "Result is 25\n",
      "Testing function divide\n",
      "Result is 1.0\n",
      "Testing function subtract\n",
      "Result is 0\n"
     ]
    }
   ],
   "source": [
    "# how would you do integration testing?\n",
    "\n",
    "# reminder that integration testing is testing how different parts of your code work together\n",
    "\n",
    "# so you have two different functions\n",
    "# you can test them separately - unit testing\n",
    "# but you can also test them together - integration testing\n",
    "\n",
    "# example of integration testing\n",
    "\n",
    "# lets say we have a function that adds two numbers\n",
    "def add(a, b):\n",
    "    return a + b\n",
    "\n",
    "# and we have a function that multiplies two numbers\n",
    "\n",
    "def multiply(a, b):\n",
    "    return a * b\n",
    "\n",
    "# and we have a function that divides two numbers\n",
    "\n",
    "def divide(a, b):\n",
    "    return a / b\n",
    "\n",
    "# and we have a function that subtracts two numbers\n",
    "\n",
    "def subtract(a, b):\n",
    "    return a - b\n",
    "\n",
    "# and we have a function that calculates the area of a circle\n",
    "\n",
    "# def circle_area(r):\n",
    "#     return 3.14 * r * r\n",
    "\n",
    "# how to test these functions together?\n",
    "\n",
    "# lets say we have a function that calculates the area of a circle\n",
    "# and we want to test it with different radii\n",
    "# and we want to test it with different functions\n",
    "\n",
    "# we can use a for loop to test different radii\n",
    "# and we can use a for loop to test different functions\n",
    "\n",
    "# lets create a list of functions\n",
    "# remember in Python functions are first class objects you can pass them around\n",
    "functions = [add, multiply, divide, subtract]\n",
    "\n",
    "# lets create a list of radii\n",
    "radii = [1, 2, 3, 4, 5]\n",
    "\n",
    "# lets create a for loop to test different radii\n",
    "\n",
    "for radius in radii:\n",
    "    print(f\"Testing radius {radius}\")\n",
    "    for func in functions:\n",
    "        print(f\"Testing function {func.__name__}\")\n",
    "        print(f\"Result is {func(radius, radius)}\")\n",
    "\n",
    "# full integration test would be to test all possible combinations of functions and radii"
   ]
  }
 ],
 "metadata": {
  "kernelspec": {
   "display_name": "Python 3.10.7 ('venv': venv)",
   "language": "python",
   "name": "python3"
  },
  "language_info": {
   "codemirror_mode": {
    "name": "ipython",
    "version": 3
   },
   "file_extension": ".py",
   "mimetype": "text/x-python",
   "name": "python",
   "nbconvert_exporter": "python",
   "pygments_lexer": "ipython3",
   "version": "3.10.7"
  },
  "orig_nbformat": 4,
  "vscode": {
   "interpreter": {
    "hash": "b80708c7bd38bd96dc15c82484a40621665f8a1d2e88ebc3c5ed926cece63585"
   }
  }
 },
 "nbformat": 4,
 "nbformat_minor": 2
}
