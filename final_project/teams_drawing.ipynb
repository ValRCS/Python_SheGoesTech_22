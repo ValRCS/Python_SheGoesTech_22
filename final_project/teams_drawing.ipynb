{
 "cells": [
  {
   "cell_type": "code",
   "execution_count": 1,
   "metadata": {},
   "outputs": [],
   "source": [
    "import random\n"
   ]
  },
  {
   "cell_type": "code",
   "execution_count": 6,
   "metadata": {},
   "outputs": [
    {
     "data": {
      "text/plain": [
       "[('Zane', 'Daiga'), ('Valerija',), ('Renata',), ('Svetlana',), ('Dovile',)]"
      ]
     },
     "execution_count": 6,
     "metadata": {},
     "output_type": "execute_result"
    }
   ],
   "source": [
    "teams = [('Zane', 'Daiga')]\n",
    "teams += [('Valerija',)]\n",
    "teams.append(('Renata',))\n",
    "teams.append(('Svetlana',))\n",
    "teams.append(('Dovile',))\n",
    "teams"
   ]
  },
  {
   "cell_type": "code",
   "execution_count": 7,
   "metadata": {},
   "outputs": [
    {
     "data": {
      "text/plain": [
       "['Evija', 'Grazina', 'IevaZ', 'Kristine', 'Ugne', 'Anastasia', 'Olga']"
      ]
     },
     "execution_count": 7,
     "metadata": {},
     "output_type": "execute_result"
    }
   ],
   "source": [
    "students = [\n",
    "    'Evija',\n",
    "    'Grazina',\n",
    "    'IevaZ',\n",
    "    'Kristine',\n",
    "    'Ugne',\n",
    "    'Anastasia',\n",
    "    'Olga'\n",
    "]\n",
    "students"
   ]
  },
  {
   "cell_type": "code",
   "execution_count": 8,
   "metadata": {},
   "outputs": [
    {
     "data": {
      "text/plain": [
       "['IevaZ', 'Ugne', 'Evija', 'Grazina', 'Kristine', 'Anastasia', 'Olga']"
      ]
     },
     "execution_count": 8,
     "metadata": {},
     "output_type": "execute_result"
    }
   ],
   "source": [
    "random.shuffle(students)\n",
    "students"
   ]
  },
  {
   "cell_type": "code",
   "execution_count": 9,
   "metadata": {},
   "outputs": [
    {
     "data": {
      "text/plain": [
       "[('Olga', 'Anastasia'), ('Kristine', 'Grazina'), ('Evija', 'Ugne')]"
      ]
     },
     "execution_count": 9,
     "metadata": {},
     "output_type": "execute_result"
    }
   ],
   "source": [
    "new_teams = [(students.pop(), students.pop()) for _ in range(3)]\n",
    "new_teams"
   ]
  },
  {
   "cell_type": "code",
   "execution_count": 10,
   "metadata": {},
   "outputs": [
    {
     "data": {
      "text/plain": [
       "[('Olga', 'Anastasia'), ('Kristine', 'Grazina'), ('IevaZ', 'Ugne'), ('Evija',)]"
      ]
     },
     "execution_count": 10,
     "metadata": {},
     "output_type": "execute_result"
    }
   ],
   "source": [
    "new_teams.pop()\n",
    "new_teams.append((\"IevaZ\",\"Ugne\"))\n",
    "new_teams.append((\"Evija\",))\n",
    "new_teams"
   ]
  },
  {
   "cell_type": "code",
   "execution_count": 11,
   "metadata": {},
   "outputs": [
    {
     "data": {
      "text/plain": [
       "[('Zane', 'Daiga'),\n",
       " ('Valerija',),\n",
       " ('Renata',),\n",
       " ('Svetlana',),\n",
       " ('Dovile',),\n",
       " ('Olga', 'Anastasia'),\n",
       " ('Kristine', 'Grazina'),\n",
       " ('IevaZ', 'Ugne'),\n",
       " ('Evija',)]"
      ]
     },
     "execution_count": 11,
     "metadata": {},
     "output_type": "execute_result"
    }
   ],
   "source": [
    "teams.extend(new_teams)\n",
    "teams"
   ]
  }
 ],
 "metadata": {
  "kernelspec": {
   "display_name": "Python 3.10.7 ('venv': venv)",
   "language": "python",
   "name": "python3"
  },
  "language_info": {
   "codemirror_mode": {
    "name": "ipython",
    "version": 3
   },
   "file_extension": ".py",
   "mimetype": "text/x-python",
   "name": "python",
   "nbconvert_exporter": "python",
   "pygments_lexer": "ipython3",
   "version": "3.10.7"
  },
  "orig_nbformat": 4,
  "vscode": {
   "interpreter": {
    "hash": "b80708c7bd38bd96dc15c82484a40621665f8a1d2e88ebc3c5ed926cece63585"
   }
  }
 },
 "nbformat": 4,
 "nbformat_minor": 2
}
