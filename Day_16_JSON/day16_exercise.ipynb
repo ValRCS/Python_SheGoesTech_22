{
 "cells": [
  {
   "cell_type": "markdown",
   "metadata": {},
   "source": [
    "# Getting Data from JSON API"
   ]
  },
  {
   "cell_type": "markdown",
   "metadata": {},
   "source": [
    "* API stands for Application Programming Interface - \n",
    "* sort of open specification for how to interact with a web service\n",
    "* TODO\n",
    "* read JSON from some public url\n",
    "* some ideas here: https://github.com/public-apis/public-apis\n",
    "* also https://jsonplaceholder.typicode.com/\n",
    "* https://mockaroo.com/ - requires registration to generate API key\n",
    "* choose ones that don't require authentication\n",
    "* many APIs are run by volunteers, so they may be slow or unreliable, or down\n",
    "* paid APIs are often faster and more reliable\n",
    "\n",
    "* TODO\n",
    "* parse JSON using requests\n",
    "* print out the data\n",
    "* bonus save the data into a file of some sort, could be JSON could be something else\n",
    "\n",
    "* you can write using notebook .ipynb or script .py"
   ]
  },
  {
   "cell_type": "code",
   "execution_count": 1,
   "metadata": {},
   "outputs": [],
   "source": [
    "import pandas as pd\n",
    "import requests\n",
    "import json"
   ]
  },
  {
   "cell_type": "code",
   "execution_count": 4,
   "metadata": {},
   "outputs": [
    {
     "data": {
      "text/plain": [
       "'https://emojihub.herokuapp.com/api/all/category_food_and_drink'"
      ]
     },
     "execution_count": 4,
     "metadata": {},
     "output_type": "execute_result"
    }
   ],
   "source": [
    "category_name='food_and_drink'\n",
    "link = 'https://emojihub.herokuapp.com/api/all/category_'+category_name\n",
    "link"
   ]
  },
  {
   "cell_type": "code",
   "execution_count": 5,
   "metadata": {},
   "outputs": [
    {
     "name": "stdout",
     "output_type": "stream",
     "text": [
      "Good Response:  200\n"
     ]
    },
    {
     "data": {
      "text/plain": [
       "list"
      ]
     },
     "execution_count": 5,
     "metadata": {},
     "output_type": "execute_result"
    }
   ],
   "source": [
    "response = requests.get(link)\n",
    "if response.status_code != 200:\n",
    "    print(\"Bad Response: \", response.status_code)\n",
    "    emojihub = None\n",
    "else:\n",
    "    print(\"Good Response: \", response.status_code)\n",
    "    emojihub = json.loads(response.text)\n",
    "    \n",
    "type(emojihub)"
   ]
  },
  {
   "cell_type": "code",
   "execution_count": 6,
   "metadata": {},
   "outputs": [],
   "source": [
    "# helper function to pretty print JSON\n",
    "# input: JSON string\n",
    "# output: pretty printed JSON string\n",
    "def prettyJSON(myjson, indent=4):\n",
    "    return json.dumps(json.loads(myjson), indent=indent)"
   ]
  },
  {
   "cell_type": "code",
   "execution_count": 7,
   "metadata": {},
   "outputs": [],
   "source": [
    "with open('emojihub.json', mode='w') as f:\n",
    "    f.write(json.dumps(emojihub,indent=4))"
   ]
  },
  {
   "cell_type": "code",
   "execution_count": 9,
   "metadata": {},
   "outputs": [
    {
     "data": {
      "text/plain": [
       "('🍏', '🍐')"
      ]
     },
     "execution_count": 9,
     "metadata": {},
     "output_type": "execute_result"
    }
   ],
   "source": [
    "from ast import BinOp\n",
    "\n",
    "\n",
    "chr(127823), chr(127824)"
   ]
  },
  {
   "cell_type": "code",
   "execution_count": 11,
   "metadata": {},
   "outputs": [
    {
     "name": "stdout",
     "output_type": "stream",
     "text": [
      "Bad Response:  404\n"
     ]
    },
    {
     "data": {
      "text/plain": [
       "NoneType"
      ]
     },
     "execution_count": 11,
     "metadata": {},
     "output_type": "execute_result"
    }
   ],
   "source": [
    "# song_url = 'https://api.lyrics.ovh/v1/Ed Sheeran/Perfect'\t# Ed Sheeran - Perfect\n",
    "# song_url = 'https://api.lyrics.ovh/v1/Ed Sheeran/Shape of You'\t# Ed Sheeran - Shape of You\n",
    "# song_url = 'https://api.lyrics.ovh/v1/Ed Sheeran/Thinking Out Loud'\t# Ed Sheeran - Thinking Out Loud\n",
    "song_url = 'https://api.lyrics.ovh/v1/Abba/Waterloo'\t# Ed Sheeran - Photograph\n",
    "response = requests.get(song_url)\n",
    "if response.status_code != 200:\n",
    "    print(\"Bad Response: \", response.status_code)\n",
    "    song = None\n",
    "else:\n",
    "    print(\"Good Response: \", response.status_code)\n",
    "    song = json.loads(response.text)\n",
    "type(song)b"
   ]
  },
  {
   "cell_type": "code",
   "execution_count": 12,
   "metadata": {},
   "outputs": [
    {
     "data": {
      "text/plain": [
       "'https://www.songsterr.com/a/ra/songs.json?pattern=Santana'"
      ]
     },
     "execution_count": 12,
     "metadata": {},
     "output_type": "execute_result"
    }
   ],
   "source": [
    "song_url_base = \"https://www.songsterr.com/a/ra/songs.json?pattern=\"\n",
    "artist = \"Santana\"\n",
    "url = song_url_base + artist # could use f-string here\n",
    "url"
   ]
  },
  {
   "cell_type": "code",
   "execution_count": 13,
   "metadata": {},
   "outputs": [],
   "source": [
    "def getJSON(url):\n",
    "    response = requests.get(url)\n",
    "    if response.status_code != 200:\n",
    "        print(\"Bad Response: \", response.status_code)\n",
    "        return None # alternative would be empty list or dict\n",
    "    else:\n",
    "        print(\"Good Response: \", response.status_code)\n",
    "        return json.loads(response.text)"
   ]
  },
  {
   "cell_type": "code",
   "execution_count": 14,
   "metadata": {},
   "outputs": [
    {
     "name": "stdout",
     "output_type": "stream",
     "text": [
      "Good Response:  200\n"
     ]
    }
   ],
   "source": [
    "song_data = getJSON(url)"
   ]
  },
  {
   "cell_type": "code",
   "execution_count": 15,
   "metadata": {},
   "outputs": [
    {
     "data": {
      "text/plain": [
       "{'id': 17608,\n",
       " 'type': 'Song',\n",
       " 'title': 'Smooth',\n",
       " 'artist': {'id': 4978,\n",
       "  'type': 'Artist',\n",
       "  'nameWithoutThePrefix': 'Carlos Santana',\n",
       "  'useThePrefix': False,\n",
       "  'name': 'Carlos Santana'},\n",
       " 'chordsPresent': True,\n",
       " 'tabTypes': ['PLAYER', 'TEXT_GUITAR_TAB', 'CHORDS']}"
      ]
     },
     "execution_count": 15,
     "metadata": {},
     "output_type": "execute_result"
    }
   ],
   "source": [
    "first_song = song_data[0]\n",
    "first_song"
   ]
  },
  {
   "cell_type": "code",
   "execution_count": 18,
   "metadata": {},
   "outputs": [],
   "source": [
    "# we are allowed to change dictionary values while iterating\n",
    "# but we can't change the keys\n",
    "for song in song_data:\n",
    "    song[\"artist\"] = song[\"artist\"][\"name\"] # right side is evaluated first\n",
    "    # so we are replacing the artist dict with just the name"
   ]
  },
  {
   "cell_type": "code",
   "execution_count": 16,
   "metadata": {},
   "outputs": [
    {
     "data": {
      "text/plain": [
       "3"
      ]
     },
     "execution_count": 16,
     "metadata": {},
     "output_type": "execute_result"
    }
   ],
   "source": [
    "tab_lengths = [len(song[\"tabTypes\"]) for song in song_data]\n",
    "max(tab_lengths)"
   ]
  },
  {
   "cell_type": "code",
   "execution_count": null,
   "metadata": {},
   "outputs": [],
   "source": [
    "# so we could make 3 new keys for each tab type\n",
    "# if you had say 10 tab types, you would have 10 new keys\n",
    "# not very practical for large data sets"
   ]
  },
  {
   "cell_type": "code",
   "execution_count": 19,
   "metadata": {},
   "outputs": [
    {
     "data": {
      "text/plain": [
       "[{'id': 17608,\n",
       "  'type': 'Song',\n",
       "  'title': 'Smooth',\n",
       "  'artist': 'Carlos Santana',\n",
       "  'chordsPresent': True,\n",
       "  'tabTypes': ['PLAYER', 'TEXT_GUITAR_TAB', 'CHORDS']},\n",
       " {'id': 451,\n",
       "  'type': 'Song',\n",
       "  'title': 'Europa',\n",
       "  'artist': 'Carlos Santana',\n",
       "  'chordsPresent': False,\n",
       "  'tabTypes': ['PLAYER', 'TEXT_GUITAR_TAB']},\n",
       " {'id': 357,\n",
       "  'type': 'Song',\n",
       "  'title': 'Black Magic Woman',\n",
       "  'artist': 'Carlos Santana',\n",
       "  'chordsPresent': True,\n",
       "  'tabTypes': ['PLAYER', 'TEXT_GUITAR_TAB', 'CHORDS']}]"
      ]
     },
     "execution_count": 19,
     "metadata": {},
     "output_type": "execute_result"
    }
   ],
   "source": [
    "song_data[:3]"
   ]
  },
  {
   "cell_type": "code",
   "execution_count": 20,
   "metadata": {},
   "outputs": [
    {
     "data": {
      "text/html": [
       "<div>\n",
       "<style scoped>\n",
       "    .dataframe tbody tr th:only-of-type {\n",
       "        vertical-align: middle;\n",
       "    }\n",
       "\n",
       "    .dataframe tbody tr th {\n",
       "        vertical-align: top;\n",
       "    }\n",
       "\n",
       "    .dataframe thead th {\n",
       "        text-align: right;\n",
       "    }\n",
       "</style>\n",
       "<table border=\"1\" class=\"dataframe\">\n",
       "  <thead>\n",
       "    <tr style=\"text-align: right;\">\n",
       "      <th></th>\n",
       "      <th>id</th>\n",
       "      <th>type</th>\n",
       "      <th>title</th>\n",
       "      <th>artist</th>\n",
       "      <th>chordsPresent</th>\n",
       "      <th>tabTypes</th>\n",
       "    </tr>\n",
       "  </thead>\n",
       "  <tbody>\n",
       "    <tr>\n",
       "      <th>0</th>\n",
       "      <td>17608</td>\n",
       "      <td>Song</td>\n",
       "      <td>Smooth</td>\n",
       "      <td>Carlos Santana</td>\n",
       "      <td>True</td>\n",
       "      <td>[PLAYER, TEXT_GUITAR_TAB, CHORDS]</td>\n",
       "    </tr>\n",
       "    <tr>\n",
       "      <th>1</th>\n",
       "      <td>451</td>\n",
       "      <td>Song</td>\n",
       "      <td>Europa</td>\n",
       "      <td>Carlos Santana</td>\n",
       "      <td>False</td>\n",
       "      <td>[PLAYER, TEXT_GUITAR_TAB]</td>\n",
       "    </tr>\n",
       "    <tr>\n",
       "      <th>2</th>\n",
       "      <td>357</td>\n",
       "      <td>Song</td>\n",
       "      <td>Black Magic Woman</td>\n",
       "      <td>Carlos Santana</td>\n",
       "      <td>True</td>\n",
       "      <td>[PLAYER, TEXT_GUITAR_TAB, CHORDS]</td>\n",
       "    </tr>\n",
       "    <tr>\n",
       "      <th>3</th>\n",
       "      <td>461961</td>\n",
       "      <td>Song</td>\n",
       "      <td>Smooth accurate</td>\n",
       "      <td>Santana</td>\n",
       "      <td>False</td>\n",
       "      <td>[PLAYER]</td>\n",
       "    </tr>\n",
       "    <tr>\n",
       "      <th>4</th>\n",
       "      <td>408283</td>\n",
       "      <td>Song</td>\n",
       "      <td>Jungle Strut</td>\n",
       "      <td>Carlos Santana</td>\n",
       "      <td>False</td>\n",
       "      <td>[PLAYER]</td>\n",
       "    </tr>\n",
       "  </tbody>\n",
       "</table>\n",
       "</div>"
      ],
      "text/plain": [
       "       id  type              title          artist  chordsPresent  \\\n",
       "0   17608  Song             Smooth  Carlos Santana           True   \n",
       "1     451  Song             Europa  Carlos Santana          False   \n",
       "2     357  Song  Black Magic Woman  Carlos Santana           True   \n",
       "3  461961  Song    Smooth accurate         Santana          False   \n",
       "4  408283  Song       Jungle Strut  Carlos Santana          False   \n",
       "\n",
       "                            tabTypes  \n",
       "0  [PLAYER, TEXT_GUITAR_TAB, CHORDS]  \n",
       "1          [PLAYER, TEXT_GUITAR_TAB]  \n",
       "2  [PLAYER, TEXT_GUITAR_TAB, CHORDS]  \n",
       "3                           [PLAYER]  \n",
       "4                           [PLAYER]  "
      ]
     },
     "execution_count": 20,
     "metadata": {},
     "output_type": "execute_result"
    }
   ],
   "source": [
    "df = pd.DataFrame(song_data)\n",
    "df.head()"
   ]
  },
  {
   "cell_type": "code",
   "execution_count": 21,
   "metadata": {},
   "outputs": [],
   "source": [
    "df.to_csv('santana_songs.csv', index=False)"
   ]
  },
  {
   "cell_type": "code",
   "execution_count": 23,
   "metadata": {},
   "outputs": [
    {
     "data": {
      "text/plain": [
       "[{'id': 17608,\n",
       "  'type': 'Song',\n",
       "  'title': 'Smooth',\n",
       "  'artist': 'Carlos Santana',\n",
       "  'chordsPresent': True,\n",
       "  'tabTypes': ['PLAYER', 'TEXT_GUITAR_TAB', 'CHORDS']},\n",
       " {'id': 451,\n",
       "  'type': 'Song',\n",
       "  'title': 'Europa',\n",
       "  'artist': 'Carlos Santana',\n",
       "  'chordsPresent': False,\n",
       "  'tabTypes': ['PLAYER', 'TEXT_GUITAR_TAB']},\n",
       " {'id': 357,\n",
       "  'type': 'Song',\n",
       "  'title': 'Black Magic Woman',\n",
       "  'artist': 'Carlos Santana',\n",
       "  'chordsPresent': True,\n",
       "  'tabTypes': ['PLAYER', 'TEXT_GUITAR_TAB', 'CHORDS']},\n",
       " {'id': 461961,\n",
       "  'type': 'Song',\n",
       "  'title': 'Smooth accurate',\n",
       "  'artist': 'Santana',\n",
       "  'chordsPresent': False,\n",
       "  'tabTypes': ['PLAYER']},\n",
       " {'id': 408283,\n",
       "  'type': 'Song',\n",
       "  'title': 'Jungle Strut',\n",
       "  'artist': 'Carlos Santana',\n",
       "  'chordsPresent': False,\n",
       "  'tabTypes': ['PLAYER']},\n",
       " {'id': 23164,\n",
       "  'type': 'Song',\n",
       "  'title': 'Into The Night (Ft. Chad Kroeger)',\n",
       "  'artist': 'Carlos Santana',\n",
       "  'chordsPresent': False,\n",
       "  'tabTypes': ['PLAYER']},\n",
       " {'id': 408286,\n",
       "  'type': 'Song',\n",
       "  'title': \"She's Not There\",\n",
       "  'artist': 'Carlos Santana',\n",
       "  'chordsPresent': False,\n",
       "  'tabTypes': ['PLAYER']},\n",
       " {'id': 17329,\n",
       "  'type': 'Song',\n",
       "  'title': 'Samba Pa Ti',\n",
       "  'artist': 'Carlos Santana',\n",
       "  'chordsPresent': False,\n",
       "  'tabTypes': ['PLAYER', 'TEXT_GUITAR_TAB']},\n",
       " {'id': 408287,\n",
       "  'type': 'Song',\n",
       "  'title': \"Hope You're Feeling Better\",\n",
       "  'artist': 'Carlos Santana',\n",
       "  'chordsPresent': False,\n",
       "  'tabTypes': ['PLAYER']},\n",
       " {'id': 23842,\n",
       "  'type': 'Song',\n",
       "  'title': 'Maria Maria',\n",
       "  'artist': 'Carlos Santana',\n",
       "  'chordsPresent': True,\n",
       "  'tabTypes': ['PLAYER', 'TEXT_GUITAR_TAB', 'CHORDS']},\n",
       " {'id': 17491,\n",
       "  'type': 'Song',\n",
       "  'title': 'Corazon Espinado',\n",
       "  'artist': 'Carlos Santana',\n",
       "  'chordsPresent': False,\n",
       "  'tabTypes': ['PLAYER', 'TEXT_GUITAR_TAB']},\n",
       " {'id': 408284,\n",
       "  'type': 'Song',\n",
       "  'title': 'Se A Cabo',\n",
       "  'artist': 'Carlos Santana',\n",
       "  'chordsPresent': False,\n",
       "  'tabTypes': ['PLAYER']},\n",
       " {'id': 61155,\n",
       "  'type': 'Song',\n",
       "  'title': 'Oye Como Va',\n",
       "  'artist': 'Carlos Santana',\n",
       "  'chordsPresent': False,\n",
       "  'tabTypes': ['PLAYER', 'TEXT_GUITAR_TAB']},\n",
       " {'id': 92229,\n",
       "  'type': 'Song',\n",
       "  'title': 'Europa',\n",
       "  'artist': 'Carlos Santana',\n",
       "  'chordsPresent': False,\n",
       "  'tabTypes': ['PLAYER', 'TEXT_BASS_TAB']},\n",
       " {'id': 17440,\n",
       "  'type': 'Song',\n",
       "  'title': 'Song Of The Wind',\n",
       "  'artist': 'Carlos Santana',\n",
       "  'chordsPresent': False,\n",
       "  'tabTypes': ['PLAYER', 'TEXT_GUITAR_TAB']},\n",
       " {'id': 18236,\n",
       "  'type': 'Song',\n",
       "  'title': 'Chill Out',\n",
       "  'artist': 'Carlos Santana',\n",
       "  'chordsPresent': True,\n",
       "  'tabTypes': ['PLAYER', 'TEXT_GUITAR_TAB', 'CHORDS']},\n",
       " {'id': 17687,\n",
       "  'type': 'Song',\n",
       "  'title': 'El Farol',\n",
       "  'artist': 'Carlos Santana',\n",
       "  'chordsPresent': False,\n",
       "  'tabTypes': ['PLAYER', 'TEXT_GUITAR_TAB']},\n",
       " {'id': 17659,\n",
       "  'type': 'Song',\n",
       "  'title': 'Moonflower',\n",
       "  'artist': 'Carlos Santana',\n",
       "  'chordsPresent': False,\n",
       "  'tabTypes': ['PLAYER', 'TEXT_GUITAR_TAB']},\n",
       " {'id': 17534,\n",
       "  'type': 'Song',\n",
       "  'title': 'Game Of Love',\n",
       "  'artist': 'Carlos Santana',\n",
       "  'chordsPresent': True,\n",
       "  'tabTypes': ['PLAYER', 'TEXT_GUITAR_TAB', 'CHORDS']},\n",
       " {'id': 17489,\n",
       "  'type': 'Song',\n",
       "  'title': 'Hold On',\n",
       "  'artist': 'Carlos Santana',\n",
       "  'chordsPresent': False,\n",
       "  'tabTypes': ['PLAYER', 'TEXT_GUITAR_TAB']},\n",
       " {'id': 17759,\n",
       "  'type': 'Song',\n",
       "  'title': 'Sensitive Kind',\n",
       "  'artist': 'Carlos Santana',\n",
       "  'chordsPresent': True,\n",
       "  'tabTypes': ['PLAYER', 'TEXT_GUITAR_TAB', 'CHORDS']},\n",
       " {'id': 17673,\n",
       "  'type': 'Song',\n",
       "  'title': \"Why Don't You & I\",\n",
       "  'artist': 'Carlos Santana',\n",
       "  'chordsPresent': False,\n",
       "  'tabTypes': ['PLAYER']},\n",
       " {'id': 17523,\n",
       "  'type': 'Song',\n",
       "  'title': \"Everybody's Everything\",\n",
       "  'artist': 'Carlos Santana',\n",
       "  'chordsPresent': False,\n",
       "  'tabTypes': ['PLAYER', 'TEXT_GUITAR_TAB']},\n",
       " {'id': 17500,\n",
       "  'type': 'Song',\n",
       "  'title': 'Move On',\n",
       "  'artist': 'Carlos Santana',\n",
       "  'chordsPresent': False,\n",
       "  'tabTypes': ['PLAYER']},\n",
       " {'id': 17666,\n",
       "  'type': 'Song',\n",
       "  'title': 'Victory Is Won',\n",
       "  'artist': 'Carlos Santana',\n",
       "  'chordsPresent': False,\n",
       "  'tabTypes': ['PLAYER', 'TEXT_GUITAR_TAB']},\n",
       " {'id': 18115,\n",
       "  'type': 'Song',\n",
       "  'title': 'Migra',\n",
       "  'artist': 'Carlos Santana',\n",
       "  'chordsPresent': False,\n",
       "  'tabTypes': ['PLAYER', 'TEXT_GUITAR_TAB']},\n",
       " {'id': 17443,\n",
       "  'type': 'Song',\n",
       "  'title': 'The Calling',\n",
       "  'artist': 'Carlos Santana',\n",
       "  'chordsPresent': False,\n",
       "  'tabTypes': ['PLAYER']},\n",
       " {'id': 18476,\n",
       "  'type': 'Song',\n",
       "  'title': '(Da Le) Yaleo',\n",
       "  'artist': 'Carlos Santana',\n",
       "  'chordsPresent': False,\n",
       "  'tabTypes': ['PLAYER', 'TEXT_GUITAR_TAB']},\n",
       " {'id': 386,\n",
       "  'type': 'Song',\n",
       "  'title': 'Evil Ways',\n",
       "  'artist': 'Carlos Santana',\n",
       "  'chordsPresent': True,\n",
       "  'tabTypes': ['PLAYER', 'TEXT_GUITAR_TAB', 'CHORDS']},\n",
       " {'id': 17533,\n",
       "  'type': 'Song',\n",
       "  'title': 'Soul Sacrifice',\n",
       "  'artist': 'Carlos Santana',\n",
       "  'chordsPresent': False,\n",
       "  'tabTypes': ['PLAYER', 'TEXT_GUITAR_TAB']},\n",
       " {'id': 17684,\n",
       "  'type': 'Song',\n",
       "  'title': 'Foo Foo',\n",
       "  'artist': 'Carlos Santana',\n",
       "  'chordsPresent': False,\n",
       "  'tabTypes': ['PLAYER', 'TEXT_GUITAR_TAB']},\n",
       " {'id': 27942,\n",
       "  'type': 'Song',\n",
       "  'title': 'Open Invitation',\n",
       "  'artist': 'Carlos Santana',\n",
       "  'chordsPresent': False,\n",
       "  'tabTypes': ['PLAYER', 'TEXT_GUITAR_TAB']},\n",
       " {'id': 27938,\n",
       "  'type': 'Song',\n",
       "  'title': 'America',\n",
       "  'artist': 'Carlos Santana',\n",
       "  'chordsPresent': False,\n",
       "  'tabTypes': ['PLAYER', 'TEXT_GUITAR_TAB']},\n",
       " {'id': 513336,\n",
       "  'type': 'Song',\n",
       "  'title': 'The Game of Love',\n",
       "  'artist': 'Santana',\n",
       "  'chordsPresent': False,\n",
       "  'tabTypes': ['PLAYER']},\n",
       " {'id': 17421,\n",
       "  'type': 'Song',\n",
       "  'title': 'Primavera',\n",
       "  'artist': 'Carlos Santana',\n",
       "  'chordsPresent': False,\n",
       "  'tabTypes': ['PLAYER', 'TEXT_GUITAR_TAB']},\n",
       " {'id': 17674,\n",
       "  'type': 'Song',\n",
       "  'title': 'Africa Bamba',\n",
       "  'artist': 'Carlos Santana',\n",
       "  'chordsPresent': True,\n",
       "  'tabTypes': ['PLAYER', 'TEXT_GUITAR_TAB', 'CHORDS']},\n",
       " {'id': 23551,\n",
       "  'type': 'Song',\n",
       "  'title': 'Put Your Lights On',\n",
       "  'artist': 'Carlos Santana',\n",
       "  'chordsPresent': True,\n",
       "  'tabTypes': ['PLAYER', 'TEXT_GUITAR_TAB', 'CHORDS']},\n",
       " {'id': 27949,\n",
       "  'type': 'Song',\n",
       "  'title': 'Feel Better',\n",
       "  'artist': 'Carlos Santana',\n",
       "  'chordsPresent': False,\n",
       "  'tabTypes': ['PLAYER']},\n",
       " {'id': 32346,\n",
       "  'type': 'Song',\n",
       "  'title': 'Into The Night',\n",
       "  'artist': 'Carlos Santana',\n",
       "  'chordsPresent': True,\n",
       "  'tabTypes': ['PLAYER', 'TEXT_GUITAR_TAB', 'CHORDS']},\n",
       " {'id': 62375,\n",
       "  'type': 'Song',\n",
       "  'title': 'Voce Nao Sabe O Que E O Amor',\n",
       "  'artist': 'Luan Santana',\n",
       "  'chordsPresent': False,\n",
       "  'tabTypes': ['PLAYER']},\n",
       " {'id': 66904,\n",
       "  'type': 'Song',\n",
       "  'title': 'Hoy Es Adios',\n",
       "  'artist': 'Carlos Santana',\n",
       "  'chordsPresent': False,\n",
       "  'tabTypes': ['PLAYER', 'TEXT_GUITAR_TAB']},\n",
       " {'id': 81573,\n",
       "  'type': 'Song',\n",
       "  'title': 'Carnaval (Basic Frame Work)',\n",
       "  'artist': 'Carlos Santana',\n",
       "  'chordsPresent': False,\n",
       "  'tabTypes': ['PLAYER']},\n",
       " {'id': 87057,\n",
       "  'type': 'Song',\n",
       "  'title': 'Bella',\n",
       "  'artist': 'Carlos Santana',\n",
       "  'chordsPresent': False,\n",
       "  'tabTypes': ['PLAYER', 'TEXT_GUITAR_TAB']},\n",
       " {'id': 87607,\n",
       "  'type': 'Song',\n",
       "  'title': 'Europa (Acoustic)',\n",
       "  'artist': 'Carlos Santana',\n",
       "  'chordsPresent': False,\n",
       "  'tabTypes': ['PLAYER']},\n",
       " {'id': 89586,\n",
       "  'type': 'Song',\n",
       "  'title': 'Magic Black Woman',\n",
       "  'artist': 'Carlos Santana',\n",
       "  'chordsPresent': False,\n",
       "  'tabTypes': ['PLAYER']},\n",
       " {'id': 92327,\n",
       "  'type': 'Song',\n",
       "  'title': 'Just Feel Better',\n",
       "  'artist': 'Carlos Santana',\n",
       "  'chordsPresent': True,\n",
       "  'tabTypes': ['PLAYER', 'TEXT_GUITAR_TAB', 'CHORDS']},\n",
       " {'id': 269287,\n",
       "  'type': 'Song',\n",
       "  'title': 'Just Feel Better (Ft. Steven Tyler)',\n",
       "  'artist': 'Carlos Santana',\n",
       "  'chordsPresent': False,\n",
       "  'tabTypes': ['PLAYER']},\n",
       " {'id': 388427,\n",
       "  'type': 'Song',\n",
       "  'title': 'Gypsy Queen',\n",
       "  'artist': 'Carlos Santana',\n",
       "  'chordsPresent': False,\n",
       "  'tabTypes': ['PLAYER']},\n",
       " {'id': 388491,\n",
       "  'type': 'Song',\n",
       "  'title': 'Game Of Love',\n",
       "  'artist': 'Carlos Santana',\n",
       "  'chordsPresent': False,\n",
       "  'tabTypes': ['PLAYER']},\n",
       " {'id': 389282,\n",
       "  'type': 'Song',\n",
       "  'title': 'Samba Pa Ti',\n",
       "  'artist': 'Carlos Santana',\n",
       "  'chordsPresent': False,\n",
       "  'tabTypes': ['PLAYER']},\n",
       " {'id': 395487,\n",
       "  'type': 'Song',\n",
       "  'title': 'Smooth',\n",
       "  'artist': 'Carlos Santana / Rob Thomas',\n",
       "  'chordsPresent': False,\n",
       "  'tabTypes': ['PLAYER']},\n",
       " {'id': 401774,\n",
       "  'type': 'Song',\n",
       "  'title': 'Black Magic Woman (Santana Cover)',\n",
       "  'artist': 'Rubén',\n",
       "  'chordsPresent': False,\n",
       "  'tabTypes': ['PLAYER']},\n",
       " {'id': 408278,\n",
       "  'type': 'Song',\n",
       "  'title': 'Let The Children Play',\n",
       "  'artist': 'Carlos Santana',\n",
       "  'chordsPresent': False,\n",
       "  'tabTypes': ['PLAYER']},\n",
       " {'id': 408279,\n",
       "  'type': 'Song',\n",
       "  'title': 'Las Mananitas',\n",
       "  'artist': 'Carlos Santana',\n",
       "  'chordsPresent': False,\n",
       "  'tabTypes': ['PLAYER']},\n",
       " {'id': 408280,\n",
       "  'type': 'Song',\n",
       "  'title': 'Jingo',\n",
       "  'artist': 'Carlos Santana',\n",
       "  'chordsPresent': False,\n",
       "  'tabTypes': ['PLAYER']},\n",
       " {'id': 408281,\n",
       "  'type': 'Song',\n",
       "  'title': 'Incident At Neshabur',\n",
       "  'artist': 'Carlos Santana',\n",
       "  'chordsPresent': False,\n",
       "  'tabTypes': ['PLAYER']},\n",
       " {'id': 408282,\n",
       "  'type': 'Song',\n",
       "  'title': 'Hannibal',\n",
       "  'artist': 'Carlos Santana',\n",
       "  'chordsPresent': False,\n",
       "  'tabTypes': ['PLAYER']},\n",
       " {'id': 408285,\n",
       "  'type': 'Song',\n",
       "  'title': 'Curacion Sunlight On Water',\n",
       "  'artist': 'Carlos Santana',\n",
       "  'chordsPresent': False,\n",
       "  'tabTypes': ['PLAYER']},\n",
       " {'id': 408288,\n",
       "  'type': 'Song',\n",
       "  'title': 'Persuasion',\n",
       "  'artist': 'Carlos Santana',\n",
       "  'chordsPresent': False,\n",
       "  'tabTypes': ['PLAYER']},\n",
       " {'id': 408289,\n",
       "  'type': 'Song',\n",
       "  'title': 'Naima Featuring John Mclaughlin',\n",
       "  'artist': 'Carlos Santana',\n",
       "  'chordsPresent': False,\n",
       "  'tabTypes': ['PLAYER']},\n",
       " {'id': 408290,\n",
       "  'type': 'Song',\n",
       "  'title': 'Everythings Coming Our Way',\n",
       "  'artist': 'Carlos Santana',\n",
       "  'chordsPresent': False,\n",
       "  'tabTypes': ['PLAYER']},\n",
       " {'id': 408291,\n",
       "  'type': 'Song',\n",
       "  'title': 'Toussaint Louverture',\n",
       "  'artist': 'Carlos Santana',\n",
       "  'chordsPresent': False,\n",
       "  'tabTypes': ['PLAYER']},\n",
       " {'id': 18380,\n",
       "  'type': 'Song',\n",
       "  'title': \"Flor D'luna\",\n",
       "  'artist': 'Carlos Santana',\n",
       "  'chordsPresent': False,\n",
       "  'tabTypes': ['PLAYER', 'TEXT_GUITAR_TAB']},\n",
       " {'id': 435559,\n",
       "  'type': 'Song',\n",
       "  'title': 'Oye Como Va',\n",
       "  'artist': 'Santana',\n",
       "  'chordsPresent': False,\n",
       "  'tabTypes': ['PLAYER']},\n",
       " {'id': 437635,\n",
       "  'type': 'Song',\n",
       "  'title': 'Woman',\n",
       "  'artist': 'Carlos Santana',\n",
       "  'chordsPresent': False,\n",
       "  'tabTypes': ['PLAYER']},\n",
       " {'id': 440836,\n",
       "  'type': 'Song',\n",
       "  'title': 'Amar Não É Pecado',\n",
       "  'artist': 'Luan Santana',\n",
       "  'chordsPresent': False,\n",
       "  'tabTypes': ['PLAYER']},\n",
       " {'id': 17847,\n",
       "  'type': 'Song',\n",
       "  'title': 'I Love You Too Much',\n",
       "  'artist': 'Carlos Santana',\n",
       "  'chordsPresent': False,\n",
       "  'tabTypes': ['PLAYER']},\n",
       " {'id': 480051,\n",
       "  'type': 'Song',\n",
       "  'title': 'moonflower',\n",
       "  'artist': 'Santana',\n",
       "  'chordsPresent': False,\n",
       "  'tabTypes': ['PLAYER']},\n",
       " {'id': 480922,\n",
       "  'type': 'Song',\n",
       "  'title': 'i love you too much',\n",
       "  'artist': 'Santana',\n",
       "  'chordsPresent': False,\n",
       "  'tabTypes': ['PLAYER']},\n",
       " {'id': 480924,\n",
       "  'type': 'Song',\n",
       "  'title': 'i love you to much',\n",
       "  'artist': 'Santana',\n",
       "  'chordsPresent': False,\n",
       "  'tabTypes': ['PLAYER']},\n",
       " {'id': 484460,\n",
       "  'type': 'Song',\n",
       "  'title': 'Jingo (Ji-Go-Lo-Ba)',\n",
       "  'artist': 'Santana',\n",
       "  'chordsPresent': False,\n",
       "  'tabTypes': ['PLAYER']},\n",
       " {'id': 490046,\n",
       "  'type': 'Song',\n",
       "  'title': 'Europa (live)',\n",
       "  'artist': 'Carlos Santana',\n",
       "  'chordsPresent': False,\n",
       "  'tabTypes': ['PLAYER']},\n",
       " {'id': 490281,\n",
       "  'type': 'Song',\n",
       "  'title': 'DATE 2/Your Name OST',\n",
       "  'artist': 'Kadu Santana',\n",
       "  'chordsPresent': False,\n",
       "  'tabTypes': ['PLAYER']},\n",
       " {'id': 494290,\n",
       "  'type': 'Song',\n",
       "  'title': 'Samba pa ti - lección',\n",
       "  'artist': 'Lorenzo - Santana',\n",
       "  'chordsPresent': False,\n",
       "  'tabTypes': ['PLAYER']},\n",
       " {'id': 513335,\n",
       "  'type': 'Song',\n",
       "  'title': 'The Game of Love',\n",
       "  'artist': 'Santana',\n",
       "  'chordsPresent': False,\n",
       "  'tabTypes': ['PLAYER']}]"
      ]
     },
     "execution_count": 23,
     "metadata": {},
     "output_type": "execute_result"
    }
   ],
   "source": [
    "song_data"
   ]
  }
 ],
 "metadata": {
  "kernelspec": {
   "display_name": "Python 3.10.7 ('venv': venv)",
   "language": "python",
   "name": "python3"
  },
  "language_info": {
   "codemirror_mode": {
    "name": "ipython",
    "version": 3
   },
   "file_extension": ".py",
   "mimetype": "text/x-python",
   "name": "python",
   "nbconvert_exporter": "python",
   "pygments_lexer": "ipython3",
   "version": "3.10.7"
  },
  "orig_nbformat": 4,
  "vscode": {
   "interpreter": {
    "hash": "b80708c7bd38bd96dc15c82484a40621665f8a1d2e88ebc3c5ed926cece63585"
   }
  }
 },
 "nbformat": 4,
 "nbformat_minor": 2
}
