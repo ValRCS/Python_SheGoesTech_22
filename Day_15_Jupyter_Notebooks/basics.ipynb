{
 "cells": [
  {
   "cell_type": "code",
   "execution_count": 1,
   "metadata": {},
   "outputs": [
    {
     "name": "stdout",
     "output_type": "stream",
     "text": [
      "This is a Jupyter code cell.\n"
     ]
    }
   ],
   "source": [
    "print(\"This is a Jupyter code cell.\")\n",
    "# Esc-B will add a new code cell below the current cell."
   ]
  },
  {
   "cell_type": "code",
   "execution_count": 5,
   "metadata": {},
   "outputs": [
    {
     "name": "stdout",
     "output_type": "stream",
     "text": [
      "Hello Valdis and my favorite number is 77\n"
     ]
    }
   ],
   "source": [
    "my_name = \"Valdis\"\n",
    "my_favorite_number = 77\n",
    "print(f\"Hello {my_name} and my favorite number is {my_favorite_number}\")\n",
    "# i can add comments in the code cells, just like in any other Python file"
   ]
  },
  {
   "cell_type": "code",
   "execution_count": 6,
   "metadata": {},
   "outputs": [
    {
     "name": "stdout",
     "output_type": "stream",
     "text": [
      "Still my name is Valdis and my favorite number is 77\n"
     ]
    }
   ],
   "source": [
    "# I still have my variables active\n",
    "print(f\"Still my name is {my_name} and my favorite number is {my_favorite_number}\")\n",
    "# Ctrl-Enter will run the current cell and move to the next cell"
   ]
  },
  {
   "cell_type": "code",
   "execution_count": null,
   "metadata": {},
   "outputs": [],
   "source": [
    "# so my variables are still active"
   ]
  },
  {
   "cell_type": "code",
   "execution_count": null,
   "metadata": {},
   "outputs": [],
   "source": [
    "# so typical workflow is to run cells in order\n",
    "# but you can also run cells out of order\n",
    "# we can download the notebook as a Python file"
   ]
  },
  {
   "cell_type": "code",
   "execution_count": 17,
   "metadata": {},
   "outputs": [],
   "source": [
    "cnt = 0"
   ]
  },
  {
   "cell_type": "code",
   "execution_count": 21,
   "metadata": {},
   "outputs": [
    {
     "data": {
      "text/plain": [
       "4"
      ]
     },
     "execution_count": 21,
     "metadata": {},
     "output_type": "execute_result"
    }
   ],
   "source": [
    "cnt += 1\n",
    "cnt # Jupyter will output the last line of the cell\n",
    "# so each time I run this cell it will add 1 to cnt"
   ]
  },
  {
   "cell_type": "code",
   "execution_count": 16,
   "metadata": {},
   "outputs": [
    {
     "data": {
      "text/plain": [
       "('Valdis', 77, 8)"
      ]
     },
     "execution_count": 16,
     "metadata": {},
     "output_type": "execute_result"
    }
   ],
   "source": [
    "my_name, my_favorite_number, cnt # we will see a tuple of my variables"
   ]
  },
  {
   "cell_type": "code",
   "execution_count": null,
   "metadata": {},
   "outputs": [],
   "source": [
    "# in exploratory data analysis we often want to run the same cell multiple times\n",
    "# you might not know how many times you will need to run it"
   ]
  },
  {
   "cell_type": "code",
   "execution_count": null,
   "metadata": {},
   "outputs": [],
   "source": [
    "# one of the major advantages of Jupyter is that you can run cells out of order\n",
    "# disadvantage is that you can run cells out of order - so you need to be careful\n",
    "# also you can forget what you have run and what you have not run\n"
   ]
  },
  {
   "cell_type": "code",
   "execution_count": 22,
   "metadata": {},
   "outputs": [],
   "source": [
    "# often you will have a large data set in a file\n",
    "# and you would read it into a memory as some data\n",
    "# and then you would do some analysis on that data\n",
    "# using regular .py files you would have to run the file\n",
    "# and then you would have to run the analysis file\n",
    "# with Jupyter you can keep the analysis in the same file \n",
    "# and you can run the analysis on the data multiple times"
   ]
  },
  {
   "cell_type": "code",
   "execution_count": 23,
   "metadata": {},
   "outputs": [],
   "source": [
    "import random # generally import statements go at the top of the file, the first cell\n",
    "big_random_list = [random.randint(0,1000) for _ in range(10_000_000)]"
   ]
  },
  {
   "cell_type": "code",
   "execution_count": 24,
   "metadata": {},
   "outputs": [
    {
     "data": {
      "text/plain": [
       "[(618, 10370),\n",
       " (271, 10288),\n",
       " (758, 10247),\n",
       " (992, 10234),\n",
       " (455, 10224),\n",
       " (717, 10218),\n",
       " (18, 10210),\n",
       " (939, 10207),\n",
       " (316, 10207),\n",
       " (199, 10206)]"
      ]
     },
     "execution_count": 24,
     "metadata": {},
     "output_type": "execute_result"
    }
   ],
   "source": [
    "from collections import Counter\n",
    "cnt = Counter(big_random_list)\n",
    "cnt.most_common(10)"
   ]
  },
  {
   "cell_type": "code",
   "execution_count": 25,
   "metadata": {},
   "outputs": [
    {
     "data": {
      "text/plain": [
       "[(839, 9719), (641, 9711), (277, 9698), (223, 9683), (896, 9682)]"
      ]
     },
     "execution_count": 25,
     "metadata": {},
     "output_type": "execute_result"
    }
   ],
   "source": [
    "# so the 5 least common occurences in our list\n",
    "cnt.most_common()[-5:]"
   ]
  }
 ],
 "metadata": {
  "kernelspec": {
   "display_name": "Python 3.10.7 ('venv': venv)",
   "language": "python",
   "name": "python3"
  },
  "language_info": {
   "codemirror_mode": {
    "name": "ipython",
    "version": 3
   },
   "file_extension": ".py",
   "mimetype": "text/x-python",
   "name": "python",
   "nbconvert_exporter": "python",
   "pygments_lexer": "ipython3",
   "version": "3.10.7"
  },
  "orig_nbformat": 4,
  "vscode": {
   "interpreter": {
    "hash": "b80708c7bd38bd96dc15c82484a40621665f8a1d2e88ebc3c5ed926cece63585"
   }
  }
 },
 "nbformat": 4,
 "nbformat_minor": 2
}
