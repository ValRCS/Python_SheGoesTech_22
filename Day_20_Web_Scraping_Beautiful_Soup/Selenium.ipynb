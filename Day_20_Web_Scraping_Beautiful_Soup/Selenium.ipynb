{
 "cells": [
  {
   "cell_type": "code",
   "execution_count": 2,
   "metadata": {},
   "outputs": [
    {
     "name": "stdout",
     "output_type": "stream",
     "text": [
      "Collecting selenium\n",
      "  Downloading selenium-3.141.0-py2.py3-none-any.whl (904 kB)\n",
      "Requirement already satisfied: urllib3 in c:\\users\\liga\\anaconda3\\lib\\site-packages (from selenium) (1.25.9)\n",
      "Installing collected packages: selenium\n",
      "Successfully installed selenium-3.141.0\n"
     ]
    }
   ],
   "source": [
    "!pip install selenium  # only once!"
   ]
  },
  {
   "cell_type": "code",
   "execution_count": 1,
   "metadata": {},
   "outputs": [],
   "source": [
    "# now drivers https://pypi.org/project/selenium/\n",
    "# https://sites.google.com/a/chromium.org/chromedriver/downloads\n",
    "# driver has to be a in a path that is in your System Enviroment Path"
   ]
  },
  {
   "cell_type": "code",
   "execution_count": 1,
   "metadata": {},
   "outputs": [],
   "source": [
    "from selenium import webdriver\n",
    "from selenium.webdriver.common.keys import Keys\n",
    "\n",
    "browser = webdriver.Chrome()  # so you need driver for the browser your Python folder is one option"
   ]
  },
  {
   "cell_type": "code",
   "execution_count": 2,
   "metadata": {},
   "outputs": [],
   "source": [
    "browser.get('http://www.ss.com')\n",
    "assert 'SS' in browser.title  # so no error we are good"
   ]
  },
  {
   "cell_type": "code",
   "execution_count": 4,
   "metadata": {},
   "outputs": [],
   "source": [
    "elem = browser.find_element_by_name('p')  # Find the search box\n",
    "# elem.send_keys('seleniumhq' + Keys.RETURN)"
   ]
  },
  {
   "cell_type": "code",
   "execution_count": 3,
   "metadata": {},
   "outputs": [
    {
     "data": {
      "text/plain": [
       "'https://www.ss.com/'"
      ]
     },
     "execution_count": 3,
     "metadata": {},
     "output_type": "execute_result"
    }
   ],
   "source": [
    "browser.current_url"
   ]
  },
  {
   "cell_type": "code",
   "execution_count": 4,
   "metadata": {},
   "outputs": [
    {
     "data": {
      "text/plain": [
       "selenium.webdriver.remote.webelement.WebElement"
      ]
     },
     "execution_count": 4,
     "metadata": {},
     "output_type": "execute_result"
    }
   ],
   "source": [
    "cars = browser.find_element_by_id(\"mtd_97\")\n",
    "type(cars)"
   ]
  },
  {
   "cell_type": "code",
   "execution_count": 6,
   "metadata": {},
   "outputs": [
    {
     "data": {
      "text/plain": [
       "'https://www.ss.com/lv/transport/cars/'"
      ]
     },
     "execution_count": 6,
     "metadata": {},
     "output_type": "execute_result"
    }
   ],
   "source": [
    "cars.get_attribute('href')"
   ]
  },
  {
   "cell_type": "code",
   "execution_count": 7,
   "metadata": {},
   "outputs": [
    {
     "data": {
      "text/plain": [
       "'Vieglie auto'"
      ]
     },
     "execution_count": 7,
     "metadata": {},
     "output_type": "execute_result"
    }
   ],
   "source": [
    "cars.get_attribute('title')"
   ]
  },
  {
   "cell_type": "code",
   "execution_count": 21,
   "metadata": {},
   "outputs": [
    {
     "data": {
      "text/plain": [
       "'Vieglie auto'"
      ]
     },
     "execution_count": 21,
     "metadata": {},
     "output_type": "execute_result"
    }
   ],
   "source": [
    "cars.text"
   ]
  },
  {
   "cell_type": "code",
   "execution_count": 8,
   "metadata": {},
   "outputs": [],
   "source": [
    "# https://devhints.io/xpath\n",
    "apart = browser.find_element_by_xpath('//a[@title=\"Dzīvokļi\"]')  # XPath is very powerful tool for finding elements"
   ]
  },
  {
   "cell_type": "code",
   "execution_count": 10,
   "metadata": {},
   "outputs": [
    {
     "data": {
      "text/plain": [
       "selenium.webdriver.remote.webelement.WebElement"
      ]
     },
     "execution_count": 10,
     "metadata": {},
     "output_type": "execute_result"
    }
   ],
   "source": [
    "type(apart)"
   ]
  },
  {
   "cell_type": "code",
   "execution_count": 11,
   "metadata": {},
   "outputs": [],
   "source": [
    "apart.click()  # i can emulate a mouse click"
   ]
  },
  {
   "cell_type": "code",
   "execution_count": 12,
   "metadata": {},
   "outputs": [],
   "source": [
    "browser.back()"
   ]
  },
  {
   "cell_type": "code",
   "execution_count": 13,
   "metadata": {},
   "outputs": [],
   "source": [
    "browser.forward()"
   ]
  },
  {
   "cell_type": "code",
   "execution_count": null,
   "metadata": {},
   "outputs": [],
   "source": []
  },
  {
   "cell_type": "code",
   "execution_count": 14,
   "metadata": {},
   "outputs": [
    {
     "data": {
      "text/plain": [
       "selenium.webdriver.remote.webelement.WebElement"
      ]
     },
     "execution_count": 14,
     "metadata": {},
     "output_type": "execute_result"
    }
   ],
   "source": [
    "riga = browser.find_element_by_xpath('//a[@title=\"Rīga, Sludinājumi\"]')\n",
    "type(riga)"
   ]
  },
  {
   "cell_type": "code",
   "execution_count": 15,
   "metadata": {},
   "outputs": [],
   "source": [
    "riga.click()"
   ]
  },
  {
   "cell_type": "code",
   "execution_count": 16,
   "metadata": {},
   "outputs": [
    {
     "data": {
      "text/plain": [
       "'https://www.ss.com/lv/real-estate/flats/riga/'"
      ]
     },
     "execution_count": 16,
     "metadata": {},
     "output_type": "execute_result"
    }
   ],
   "source": [
    "browser.current_url"
   ]
  },
  {
   "cell_type": "code",
   "execution_count": 17,
   "metadata": {},
   "outputs": [
    {
     "data": {
      "text/plain": [
       "{'width': 1051, 'height': 804}"
      ]
     },
     "execution_count": 17,
     "metadata": {},
     "output_type": "execute_result"
    }
   ],
   "source": [
    "browser.get_window_size()"
   ]
  },
  {
   "cell_type": "code",
   "execution_count": 18,
   "metadata": {
    "scrolled": true
   },
   "outputs": [
    {
     "data": {
      "text/plain": [
       "True"
      ]
     },
     "execution_count": 18,
     "metadata": {},
     "output_type": "execute_result"
    }
   ],
   "source": [
    "# save with Pillow graphibrowser.get_screenshot_as_png()\n",
    "\n",
    "browser.save_screenshot(\"page.png\")"
   ]
  },
  {
   "cell_type": "code",
   "execution_count": null,
   "metadata": {},
   "outputs": [],
   "source": []
  },
  {
   "cell_type": "code",
   "execution_count": 19,
   "metadata": {},
   "outputs": [],
   "source": [
    "myel = browser.find_element_by_id('ahc_1089')"
   ]
  },
  {
   "cell_type": "code",
   "execution_count": 20,
   "metadata": {},
   "outputs": [
    {
     "data": {
      "text/plain": [
       "'Bolderāja'"
      ]
     },
     "execution_count": 20,
     "metadata": {},
     "output_type": "execute_result"
    }
   ],
   "source": [
    "myel.text"
   ]
  },
  {
   "cell_type": "code",
   "execution_count": 21,
   "metadata": {
    "scrolled": false
   },
   "outputs": [
    {
     "data": {
      "text/plain": [
       "[{'ATTRIBUTE_NODE': 2,\n",
       "  'CDATA_SECTION_NODE': 4,\n",
       "  'COMMENT_NODE': 8,\n",
       "  'DOCUMENT_FRAGMENT_NODE': 11,\n",
       "  'DOCUMENT_NODE': 9,\n",
       "  'DOCUMENT_POSITION_CONTAINED_BY': 16,\n",
       "  'DOCUMENT_POSITION_CONTAINS': 8,\n",
       "  'DOCUMENT_POSITION_DISCONNECTED': 1,\n",
       "  'DOCUMENT_POSITION_FOLLOWING': 4,\n",
       "  'DOCUMENT_POSITION_IMPLEMENTATION_SPECIFIC': 32,\n",
       "  'DOCUMENT_POSITION_PRECEDING': 2,\n",
       "  'DOCUMENT_TYPE_NODE': 10,\n",
       "  'ELEMENT_NODE': 1,\n",
       "  'ENTITY_NODE': 6,\n",
       "  'ENTITY_REFERENCE_NODE': 5,\n",
       "  'NOTATION_NODE': 12,\n",
       "  'PROCESSING_INSTRUCTION_NODE': 7,\n",
       "  'TEXT_NODE': 3,\n",
       "  'addEventListener': {},\n",
       "  'appendChild': {},\n",
       "  'baseURI': 'https://www.ss.com/',\n",
       "  'childNodes': [],\n",
       "  'cloneNode': {},\n",
       "  'compareDocumentPosition': {},\n",
       "  'contains': {},\n",
       "  'dispatchEvent': {},\n",
       "  'firstChild': None,\n",
       "  'getRootNode': {},\n",
       "  'hasChildNodes': {},\n",
       "  'insertBefore': {},\n",
       "  'isConnected': False,\n",
       "  'isDefaultNamespace': {},\n",
       "  'isEqualNode': {},\n",
       "  'isSameNode': {},\n",
       "  'lastChild': None,\n",
       "  'localName': 'id',\n",
       "  'lookupNamespaceURI': {},\n",
       "  'lookupPrefix': {},\n",
       "  'name': 'id',\n",
       "  'namespaceURI': None,\n",
       "  'nextSibling': None,\n",
       "  'nodeName': 'id',\n",
       "  'nodeType': 2,\n",
       "  'nodeValue': 'ahc_1089',\n",
       "  'normalize': {},\n",
       "  'ownerDocument': <selenium.webdriver.remote.webelement.WebElement (session=\"6aa539702e95e8366102be31d724618f\", element=\"f20c518f-58cf-4f8d-879e-2f6aaf65be70\")>,\n",
       "  'ownerElement': <selenium.webdriver.remote.webelement.WebElement (session=\"6aa539702e95e8366102be31d724618f\", element=\"8ce56e1f-b39a-4fae-a30d-d30bcbfabc1a\")>,\n",
       "  'parentElement': None,\n",
       "  'parentNode': None,\n",
       "  'prefix': None,\n",
       "  'previousSibling': None,\n",
       "  'removeChild': {},\n",
       "  'removeEventListener': {},\n",
       "  'replaceChild': {},\n",
       "  'specified': True,\n",
       "  'textContent': 'ahc_1089',\n",
       "  'value': 'ahc_1089'},\n",
       " {'ATTRIBUTE_NODE': 2,\n",
       "  'CDATA_SECTION_NODE': 4,\n",
       "  'COMMENT_NODE': 8,\n",
       "  'DOCUMENT_FRAGMENT_NODE': 11,\n",
       "  'DOCUMENT_NODE': 9,\n",
       "  'DOCUMENT_POSITION_CONTAINED_BY': 16,\n",
       "  'DOCUMENT_POSITION_CONTAINS': 8,\n",
       "  'DOCUMENT_POSITION_DISCONNECTED': 1,\n",
       "  'DOCUMENT_POSITION_FOLLOWING': 4,\n",
       "  'DOCUMENT_POSITION_IMPLEMENTATION_SPECIFIC': 32,\n",
       "  'DOCUMENT_POSITION_PRECEDING': 2,\n",
       "  'DOCUMENT_TYPE_NODE': 10,\n",
       "  'ELEMENT_NODE': 1,\n",
       "  'ENTITY_NODE': 6,\n",
       "  'ENTITY_REFERENCE_NODE': 5,\n",
       "  'NOTATION_NODE': 12,\n",
       "  'PROCESSING_INSTRUCTION_NODE': 7,\n",
       "  'TEXT_NODE': 3,\n",
       "  'addEventListener': {},\n",
       "  'appendChild': {},\n",
       "  'baseURI': 'https://www.ss.com/',\n",
       "  'childNodes': [],\n",
       "  'cloneNode': {},\n",
       "  'compareDocumentPosition': {},\n",
       "  'contains': {},\n",
       "  'dispatchEvent': {},\n",
       "  'firstChild': None,\n",
       "  'getRootNode': {},\n",
       "  'hasChildNodes': {},\n",
       "  'insertBefore': {},\n",
       "  'isConnected': False,\n",
       "  'isDefaultNamespace': {},\n",
       "  'isEqualNode': {},\n",
       "  'isSameNode': {},\n",
       "  'lastChild': None,\n",
       "  'localName': 'href',\n",
       "  'lookupNamespaceURI': {},\n",
       "  'lookupPrefix': {},\n",
       "  'name': 'href',\n",
       "  'namespaceURI': None,\n",
       "  'nextSibling': None,\n",
       "  'nodeName': 'href',\n",
       "  'nodeType': 2,\n",
       "  'nodeValue': '/lv/real-estate/flats/riga/bolderaya/',\n",
       "  'normalize': {},\n",
       "  'ownerDocument': <selenium.webdriver.remote.webelement.WebElement (session=\"6aa539702e95e8366102be31d724618f\", element=\"f20c518f-58cf-4f8d-879e-2f6aaf65be70\")>,\n",
       "  'ownerElement': <selenium.webdriver.remote.webelement.WebElement (session=\"6aa539702e95e8366102be31d724618f\", element=\"8ce56e1f-b39a-4fae-a30d-d30bcbfabc1a\")>,\n",
       "  'parentElement': None,\n",
       "  'parentNode': None,\n",
       "  'prefix': None,\n",
       "  'previousSibling': None,\n",
       "  'removeChild': {},\n",
       "  'removeEventListener': {},\n",
       "  'replaceChild': {},\n",
       "  'specified': True,\n",
       "  'textContent': '/lv/real-estate/flats/riga/bolderaya/',\n",
       "  'value': '/lv/real-estate/flats/riga/bolderaya/'},\n",
       " {'ATTRIBUTE_NODE': 2,\n",
       "  'CDATA_SECTION_NODE': 4,\n",
       "  'COMMENT_NODE': 8,\n",
       "  'DOCUMENT_FRAGMENT_NODE': 11,\n",
       "  'DOCUMENT_NODE': 9,\n",
       "  'DOCUMENT_POSITION_CONTAINED_BY': 16,\n",
       "  'DOCUMENT_POSITION_CONTAINS': 8,\n",
       "  'DOCUMENT_POSITION_DISCONNECTED': 1,\n",
       "  'DOCUMENT_POSITION_FOLLOWING': 4,\n",
       "  'DOCUMENT_POSITION_IMPLEMENTATION_SPECIFIC': 32,\n",
       "  'DOCUMENT_POSITION_PRECEDING': 2,\n",
       "  'DOCUMENT_TYPE_NODE': 10,\n",
       "  'ELEMENT_NODE': 1,\n",
       "  'ENTITY_NODE': 6,\n",
       "  'ENTITY_REFERENCE_NODE': 5,\n",
       "  'NOTATION_NODE': 12,\n",
       "  'PROCESSING_INSTRUCTION_NODE': 7,\n",
       "  'TEXT_NODE': 3,\n",
       "  'addEventListener': {},\n",
       "  'appendChild': {},\n",
       "  'baseURI': 'https://www.ss.com/',\n",
       "  'childNodes': [],\n",
       "  'cloneNode': {},\n",
       "  'compareDocumentPosition': {},\n",
       "  'contains': {},\n",
       "  'dispatchEvent': {},\n",
       "  'firstChild': None,\n",
       "  'getRootNode': {},\n",
       "  'hasChildNodes': {},\n",
       "  'insertBefore': {},\n",
       "  'isConnected': False,\n",
       "  'isDefaultNamespace': {},\n",
       "  'isEqualNode': {},\n",
       "  'isSameNode': {},\n",
       "  'lastChild': None,\n",
       "  'localName': 'class',\n",
       "  'lookupNamespaceURI': {},\n",
       "  'lookupPrefix': {},\n",
       "  'name': 'class',\n",
       "  'namespaceURI': None,\n",
       "  'nextSibling': None,\n",
       "  'nodeName': 'class',\n",
       "  'nodeType': 2,\n",
       "  'nodeValue': 'a_category',\n",
       "  'normalize': {},\n",
       "  'ownerDocument': <selenium.webdriver.remote.webelement.WebElement (session=\"6aa539702e95e8366102be31d724618f\", element=\"f20c518f-58cf-4f8d-879e-2f6aaf65be70\")>,\n",
       "  'ownerElement': <selenium.webdriver.remote.webelement.WebElement (session=\"6aa539702e95e8366102be31d724618f\", element=\"8ce56e1f-b39a-4fae-a30d-d30bcbfabc1a\")>,\n",
       "  'parentElement': None,\n",
       "  'parentNode': None,\n",
       "  'prefix': None,\n",
       "  'previousSibling': None,\n",
       "  'removeChild': {},\n",
       "  'removeEventListener': {},\n",
       "  'replaceChild': {},\n",
       "  'specified': True,\n",
       "  'textContent': 'a_category',\n",
       "  'value': 'a_category'},\n",
       " {'ATTRIBUTE_NODE': 2,\n",
       "  'CDATA_SECTION_NODE': 4,\n",
       "  'COMMENT_NODE': 8,\n",
       "  'DOCUMENT_FRAGMENT_NODE': 11,\n",
       "  'DOCUMENT_NODE': 9,\n",
       "  'DOCUMENT_POSITION_CONTAINED_BY': 16,\n",
       "  'DOCUMENT_POSITION_CONTAINS': 8,\n",
       "  'DOCUMENT_POSITION_DISCONNECTED': 1,\n",
       "  'DOCUMENT_POSITION_FOLLOWING': 4,\n",
       "  'DOCUMENT_POSITION_IMPLEMENTATION_SPECIFIC': 32,\n",
       "  'DOCUMENT_POSITION_PRECEDING': 2,\n",
       "  'DOCUMENT_TYPE_NODE': 10,\n",
       "  'ELEMENT_NODE': 1,\n",
       "  'ENTITY_NODE': 6,\n",
       "  'ENTITY_REFERENCE_NODE': 5,\n",
       "  'NOTATION_NODE': 12,\n",
       "  'PROCESSING_INSTRUCTION_NODE': 7,\n",
       "  'TEXT_NODE': 3,\n",
       "  'addEventListener': {},\n",
       "  'appendChild': {},\n",
       "  'baseURI': 'https://www.ss.com/',\n",
       "  'childNodes': [],\n",
       "  'cloneNode': {},\n",
       "  'compareDocumentPosition': {},\n",
       "  'contains': {},\n",
       "  'dispatchEvent': {},\n",
       "  'firstChild': None,\n",
       "  'getRootNode': {},\n",
       "  'hasChildNodes': {},\n",
       "  'insertBefore': {},\n",
       "  'isConnected': False,\n",
       "  'isDefaultNamespace': {},\n",
       "  'isEqualNode': {},\n",
       "  'isSameNode': {},\n",
       "  'lastChild': None,\n",
       "  'localName': 'title',\n",
       "  'lookupNamespaceURI': {},\n",
       "  'lookupPrefix': {},\n",
       "  'name': 'title',\n",
       "  'namespaceURI': None,\n",
       "  'nextSibling': None,\n",
       "  'nodeName': 'title',\n",
       "  'nodeType': 2,\n",
       "  'nodeValue': 'Bolderāja, Sludinājumi',\n",
       "  'normalize': {},\n",
       "  'ownerDocument': <selenium.webdriver.remote.webelement.WebElement (session=\"6aa539702e95e8366102be31d724618f\", element=\"f20c518f-58cf-4f8d-879e-2f6aaf65be70\")>,\n",
       "  'ownerElement': <selenium.webdriver.remote.webelement.WebElement (session=\"6aa539702e95e8366102be31d724618f\", element=\"8ce56e1f-b39a-4fae-a30d-d30bcbfabc1a\")>,\n",
       "  'parentElement': None,\n",
       "  'parentNode': None,\n",
       "  'prefix': None,\n",
       "  'previousSibling': None,\n",
       "  'removeChild': {},\n",
       "  'removeEventListener': {},\n",
       "  'replaceChild': {},\n",
       "  'specified': True,\n",
       "  'textContent': 'Bolderāja, Sludinājumi',\n",
       "  'value': 'Bolderāja, Sludinājumi'}]"
      ]
     },
     "execution_count": 21,
     "metadata": {},
     "output_type": "execute_result"
    }
   ],
   "source": [
    "myel.get_property('attributes')"
   ]
  },
  {
   "cell_type": "code",
   "execution_count": 22,
   "metadata": {},
   "outputs": [],
   "source": [
    "myel.click()"
   ]
  },
  {
   "cell_type": "code",
   "execution_count": 24,
   "metadata": {},
   "outputs": [
    {
     "name": "stdout",
     "output_type": "stream",
     "text": [
      "Found 47 elements\n"
     ]
    }
   ],
   "source": [
    "table_rows = browser.find_elements_by_tag_name(\"tr\")\n",
    "print(\"Found\", len(table_rows), \"elements\")"
   ]
  },
  {
   "cell_type": "code",
   "execution_count": null,
   "metadata": {},
   "outputs": [],
   "source": [
    "# 47 is too many we have only 30\n",
    "# we could use additional filter"
   ]
  },
  {
   "cell_type": "code",
   "execution_count": 26,
   "metadata": {},
   "outputs": [
    {
     "name": "stdout",
     "output_type": "stream",
     "text": [
      "37\n"
     ]
    }
   ],
   "source": [
    "ad_rows = [row for row in table_rows if row.get_attribute(\"id\") and row.get_attribute(\"id\").startswith(\"tr_\")]\n",
    "print(len(ad_rows))"
   ]
  },
  {
   "cell_type": "code",
   "execution_count": 28,
   "metadata": {},
   "outputs": [
    {
     "name": "stdout",
     "output_type": "stream",
     "text": [
      "Сдаётся 2 комнатная квартира совсемиудобства, Есть необходимаябы\n",
      "Gobas 34 2 52 5/5 103. 5.19 € 270 €/mēn.\n"
     ]
    }
   ],
   "source": [
    "first_ad = ad_rows[0]\n",
    "print(first_ad.text)"
   ]
  },
  {
   "cell_type": "code",
   "execution_count": 29,
   "metadata": {},
   "outputs": [
    {
     "name": "stdout",
     "output_type": "stream",
     "text": [
      "10\n"
     ]
    }
   ],
   "source": [
    "data_cells = first_ad.find_elements_by_tag_name(\"td\")  # stands for table data\n",
    "print(len(data_cells))"
   ]
  },
  {
   "cell_type": "code",
   "execution_count": 30,
   "metadata": {},
   "outputs": [
    {
     "data": {
      "text/plain": [
       "['',\n",
       " '',\n",
       " 'Сдаётся 2 комнатная квартира совсемиудобства, Есть необходимаябы',\n",
       " 'Gobas 34',\n",
       " '2',\n",
       " '52',\n",
       " '5/5',\n",
       " '103.',\n",
       " '5.19 €',\n",
       " '270 €/mēn.']"
      ]
     },
     "execution_count": 30,
     "metadata": {},
     "output_type": "execute_result"
    }
   ],
   "source": [
    "texts = [cell.text for cell in data_cells]\n",
    "texts"
   ]
  },
  {
   "cell_type": "code",
   "execution_count": 32,
   "metadata": {},
   "outputs": [
    {
     "data": {
      "text/plain": [
       "' Sludinājumi\\ndatums\\nIela Ist. m2 Stāvs Sērija Cena, m2 Cena'"
      ]
     },
     "execution_count": 32,
     "metadata": {},
     "output_type": "execute_result"
    }
   ],
   "source": [
    "headline = browser.find_element_by_id(\"head_line\")\n",
    "headline.text"
   ]
  },
  {
   "cell_type": "code",
   "execution_count": 35,
   "metadata": {},
   "outputs": [
    {
     "name": "stdout",
     "output_type": "stream",
     "text": [
      "8\n"
     ]
    }
   ],
   "source": [
    "head_cells = headline.find_elements_by_tag_name(\"td\")\n",
    "print(len(head_cells))"
   ]
  },
  {
   "cell_type": "code",
   "execution_count": 36,
   "metadata": {},
   "outputs": [
    {
     "data": {
      "text/plain": [
       "[' Sludinājumi\\ndatums',\n",
       " 'Iela',\n",
       " 'Ist.',\n",
       " 'm2',\n",
       " 'Stāvs',\n",
       " 'Sērija',\n",
       " 'Cena, m2',\n",
       " 'Cena']"
      ]
     },
     "execution_count": 36,
     "metadata": {},
     "output_type": "execute_result"
    }
   ],
   "source": [
    "head_texts = [cell.text for cell in head_cells]\n",
    "head_texts"
   ]
  },
  {
   "cell_type": "code",
   "execution_count": 37,
   "metadata": {},
   "outputs": [
    {
     "name": "stdout",
     "output_type": "stream",
     "text": [
      "<selenium.webdriver.remote.webelement.WebElement (session=\"6aa539702e95e8366102be31d724618f\", element=\"8108cd71-ab3b-4b48-ae77-cb79aa830929\")>\n"
     ]
    }
   ],
   "source": [
    "# your_choice=browser.find_element_by_xpath(\"//select/option[@value='196277']\")\n",
    "select_deal_type = browser.find_element_by_xpath('//select[@name=\"sid\"]')\n",
    "print(select_deal_type)"
   ]
  },
  {
   "cell_type": "code",
   "execution_count": 38,
   "metadata": {},
   "outputs": [
    {
     "name": "stdout",
     "output_type": "stream",
     "text": [
      "Found 6 option tags\n"
     ]
    }
   ],
   "source": [
    "options = select_deal_type.find_elements_by_tag_name(\"option\")\n",
    "print(\"Found\", len(options), \"option tags\")"
   ]
  },
  {
   "cell_type": "code",
   "execution_count": 39,
   "metadata": {},
   "outputs": [
    {
     "data": {
      "text/plain": [
       "[<selenium.webdriver.remote.webelement.WebElement (session=\"6aa539702e95e8366102be31d724618f\", element=\"ca7193e8-2b7e-48aa-a50a-6bd033a2d274\")>]"
      ]
     },
     "execution_count": 39,
     "metadata": {},
     "output_type": "execute_result"
    }
   ],
   "source": [
    "option_perks = [option for option in options if \"pērk\" in option.text.lower()]\n",
    "option_perks"
   ]
  },
  {
   "cell_type": "code",
   "execution_count": 40,
   "metadata": {},
   "outputs": [
    {
     "data": {
      "text/plain": [
       "'Pērk'"
      ]
     },
     "execution_count": 40,
     "metadata": {},
     "output_type": "execute_result"
    }
   ],
   "source": [
    "first_perk = option_perks[0]\n",
    "first_perk.text"
   ]
  },
  {
   "cell_type": "code",
   "execution_count": 41,
   "metadata": {},
   "outputs": [],
   "source": [
    "first_perk.click()"
   ]
  },
  {
   "cell_type": "code",
   "execution_count": 43,
   "metadata": {},
   "outputs": [
    {
     "name": "stdout",
     "output_type": "stream",
     "text": [
      "Found 6 option tags\n"
     ]
    }
   ],
   "source": [
    "select_deal_type = browser.find_element_by_xpath('//select[@name=\"sid\"]')\n",
    "options = select_deal_type.find_elements_by_tag_name(\"option\")\n",
    "print(\"Found\", len(options), \"option tags\")\n",
    "for_rent = [option for option in options if \"izīrē\" in option.text.lower()]\n",
    "for_rent = for_rent[0]\n",
    "for_rent.click()"
   ]
  },
  {
   "cell_type": "code",
   "execution_count": 46,
   "metadata": {},
   "outputs": [
    {
     "data": {
      "text/plain": [
       "''"
      ]
     },
     "execution_count": 46,
     "metadata": {},
     "output_type": "execute_result"
    }
   ],
   "source": [
    "cena = browser.find_element_by_id(\"f_o_8_min\")\n",
    "cena.get_attribute(\"value\")"
   ]
  },
  {
   "cell_type": "code",
   "execution_count": 47,
   "metadata": {},
   "outputs": [],
   "source": [
    "cena.send_keys('1')\n",
    "cena.send_keys('2')\n",
    "cena.send_keys('0')"
   ]
  },
  {
   "cell_type": "code",
   "execution_count": 48,
   "metadata": {},
   "outputs": [],
   "source": [
    "cena.send_keys(Keys.BACKSPACE)\n",
    "cena.send_keys(Keys.BACKSPACE)\n",
    "cena.send_keys(Keys.BACKSPACE)\n",
    "cena.send_keys(Keys.BACKSPACE)\n",
    "cena.send_keys(Keys.BACKSPACE)"
   ]
  },
  {
   "cell_type": "code",
   "execution_count": 49,
   "metadata": {},
   "outputs": [],
   "source": [
    "cena.send_keys(\"100\")"
   ]
  },
  {
   "cell_type": "code",
   "execution_count": 50,
   "metadata": {},
   "outputs": [],
   "source": [
    "max_price = browser.find_element_by_id(\"f_o_8_max\")\n",
    "max_price.send_keys(\"300\")"
   ]
  },
  {
   "cell_type": "code",
   "execution_count": 51,
   "metadata": {},
   "outputs": [],
   "source": [
    "max_price.send_keys(Keys.ENTER)"
   ]
  }
 ],
 "metadata": {
  "kernelspec": {
   "display_name": "Python 3",
   "language": "python",
   "name": "python3"
  },
  "language_info": {
   "codemirror_mode": {
    "name": "ipython",
    "version": 3
   },
   "file_extension": ".py",
   "mimetype": "text/x-python",
   "name": "python",
   "nbconvert_exporter": "python",
   "pygments_lexer": "ipython3",
   "version": "3.8.3"
  }
 },
 "nbformat": 4,
 "nbformat_minor": 4
}
