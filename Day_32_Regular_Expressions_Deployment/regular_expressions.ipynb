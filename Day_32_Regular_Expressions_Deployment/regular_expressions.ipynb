{
 "cells": [
  {
   "cell_type": "markdown",
   "metadata": {},
   "source": [
    "# Regular Expressions"
   ]
  },
  {
   "cell_type": "code",
   "execution_count": null,
   "metadata": {},
   "outputs": [],
   "source": [
    "# What is Regular Expression?\n",
    "\n",
    "# Regular expressions are a powerful language for matching text patterns.\n",
    "\n",
    "# For example, a regular expression matching email addresses might be written as:\n",
    "\n",
    "# [a-zA-Z0-9_.+-]+@[a-zA-Z0-9-]+\\.[a-zA-Z0-9-.]+\n",
    "# looks pretty intimidating, but it's actually quite simple.\n",
    "\n",
    "# incidentally this is not a full email address regex, but it's a good start.\n"
   ]
  },
  {
   "cell_type": "code",
   "execution_count": 7,
   "metadata": {},
   "outputs": [],
   "source": [
    "# lets start witha string\n",
    "\n",
    "text = \"Valdis likes potatoes. He currently has 356 potatoes in his fridge. He also likes onions and garlic.\""
   ]
  },
  {
   "cell_type": "code",
   "execution_count": 8,
   "metadata": {},
   "outputs": [
    {
     "data": {
      "text/plain": [
       "True"
      ]
     },
     "execution_count": 8,
     "metadata": {},
     "output_type": "execute_result"
    }
   ],
   "source": [
    "# so let's check if we have a specific number in our string\n",
    "\"356\" in text # True"
   ]
  },
  {
   "cell_type": "code",
   "execution_count": 9,
   "metadata": {},
   "outputs": [
    {
     "data": {
      "text/plain": [
       "40"
      ]
     },
     "execution_count": 9,
     "metadata": {},
     "output_type": "execute_result"
    }
   ],
   "source": [
    "# lets find a specific location of a string\n",
    "text.find(\"356\") # 40 in this particular case"
   ]
  },
  {
   "cell_type": "code",
   "execution_count": 10,
   "metadata": {},
   "outputs": [
    {
     "data": {
      "text/plain": [
       "40"
      ]
     },
     "execution_count": 10,
     "metadata": {},
     "output_type": "execute_result"
    }
   ],
   "source": [
    "# there was also index method\n",
    "text.index(\"356\") # 40 in this particular case"
   ]
  },
  {
   "cell_type": "code",
   "execution_count": 5,
   "metadata": {},
   "outputs": [],
   "source": [
    "# all of the above are exact matches\n",
    "# what do we do if we need to extract any 3 digit number from the string?\n",
    "# how about we want to extract number of potatoes from the string?\n",
    "# this is where regular expressions come in handy\n",
    "\n",
    "# alternative to regular expressions would be to use split method or possibly loop through the string"
   ]
  },
  {
   "cell_type": "code",
   "execution_count": 6,
   "metadata": {},
   "outputs": [],
   "source": [
    "# python provides a module called re for regular expressions\n",
    "# re is part of standard library so we don't need to install anything\n",
    "# we just need to import it\n",
    "\n",
    "import re"
   ]
  },
  {
   "cell_type": "code",
   "execution_count": 11,
   "metadata": {},
   "outputs": [
    {
     "name": "stdout",
     "output_type": "stream",
     "text": [
      "<re.Match object; span=(40, 43), match='356'>\n"
     ]
    }
   ],
   "source": [
    "# lets start with the search method\n",
    "\n",
    "# search method will return a match object if it finds a match\n",
    "# otherwise it will return None\n",
    "\n",
    "# we can use match object to get the actual match\n",
    "\n",
    "# lets try to find the number of potatoes\n",
    "# we can use a regular expression to find the number\n",
    "\n",
    "# we can use a raw string to avoid escaping backslashes\n",
    "# r\"356\" is the same as \"356\"\n",
    "# it is common to use raw strings for regular expressions because they are easier to read\n",
    "# regular expressions use a lot of escape characters like \\d for digits and \\w for word characters\n",
    "# you do not want to see double backslashes everywhere\n",
    "\n",
    "# lets do our search\n",
    "match = re.search(r\"356\", text)\n",
    "print(match) # <re.Match object; span=(40, 43), match='356'>\n",
    "# match would be None if we did not find anything"
   ]
  },
  {
   "cell_type": "code",
   "execution_count": 12,
   "metadata": {},
   "outputs": [
    {
     "data": {
      "text/plain": [
       "(40, 43)"
      ]
     },
     "execution_count": 12,
     "metadata": {},
     "output_type": "execute_result"
    }
   ],
   "source": [
    "# we can use span to get the location of the match\n",
    "match.span() # (40, 43) # as is usual last number is not included for slices"
   ]
  },
  {
   "cell_type": "code",
   "execution_count": 13,
   "metadata": {},
   "outputs": [
    {
     "name": "stdout",
     "output_type": "stream",
     "text": [
      "40 43\n"
     ]
    }
   ],
   "source": [
    "# so we could get starting and ending index of the match\n",
    "start, end = match.span()  # tuple unpacking\n",
    "print(start, end) # 40 43"
   ]
  },
  {
   "cell_type": "code",
   "execution_count": null,
   "metadata": {},
   "outputs": [],
   "source": [
    "# then I could print the match\n",
    "print(text[start:end]) # 356"
   ]
  },
  {
   "cell_type": "code",
   "execution_count": 14,
   "metadata": {},
   "outputs": [
    {
     "name": "stdout",
     "output_type": "stream",
     "text": [
      "<re.Match object; span=(40, 43), match='356'>\n"
     ]
    }
   ],
   "source": [
    "# let's look for any 3 digits in our string\n",
    "match = re.search(r\"\\d\\d\\d\", text)  # this will find any 3 digits in our text\n",
    "print(match) # <re.Match object; span=(40, 43), match='356'>"
   ]
  },
  {
   "cell_type": "code",
   "execution_count": 15,
   "metadata": {},
   "outputs": [
    {
     "name": "stdout",
     "output_type": "stream",
     "text": [
      "<re.Match object; span=(40, 43), match='356'>\n"
     ]
    }
   ],
   "source": [
    "# alternative to look for 3 digits is to use {3} to specify the number of digits\n",
    "match = re.search(r\"\\d{3}\", text)  # this will find any 3 digits in our text\n",
    "print(match) # <re.Match object; span=(40, 43), match='356'>"
   ]
  },
  {
   "cell_type": "code",
   "execution_count": 16,
   "metadata": {},
   "outputs": [
    {
     "name": "stdout",
     "output_type": "stream",
     "text": [
      "<re.Match object; span=(40, 43), match='356'>\n"
     ]
    }
   ],
   "source": [
    "# another way would be to specify the range of digits from 0 to 9\n",
    "# this is done with square brackets\n",
    "match = re.search(r\"[0-9][0-9][0-9]\", text)  # this will find any 3 digits in our text\n",
    "print(match) # <re.Match object; span=(40, 43), match='356'>"
   ]
  },
  {
   "cell_type": "code",
   "execution_count": null,
   "metadata": {},
   "outputs": [],
   "source": [
    "# there are many websites for experimenting with regular expressions\n",
    "# https://regex101.com/ is one of them"
   ]
  },
  {
   "cell_type": "code",
   "execution_count": 17,
   "metadata": {},
   "outputs": [],
   "source": [
    "new_text = \"Valdis likes potatoes since 1978. He currently has 356 potatoes in his fridge. He also likes onions and garlic.\""
   ]
  },
  {
   "cell_type": "code",
   "execution_count": 18,
   "metadata": {},
   "outputs": [
    {
     "name": "stdout",
     "output_type": "stream",
     "text": [
      "<re.Match object; span=(28, 31), match='197'>\n"
     ]
    }
   ],
   "source": [
    "# lets find 3 digits in our new text\n",
    "match = re.search(r\"\\d\\d\\d\", new_text)  # this will find any 3 digits in our text\n",
    "print(match) "
   ]
  },
  {
   "cell_type": "code",
   "execution_count": 19,
   "metadata": {},
   "outputs": [
    {
     "name": "stdout",
     "output_type": "stream",
     "text": [
      "<re.Match object; span=(25, 29), match='ce 1'>\n"
     ]
    }
   ],
   "source": [
    "# i could use a dot to match any character\n",
    "# i will match 4 characters of those last one will be a digit\n",
    "match = re.search(r\"...\\d\", new_text)  # this will find any 3 digits in our text\n",
    "print(match) \n",
    "# remember we used _ in SQL to match any character using LIKE"
   ]
  },
  {
   "cell_type": "code",
   "execution_count": 20,
   "metadata": {},
   "outputs": [
    {
     "name": "stdout",
     "output_type": "stream",
     "text": [
      "['1978', '356']\n"
     ]
    }
   ],
   "source": [
    "# let's exctract all numbers from our text\n",
    "# we can use findall method\n",
    "# it will return a list of all matches\n",
    "# if we do not find anything it will return an empty list\n",
    "\n",
    "# let's find any numbers - number being a sequence of digits\n",
    "\n",
    "# we can use \\d to match any digit\n",
    "# we can use + to match one or more of the previous character\n",
    "# so \\d+ will match one or more digits\n",
    "\n",
    "# we can use findall method to get all matches\n",
    "\n",
    "# we can use a raw string to avoid escaping backslashes\n",
    "\n",
    "match_list = re.findall(r\"\\d+\", new_text)\n",
    "print(match_list) # ['1978', '356']\n",
    "# note the matches are not overlapping - meaning we do not get 1978 and 78"
   ]
  },
  {
   "cell_type": "code",
   "execution_count": 21,
   "metadata": {},
   "outputs": [
    {
     "name": "stdout",
     "output_type": "stream",
     "text": [
      "[]\n"
     ]
    }
   ],
   "source": [
    "# if we enter bad regex for findall it will return an empty list\n",
    "match_list = re.findall(r\"abracadbra\", new_text)\n",
    "print(match_list) # []"
   ]
  },
  {
   "cell_type": "code",
   "execution_count": 22,
   "metadata": {},
   "outputs": [],
   "source": [
    "potatoe_string = \"Some say potato some say potatoe.\""
   ]
  },
  {
   "cell_type": "code",
   "execution_count": 23,
   "metadata": {},
   "outputs": [
    {
     "name": "stdout",
     "output_type": "stream",
     "text": [
      "['potato', 'potato']\n"
     ]
    }
   ],
   "source": [
    "# different countries have different ways of spelling potato or potatoe\n",
    "# we would like a regex that would match both potato and potatoe\n",
    "# we can use | to match either of the options\n",
    "\n",
    "# we can use findall method to get all matches\n",
    "\n",
    "# we can use a raw string to avoid escaping backslashes\n",
    "\n",
    "match_list = re.findall(r\"potato|potatoe\", potatoe_string)\n",
    "print(match_list) # ['potato', 'potatoe']\n"
   ]
  },
  {
   "cell_type": "code",
   "execution_count": 24,
   "metadata": {},
   "outputs": [
    {
     "name": "stdout",
     "output_type": "stream",
     "text": [
      "<re.Match object; span=(9, 15), match='potato'>\n",
      "<re.Match object; span=(25, 31), match='potato'>\n"
     ]
    }
   ],
   "source": [
    "# we got a list of matches but we did not get potatoe we just got potato portion without e\n",
    "# how can we get the entire match?\n",
    "\n",
    "# we can use finditer method\n",
    "\n",
    "# we can use a raw string to avoid escaping backslashes\n",
    "\n",
    "match_iter = re.finditer(r\"potato|potatoe\", potatoe_string)\n",
    "for match in match_iter:\n",
    "    print(match) # <re.Match object; span=(5, 11), match='potato'>\n",
    "                 # <re.Match object; span=(18, 25), match='potatoe'>"
   ]
  },
  {
   "cell_type": "code",
   "execution_count": 26,
   "metadata": {},
   "outputs": [
    {
     "name": "stdout",
     "output_type": "stream",
     "text": [
      "['say', 'potato', 'say', 'potatoe']\n"
     ]
    }
   ],
   "source": [
    "# so one way of fixing this match would be to reverse the order\n",
    "\n",
    "# we will use findall method\n",
    "match_list = re.findall(r\"say|potatoe|potato\", potatoe_string)\n",
    "print(match_list) # ['potatoe', 'potato']"
   ]
  },
  {
   "cell_type": "code",
   "execution_count": 30,
   "metadata": {},
   "outputs": [],
   "source": [
    "# text with some ficticious email addresses\n",
    "email_text = \"\"\"A bit of text with some email addresses like\n",
    "valdis.saulespurens@gmail.com\n",
    "valdis@example.com\n",
    "billgates@microsoft.com\n",
    "there is some text after the emails\n",
    "Jimmy Wales email is jimmy.wales@wikipedia.org\n",
    "some email with numbers my_fun_email_3425@three.word.domain\n",
    "some extra text\n",
    "\"\"\"\n"
   ]
  },
  {
   "cell_type": "code",
   "execution_count": 28,
   "metadata": {},
   "outputs": [
    {
     "name": "stdout",
     "output_type": "stream",
     "text": [
      "['saulespurens@gmail.com', 'valdis@example.com', 'billgates@microsoft.com', 'wales@wikipedia.org']\n"
     ]
    }
   ],
   "source": [
    "# lets run our email extractor regex\n",
    "\n",
    "# we can use a raw string to avoid escaping backslashes\n",
    "\n",
    "email_list = re.findall(r\"\\w+@\\w+\\.\\w+\", email_text) # notice . is escaped because it is a special character\n",
    "print(email_list)\n",
    "# this simple regex did not pick up on the emails with . in the begginning"
   ]
  },
  {
   "cell_type": "code",
   "execution_count": null,
   "metadata": {},
   "outputs": [],
   "source": [
    "# \\w matches any word character\n",
    "# word character is a letter, digit or underscore - not . or @"
   ]
  },
  {
   "cell_type": "code",
   "execution_count": 31,
   "metadata": {},
   "outputs": [
    {
     "name": "stdout",
     "output_type": "stream",
     "text": [
      "['valdis.saulespurens@gmail.com', 'valdis@example.com', 'billgates@microsoft.com', 'jimmy.wales@wikipedia.org', 'my_fun_email_3425@three.word']\n"
     ]
    }
   ],
   "source": [
    "# we can fix it by modifying the first part to allow for . in the beginning\n",
    "# it is tricky because we do not want to require . in the beginning\n",
    "email_list = re.findall(r\"[a-zA-Z0-9_.+-]+@\\w+\\.\\w+\", email_text) # notice . is escaped because it is a special character\n",
    "print(email_list) # again same problem with . with the end . which should optional"
   ]
  },
  {
   "cell_type": "code",
   "execution_count": 32,
   "metadata": {},
   "outputs": [
    {
     "name": "stdout",
     "output_type": "stream",
     "text": [
      "['valdis.saulespurens@gmail.com', 'valdis@example.com', 'billgates@microsoft.com', 'jimmy.wales@wikipedia.org', 'my_fun_email_3425@three.word.domain']\n"
     ]
    }
   ],
   "source": [
    "# we can fix it by making the last part optional\n",
    "email_list = re.findall(r\"[a-zA-Z0-9_.+-]+@[a-zA-Z0-9-]+\\.[a-zA-Z0-9-.]+\", email_text) # notice . is escaped because it is a special character\n",
    "print(email_list)"
   ]
  },
  {
   "cell_type": "code",
   "execution_count": null,
   "metadata": {},
   "outputs": [],
   "source": [
    "# there are exception to the above regex\n",
    "# for example founder of Wordpress Matt Mullenweg has an email address\n",
    "# ma@tt - this is a valid email address but our regex would not match it\n",
    "# full email regex would be quite complicated\n",
    "# our regex would not match emojis either - there are vanity email addresses with emojis\n",
    "# for full validation of email addresses you would need a full email validation library"
   ]
  },
  {
   "cell_type": "code",
   "execution_count": 34,
   "metadata": {},
   "outputs": [
    {
     "name": "stdout",
     "output_type": "stream",
     "text": [
      "['First American', 'George Washington', 'John Adams', 'Thomas Jefferson', 'James Madison', 'James Monroe', 'John Quincy', 'Andrew Jackson', 'Martin Van', 'Dalia Grybauskait']\n"
     ]
    }
   ],
   "source": [
    "# lets make a string of US presidents\n",
    "presidents = \"\"\"First American president was George Washington\n",
    "then we got John Adams\n",
    "Thomas Jefferson\n",
    "James Madison\n",
    "James Monroe\n",
    "John Quincy Adams\n",
    "Andrew Jackson\n",
    "Martin Van Buren\n",
    "Vaira Vīķe-Freiberga a Latvian president from 1999 to 2007\n",
    "Lithuanian president Dalia Grybauskaitė from 2009 to 2019 \n",
    "then some non presidents with no capitals\"\"\"\n",
    "\n",
    "# lets extract all 2 or 3 word names with capitals\n",
    "# those who are attentive will notice First American president is not a name but we will ignore that for now\n",
    "\n",
    "# we can use a raw string to avoid escaping backslashes\n",
    "\n",
    "presidents_list = re.findall(r\"[A-Z][a-z]+ [A-Z][a-z]+\", presidents)\n",
    "print(presidents_list) # ['George Washington', 'John Adams', 'Thomas Jefferson', 'James Madison', 'James Monroe', 'John Quincy Adams', 'Andrew Jackson', 'Martin Van Buren']"
   ]
  },
  {
   "cell_type": "code",
   "execution_count": 36,
   "metadata": {},
   "outputs": [],
   "source": [
    "# we had some Latvian and Lithuanian characters in our text which was not matched\n",
    "# we can fix it by using unicode character classes\n",
    "# \\p{Lu} matches any uppercase letter\n",
    "# \\p{Ll} matches any lowercase letter\n",
    "\n",
    "# match multiple lowercase unicode characters\n",
    "# match multiple uppercase unicode characters\n",
    "\n",
    "# we can use a raw string to avoid escaping backslashes\n",
    "# this requires installing regex library\n",
    "# pip install regex\n",
    "# a fine option is to use regex library instead of re\n",
    "\n",
    "# presidents_list = re.findall(r\"\\p{Lu}\\p{Ll}+ \\p{Lu}\\p{Ll}+\", presidents)\n",
    "# print(presidents_list) # ['George Washington', 'John Adams', 'Thomas Jefferson', 'James Madison', 'James Monroe', 'John Quincy Adams', 'Andrew Jackson', 'Martin Van Buren', 'Vaira Vīķe-Freiberga', 'Dalia Grybauskaitė']\n"
   ]
  },
  {
   "cell_type": "code",
   "execution_count": 38,
   "metadata": {},
   "outputs": [
    {
     "name": "stdout",
     "output_type": "stream",
     "text": [
      "['F', 'A', 'G', 'W', 'J', 'A', 'T', 'J', 'J', 'M', 'J', 'M', 'J', 'Q', 'A', 'A', 'J', 'M', 'V', 'B', 'V', 'V', 'F', 'L', 'L', 'D', 'G']\n"
     ]
    }
   ],
   "source": [
    "# this is more complicated than we need\n",
    "pLu = r\"[A-Z\\u00C0-\\u00D6\\u00D8-\\u00DE\\u0100\\u0102\\u0104\\u0106\\u0108\\u010A\\u010C\\u010E\\u0110\\u0112\\u0114\\u0116\\u0118\\u011A\\u011C\\u011E\\u0120\\u0122\\u0124\\u0126\\u0128\\u012A\\u012C\\u012E\\u0130\\u0132\\u0134\\u0136\\u0139\\u013B\\u013D\\u013F\\u0141\\u0143\\u0145\\u0147\\u014A\\u014C\\u014E\\u0150\\u0152\\u0154\\u0156\\u0158\\u015A\\u015C\\u015E\\u0160\\u0162\\u0164\\u0166\\u0168\\u016A\\u016C\\u016E\\u0170\\u0172\\u0174\\u0176\\u0178\\u0179\\u017B\\u017D\\u0181\\u0182\\u0184\\u0186\\u0187\\u0189-\\u018B\\u018E-\\u0191\\u0193\\u0194\\u0196-\\u0198\\u019C\\u019D\\u019F\\u01A0\\u01A2\\u01A4\\u01A6\\u01A7\\u01A9\\u01AC\\u01AE\\u01AF\\u01B1-\\u01B3\\u01B5\\u01B7\\u01B8\\u01BC\\u01C4\\u01C7\\u01CA\\u01CD\\u01CF\\u01D1\\u01D3\\u01D5\\u01D7\\u01D9\\u01DB\\u01DE\\u01E0\\u01E2\\u01E4\\u01E6\\u01E8\\u01EA\\u01EC\\u01EE\\u01F1\\u01F4\\u01F6-\\u01F8\\u01FA\\u01FC\\u01FE\\u0200\\u0202\\u0204\\u0206\\u0208\\u020A\\u020C\\u020E\\u0210\\u0212\\u0214\\u0216\\u0218\\u021A\\u021C\\u021E\\u0220\\u0222\\u0224\\u0226\\u0228\\u022A\\u022C\\u022E\\u0230\\u0232\\u023A\\u023B\\u023D\\u023E\\u0241\\u0243-\\u0246\\u0248\\u024A\\u024C\\u024E\\u0370\\u0372\\u0376\\u037F\\u0386\\u0388-\\u038A\\u038C\\u038E\\u038F\\u0391-\\u03A1\\u03A3-\\u03AB\\u03CF\\u03D2-\\u03D4\\u03D8\\u03DA\\u03DC\\u03DE\\u03E0\\u03E2\\u03E4\\u03E6\\u03E8\\u03EA\\u03EC\\u03EE\\u03F4\\u03F7\\u03F9\\u03FA\\u03FD-\\u042F\\u0460\\u0462\\u0464\\u0466\\u0468\\u046A\\u046C\\u046E\\u0470\\u0472\\u0474\\u0476\\u0478\\u047A\\u047C\\u047E\\u0480\\u048A\\u048C\\u048E\\u0490\\u0492\\u0494\\u0496\\u0498\\u049A\\u049C\\u049E\\u04A0\\u04A2\\u04A4\\u04A6\\u04A8\\u04AA\\u04AC\\u04AE\\u04B0\\u04B2\\u04B4\\u04B6\\u04B8\\u04BA\\u04BC\\u04BE\\u04C0\\u04C1\\u04C3\\u04C5\\u04C7\\u04C9\\u04CB\\u04CD\\u04D0\\u04D2\\u04D4\\u04D6\\u04D8\\u04DA\\u04DC\\u04DE\\u04E0\\u04E2\\u04E4\\u04E6\\u04E8\\u04EA\\u04EC\\u04EE\\u04F0\\u04F2\\u04F4\\u04F6\\u04F8\\u04FA\\u04FC\\u04FE\\u0500\\u0502\\u0504\\u0506\\u0508\\u050A\\u050C\\u050E\\u0510\\u0512\\u0514\\u0516\\u0518\\u051A\\u051C\\u051E\\u0520\\u0522\\u0524\\u0526\\u0528\\u052A\\u052C\\u052E\\u0531-\\u0556\\u10A0-\\u10C5\\u10C7\\u10CD\\u13A0-\\u13F5\\u1E00\\u1E02\\u1E04\\u1E06\\u1E08\\u1E0A\\u1E0C\\u1E0E\\u1E10\\u1E12\\u1E14\\u1E16\\u1E18\\u1E1A\\u1E1C\\u1E1E\\u1E20\\u1E22\\u1E24\\u1E26\\u1E28\\u1E2A\\u1E2C\\u1E2E\\u1E30\\u1E32\\u1E34\\u1E36\\u1E38\\u1E3A\\u1E3C\\u1E3E\\u1E40\\u1E42\\u1E44\\u1E46\\u1E48\\u1E4A\\u1E4C\\u1E4E\\u1E50\\u1E52\\u1E54\\u1E56\\u1E58\\u1E5A\\u1E5C\\u1E5E\\u1E60\\u1E62\\u1E64\\u1E66\\u1E68\\u1E6A\\u1E6C\\u1E6E\\u1E70\\u1E72\\u1E74\\u1E76\\u1E78\\u1E7A\\u1E7C\\u1E7E\\u1E80\\u1E82\\u1E84\\u1E86\\u1E88\\u1E8A\\u1E8C\\u1E8E\\u1E90\\u1E92\\u1E94\\u1E9E\\u1EA0\\u1EA2\\u1EA4\\u1EA6\\u1EA8\\u1EAA\\u1EAC\\u1EAE\\u1EB0\\u1EB2\\u1EB4\\u1EB6\\u1EB8\\u1EBA\\u1EBC\\u1EBE\\u1EC0\\u1EC2\\u1EC4\\u1EC6\\u1EC8\\u1ECA\\u1ECC\\u1ECE\\u1ED0\\u1ED2\\u1ED4\\u1ED6\\u1ED8\\u1EDA\\u1EDC\\u1EDE\\u1EE0\\u1EE2\\u1EE4\\u1EE6\\u1EE8\\u1EEA\\u1EEC\\u1EEE\\u1EF0\\u1EF2\\u1EF4\\u1EF6\\u1EF8\\u1EFA\\u1EFC\\u1EFE\\u1F08-\\u1F0F\\u1F18-\\u1F1D\\u1F28-\\u1F2F\\u1F38-\\u1F3F\\u1F48-\\u1F4D\\u1F59\\u1F5B\\u1F5D\\u1F5F\\u1F68-\\u1F6F\\u1FB8-\\u1FBB\\u1FC8-\\u1FCB\\u1FD8-\\u1FDB\\u1FE8-\\u1FEC\\u1FF8-\\u1FFB\\u2102\\u2107\\u210B-\\u210D\\u2110-\\u2112\\u2115\\u2119-\\u211D\\u2124\\u2126\\u2128\\u212A-\\u212D\\u2130-\\u2133\\u213E\\u213F\\u2145\\u2160-\\u216F\\u2183\\u24B6-\\u24CF\\u2C00-\\u2C2E\\u2C60\\u2C62-\\u2C64\\u2C67\\u2C69\\u2C6B\\u2C6D-\\u2C70\\u2C72\\u2C75\\u2C7E-\\u2C80\\u2C82\\u2C84\\u2C86\\u2C88\\u2C8A\\u2C8C\\u2C8E\\u2C90\\u2C92\\u2C94\\u2C96\\u2C98\\u2C9A\\u2C9C\\u2C9E\\u2CA0\\u2CA2\\u2CA4\\u2CA6\\u2CA8\\u2CAA\\u2CAC\\u2CAE\\u2CB0\\u2CB2\\u2CB4\\u2CB6\\u2CB8\\u2CBA\\u2CBC\\u2CBE\\u2CC0\\u2CC2\\u2CC4\\u2CC6\\u2CC8\\u2CCA\\u2CCC\\u2CCE\\u2CD0\\u2CD2\\u2CD4\\u2CD6\\u2CD8\\u2CDA\\u2CDC\\u2CDE\\u2CE0\\u2CE2\\u2CEB\\u2CED\\u2CF2\\uA640\\uA642\\uA644\\uA646\\uA648\\uA64A\\uA64C\\uA64E\\uA650\\uA652\\uA654\\uA656\\uA658\\uA65A\\uA65C\\uA65E\\uA660\\uA662\\uA664\\uA666\\uA668\\uA66A\\uA66C\\uA680\\uA682\\uA684\\uA686\\uA688\\uA68A\\uA68C\\uA68E\\uA690\\uA692\\uA694\\uA696\\uA698\\uA69A\\uA722\\uA724\\uA726\\uA728\\uA72A\\uA72C\\uA72E\\uA732\\uA734\\uA736\\uA738\\uA73A\\uA73C\\uA73E\\uA740\\uA742\\uA744\\uA746\\uA748\\uA74A\\uA74C\\uA74E\\uA750\\uA752\\uA754\\uA756\\uA758\\uA75A\\uA75C\\uA75E\\uA760\\uA762\\uA764\\uA766\\uA768\\uA76A\\uA76C\\uA76E\\uA779\\uA77B\\uA77D\\uA77E\\uA780\\uA782\\uA784\\uA786\\uA78B\\uA78D\\uA790\\uA792\\uA796\\uA798\\uA79A\\uA79C\\uA79E\\uA7A0\\uA7A2\\uA7A4\\uA7A6\\uA7A8\\uA7AA-\\uA7AE\\uA7B0-\\uA7B4\\uA7B6\\uFF21-\\uFF3A\\U00010400-\\U00010427\\U000104B0-\\U000104D3\\U00010C80-\\U00010CB2\\U000118A0-\\U000118BF\\U0001D400-\\U0001D419\\U0001D434-\\U0001D44D\\U0001D468-\\U0001D481\\U0001D49C\\U0001D49E\\U0001D49F\\U0001D4A2\\U0001D4A5\\U0001D4A6\\U0001D4A9-\\U0001D4AC\\U0001D4AE-\\U0001D4B5\\U0001D4D0-\\U0001D4E9\\U0001D504\\U0001D505\\U0001D507-\\U0001D50A\\U0001D50D-\\U0001D514\\U0001D516-\\U0001D51C\\U0001D538\\U0001D539\\U0001D53B-\\U0001D53E\\U0001D540-\\U0001D544\\U0001D546\\U0001D54A-\\U0001D550\\U0001D56C-\\U0001D585\\U0001D5A0-\\U0001D5B9\\U0001D5D4-\\U0001D5ED\\U0001D608-\\U0001D621\\U0001D63C-\\U0001D655\\U0001D670-\\U0001D689\\U0001D6A8-\\U0001D6C0\\U0001D6E2-\\U0001D6FA\\U0001D71C-\\U0001D734\\U0001D756-\\U0001D76E\\U0001D790-\\U0001D7A8\\U0001D7CA\\U0001E900-\\U0001E921\\U0001F130-\\U0001F149\\U0001F150-\\U0001F169\\U0001F170-\\U0001F189]\"\n",
    "p = re.compile(pLu)\n",
    "match_list = p.findall(presidents)\n",
    "print(match_list)"
   ]
  },
  {
   "cell_type": "code",
   "execution_count": null,
   "metadata": {},
   "outputs": [],
   "source": []
  },
  {
   "cell_type": "code",
   "execution_count": null,
   "metadata": {},
   "outputs": [],
   "source": []
  },
  {
   "cell_type": "code",
   "execution_count": null,
   "metadata": {},
   "outputs": [],
   "source": [
    "# so r\"[A-Z][a-z]+ \" means one capital letter followed by one or more lowercase letters followed by a space"
   ]
  }
 ],
 "metadata": {
  "kernelspec": {
   "display_name": "Python 3.10.7 ('venv': venv)",
   "language": "python",
   "name": "python3"
  },
  "language_info": {
   "codemirror_mode": {
    "name": "ipython",
    "version": 3
   },
   "file_extension": ".py",
   "mimetype": "text/x-python",
   "name": "python",
   "nbconvert_exporter": "python",
   "pygments_lexer": "ipython3",
   "version": "3.10.7"
  },
  "orig_nbformat": 4,
  "vscode": {
   "interpreter": {
    "hash": "b80708c7bd38bd96dc15c82484a40621665f8a1d2e88ebc3c5ed926cece63585"
   }
  }
 },
 "nbformat": 4,
 "nbformat_minor": 2
}
