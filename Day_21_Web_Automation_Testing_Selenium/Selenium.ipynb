{
 "cells": [
  {
   "cell_type": "code",
   "execution_count": 2,
   "metadata": {},
   "outputs": [
    {
     "name": "stdout",
     "output_type": "stream",
     "text": [
      "Collecting selenium\n",
      "  Downloading selenium-3.141.0-py2.py3-none-any.whl (904 kB)\n",
      "Requirement already satisfied: urllib3 in c:\\users\\liga\\anaconda3\\lib\\site-packages (from selenium) (1.25.9)\n",
      "Installing collected packages: selenium\n",
      "Successfully installed selenium-3.141.0\n"
     ]
    }
   ],
   "source": [
    "!pip install selenium  # only once!"
   ]
  },
  {
   "cell_type": "code",
   "execution_count": 1,
   "metadata": {},
   "outputs": [],
   "source": [
    "# now drivers https://pypi.org/project/selenium/\n",
    "# https://sites.google.com/a/chromium.org/chromedriver/downloads\n",
    "# driver has to be a in a path that is in your System Enviroment Path"
   ]
  },
  {
   "cell_type": "code",
   "execution_count": 1,
   "metadata": {},
   "outputs": [],
   "source": [
    "from selenium import webdriver\n",
    "from selenium.webdriver.common.keys import Keys\n",
    "\n",
    "browser = webdriver.Chrome()  # so you need driver for the browser your Python folder is one option"
   ]
  },
  {
   "cell_type": "code",
   "execution_count": 5,
   "metadata": {},
   "outputs": [],
   "source": [
    "# import By\n",
    "from selenium.webdriver.common.by import By\n",
    "# By is a class that has a lot of attributes that you can use to find elements\n",
    "# By.ID, By.NAME, By.CLASS_NAME, By.TAG_NAME, By.LINK_TEXT, By.PARTIAL_LINK_TEXT, By.XPATH, By.CSS_SELECTOR"
   ]
  },
  {
   "cell_type": "code",
   "execution_count": 2,
   "metadata": {},
   "outputs": [],
   "source": [
    "browser.get('http://www.ss.com')\n",
    "# for testing assert 'SS' in browser.title\n",
    "assert 'SS' in browser.title  # so no error we are good"
   ]
  },
  {
   "cell_type": "code",
   "execution_count": 3,
   "metadata": {},
   "outputs": [
    {
     "data": {
      "text/plain": [
       "'https://www.ss.com/'"
      ]
     },
     "execution_count": 3,
     "metadata": {},
     "output_type": "execute_result"
    }
   ],
   "source": [
    "browser.current_url"
   ]
  },
  {
   "cell_type": "code",
   "execution_count": 22,
   "metadata": {},
   "outputs": [
    {
     "data": {
      "text/plain": [
       "selenium.webdriver.remote.webelement.WebElement"
      ]
     },
     "execution_count": 22,
     "metadata": {},
     "output_type": "execute_result"
    }
   ],
   "source": [
    "# if you go forward and backward in the browser\n",
    "# you will need to find the elements again\n",
    "cars = browser.find_element(By.ID, \"mtd_97\")\n",
    "type(cars)"
   ]
  },
  {
   "cell_type": "code",
   "execution_count": 23,
   "metadata": {},
   "outputs": [
    {
     "data": {
      "text/plain": [
       "'https://www.ss.com/lv/transport/cars/'"
      ]
     },
     "execution_count": 23,
     "metadata": {},
     "output_type": "execute_result"
    }
   ],
   "source": [
    "cars.get_attribute('href')"
   ]
  },
  {
   "cell_type": "code",
   "execution_count": 8,
   "metadata": {},
   "outputs": [
    {
     "data": {
      "text/plain": [
       "'Vieglie auto'"
      ]
     },
     "execution_count": 8,
     "metadata": {},
     "output_type": "execute_result"
    }
   ],
   "source": [
    "cars.get_attribute('title')"
   ]
  },
  {
   "cell_type": "code",
   "execution_count": 10,
   "metadata": {},
   "outputs": [
    {
     "data": {
      "text/plain": [
       "selenium.webdriver.remote.webelement.WebElement"
      ]
     },
     "execution_count": 10,
     "metadata": {},
     "output_type": "execute_result"
    }
   ],
   "source": [
    "# find  web element by exact text\n",
    "also_cars = browser.find_element(By.LINK_TEXT, \"Vieglie auto\")\n",
    "type(also_cars)"
   ]
  },
  {
   "cell_type": "code",
   "execution_count": 11,
   "metadata": {},
   "outputs": [
    {
     "data": {
      "text/plain": [
       "'Vieglie auto'"
      ]
     },
     "execution_count": 11,
     "metadata": {},
     "output_type": "execute_result"
    }
   ],
   "source": [
    "also_cars.text"
   ]
  },
  {
   "cell_type": "code",
   "execution_count": 24,
   "metadata": {},
   "outputs": [
    {
     "data": {
      "text/plain": [
       "'Vieglie auto'"
      ]
     },
     "execution_count": 24,
     "metadata": {},
     "output_type": "execute_result"
    }
   ],
   "source": [
    "cars.text"
   ]
  },
  {
   "cell_type": "code",
   "execution_count": 12,
   "metadata": {},
   "outputs": [
    {
     "data": {
      "text/plain": [
       "selenium.webdriver.remote.webelement.WebElement"
      ]
     },
     "execution_count": 12,
     "metadata": {},
     "output_type": "execute_result"
    }
   ],
   "source": [
    "# https://devhints.io/xpath\n",
    "# XPATH is a language to find elements on a page\n",
    "apart = browser.find_element(By.XPATH, '//a[@title=\"Dzīvokļi\"]')  \n",
    "# XPath is very powerful tool for finding elements\n",
    "type(apart)"
   ]
  },
  {
   "cell_type": "code",
   "execution_count": 13,
   "metadata": {},
   "outputs": [
    {
     "data": {
      "text/plain": [
       "'Dzīvokļi'"
      ]
     },
     "execution_count": 13,
     "metadata": {},
     "output_type": "execute_result"
    }
   ],
   "source": [
    "apart.text"
   ]
  },
  {
   "cell_type": "code",
   "execution_count": 14,
   "metadata": {},
   "outputs": [
    {
     "name": "stdout",
     "output_type": "stream",
     "text": [
      "<selenium.webdriver.remote.webelement.WebElement (session=\"e2011df2ee3b387b90224b84ed6210cd\", element=\"192b4071-d0ca-4637-b25c-712744894ddc\")>\n"
     ]
    }
   ],
   "source": [
    "print(apart)"
   ]
  },
  {
   "cell_type": "code",
   "execution_count": 15,
   "metadata": {},
   "outputs": [
    {
     "data": {
      "text/plain": [
       "<selenium.webdriver.remote.webelement.WebElement (session=\"e2011df2ee3b387b90224b84ed6210cd\", element=\"192b4071-d0ca-4637-b25c-712744894ddc\")>"
      ]
     },
     "execution_count": 15,
     "metadata": {},
     "output_type": "execute_result"
    }
   ],
   "source": [
    "apart"
   ]
  },
  {
   "cell_type": "code",
   "execution_count": 16,
   "metadata": {},
   "outputs": [
    {
     "data": {
      "text/plain": [
       "'https://www.ss.com/lv/real-estate/flats/'"
      ]
     },
     "execution_count": 16,
     "metadata": {},
     "output_type": "execute_result"
    }
   ],
   "source": [
    "# get atrributes of element\n",
    "apart.get_attribute('href')"
   ]
  },
  {
   "cell_type": "code",
   "execution_count": 17,
   "metadata": {},
   "outputs": [],
   "source": [
    "apart.click()  # i can emulate a mouse click"
   ]
  },
  {
   "cell_type": "code",
   "execution_count": 20,
   "metadata": {},
   "outputs": [],
   "source": [
    "browser.back()"
   ]
  },
  {
   "cell_type": "code",
   "execution_count": 25,
   "metadata": {},
   "outputs": [],
   "source": [
    "browser.forward()"
   ]
  },
  {
   "cell_type": "code",
   "execution_count": null,
   "metadata": {},
   "outputs": [],
   "source": [
    "# guide to XPATH \n",
    "# https://devhints.io/xpath"
   ]
  },
  {
   "cell_type": "code",
   "execution_count": 27,
   "metadata": {},
   "outputs": [
    {
     "data": {
      "text/plain": [
       "selenium.webdriver.remote.webelement.WebElement"
      ]
     },
     "execution_count": 27,
     "metadata": {},
     "output_type": "execute_result"
    }
   ],
   "source": [
    "riga = browser.find_element(By.XPATH, '//a[@title=\"Rīga, Sludinājumi\"]')\n",
    "type(riga)"
   ]
  },
  {
   "cell_type": "code",
   "execution_count": 28,
   "metadata": {},
   "outputs": [
    {
     "data": {
      "text/plain": [
       "list"
      ]
     },
     "execution_count": 28,
     "metadata": {},
     "output_type": "execute_result"
    }
   ],
   "source": [
    "# find all elements containing text\n",
    "# https://selenium-python.readthedocs.io/locating-elements.html#locating-hyperlinks-by-link-text\n",
    "# https://selenium-python.readthedocs.io/api.html#module-selenium.webdriver.common.by\n",
    "\n",
    "# notice the s at the end - it means find all\n",
    "all_riga = browser.find_elements(By.PARTIAL_LINK_TEXT, \"Rīga\")\n",
    "type(all_riga)"
   ]
  },
  {
   "cell_type": "code",
   "execution_count": 29,
   "metadata": {},
   "outputs": [
    {
     "data": {
      "text/plain": [
       "2"
      ]
     },
     "execution_count": 29,
     "metadata": {},
     "output_type": "execute_result"
    }
   ],
   "source": [
    "len(all_riga)"
   ]
  },
  {
   "cell_type": "code",
   "execution_count": 30,
   "metadata": {},
   "outputs": [
    {
     "name": "stdout",
     "output_type": "stream",
     "text": [
      "Rīga\n",
      "https://www.ss.com/lv/real-estate/flats/riga/\n",
      "Rīgas rajons\n",
      "https://www.ss.com/lv/real-estate/flats/riga-region/\n"
     ]
    }
   ],
   "source": [
    "# let's print all of them - text and href attribute\n",
    "for el in all_riga:\n",
    "    print(el.text)\n",
    "    print(el.get_attribute('href'))"
   ]
  },
  {
   "cell_type": "code",
   "execution_count": 31,
   "metadata": {},
   "outputs": [],
   "source": [
    "# click on the first one\n",
    "all_riga[0].click()"
   ]
  },
  {
   "cell_type": "code",
   "execution_count": 33,
   "metadata": {},
   "outputs": [
    {
     "data": {
      "text/plain": [
       "selenium.webdriver.remote.webelement.WebElement"
      ]
     },
     "execution_count": 33,
     "metadata": {},
     "output_type": "execute_result"
    }
   ],
   "source": [
    "# find element which has Izvietot sludinājumu button\n",
    "# https://selenium-python.readthedocs.io/locating-elements.html#locating-buttons-by-their-text\n",
    "\n",
    "button = browser.find_element(By.XPATH, '//input[@value=\"Izvietot sludinājumu\"]')\n",
    "type(button)"
   ]
  },
  {
   "cell_type": "code",
   "execution_count": 34,
   "metadata": {},
   "outputs": [
    {
     "data": {
      "text/plain": [
       "'Izvietot sludinājumu'"
      ]
     },
     "execution_count": 34,
     "metadata": {},
     "output_type": "execute_result"
    }
   ],
   "source": [
    "button.get_attribute('value')"
   ]
  },
  {
   "cell_type": "code",
   "execution_count": 35,
   "metadata": {},
   "outputs": [],
   "source": [
    "button.click()"
   ]
  },
  {
   "cell_type": "code",
   "execution_count": 36,
   "metadata": {},
   "outputs": [
    {
     "data": {
      "text/plain": [
       "{'width': 1550, 'height': 838}"
      ]
     },
     "execution_count": 36,
     "metadata": {},
     "output_type": "execute_result"
    }
   ],
   "source": [
    "browser.get_window_size() # tells you the size of the window"
   ]
  },
  {
   "cell_type": "code",
   "execution_count": 37,
   "metadata": {
    "scrolled": true
   },
   "outputs": [
    {
     "data": {
      "text/plain": [
       "True"
      ]
     },
     "execution_count": 37,
     "metadata": {},
     "output_type": "execute_result"
    }
   ],
   "source": [
    "# save with Pillow graphibrowser.get_screenshot_as_png()\n",
    "\n",
    "browser.save_screenshot(\"page.png\")\n",
    "# you can use analyze the screenshot with Pillow or some other library"
   ]
  },
  {
   "cell_type": "code",
   "execution_count": 39,
   "metadata": {},
   "outputs": [
    {
     "data": {
      "text/plain": [
       "'https://www.ss.com/lv/real-estate/flats/new/'"
      ]
     },
     "execution_count": 39,
     "metadata": {},
     "output_type": "execute_result"
    }
   ],
   "source": [
    "browser.current_url"
   ]
  },
  {
   "cell_type": "code",
   "execution_count": 40,
   "metadata": {},
   "outputs": [
    {
     "data": {
      "text/plain": [
       "selenium.webdriver.remote.webelement.WebElement"
      ]
     },
     "execution_count": 40,
     "metadata": {},
     "output_type": "execute_result"
    }
   ],
   "source": [
    "# click radio button Transports \n",
    "# https://selenium-python.readthedocs.io/locating-elements.html#locating-radio-buttons-by-name-or-id\n",
    "#opt_cid_0-5\n",
    "\n",
    "radio = browser.find_element(By.XPATH, '//input[@id=\"opt_cid_0-5\"]')\n",
    "type(radio)"
   ]
  },
  {
   "cell_type": "code",
   "execution_count": 42,
   "metadata": {},
   "outputs": [],
   "source": [
    "radio.click()"
   ]
  },
  {
   "cell_type": "code",
   "execution_count": 43,
   "metadata": {},
   "outputs": [
    {
     "data": {
      "text/plain": [
       "selenium.webdriver.remote.webelement.WebElement"
      ]
     },
     "execution_count": 43,
     "metadata": {},
     "output_type": "execute_result"
    }
   ],
   "source": [
    "category_radio = browser.find_element(By.XPATH, '//input[@id=\"opt_cid_1-97\"]')\n",
    "type(category_radio)"
   ]
  },
  {
   "cell_type": "code",
   "execution_count": 44,
   "metadata": {},
   "outputs": [],
   "source": [
    "category_radio.click()"
   ]
  },
  {
   "cell_type": "code",
   "execution_count": 45,
   "metadata": {
    "scrolled": false
   },
   "outputs": [
    {
     "data": {
      "text/plain": [
       "selenium.webdriver.remote.webelement.WebElement"
      ]
     },
     "execution_count": 45,
     "metadata": {},
     "output_type": "execute_result"
    }
   ],
   "source": [
    "# get selector by name\n",
    "# https://selenium-python.readthedocs.io/locating-elements.html#locating-elements-by-name\n",
    "category_selector = browser.find_element(By.NAME, 'cid_2')\n",
    "type(category_selector)"
   ]
  },
  {
   "cell_type": "code",
   "execution_count": 46,
   "metadata": {},
   "outputs": [
    {
     "data": {
      "text/plain": [
       "selenium.webdriver.support.select.Select"
      ]
     },
     "execution_count": 46,
     "metadata": {},
     "output_type": "execute_result"
    }
   ],
   "source": [
    "# select value in selector by value\n",
    "# https://selenium-python.readthedocs.io/locating-elements.html#locating-elements-by-name\n",
    "from selenium.webdriver.support.ui import Select\n",
    "select = Select(category_selector)\n",
    "type(select)"
   ]
  },
  {
   "cell_type": "code",
   "execution_count": 48,
   "metadata": {},
   "outputs": [],
   "source": [
    "select.select_by_value('111')"
   ]
  },
  {
   "cell_type": "code",
   "execution_count": 56,
   "metadata": {},
   "outputs": [],
   "source": [
    "select.select_by_visible_text('Chevrolet')"
   ]
  },
  {
   "cell_type": "code",
   "execution_count": 53,
   "metadata": {},
   "outputs": [
    {
     "data": {
      "text/plain": [
       "selenium.webdriver.remote.webelement.WebElement"
      ]
     },
     "execution_count": 53,
     "metadata": {},
     "output_type": "execute_result"
    }
   ],
   "source": [
    "# find element by partial text\n",
    "# https://selenium-python.readthedocs.io/locating-elements.html#locating-hyperlinks-by-link-text\n",
    "#page_main_full > form > table > tbody > tr:nth-child(3) > td > table > tbody > tr:nth-child(2) > td:nth-child(2) > input.b.new_ad_select\n",
    "turpinat = browser.find_element(By.CLASS_NAME, 'new_ad_select')\n",
    "type(turpinat)"
   ]
  },
  {
   "cell_type": "code",
   "execution_count": 57,
   "metadata": {},
   "outputs": [],
   "source": [
    "turpinat.click()"
   ]
  },
  {
   "cell_type": "code",
   "execution_count": 58,
   "metadata": {},
   "outputs": [
    {
     "data": {
      "text/plain": [
       "'Mobilais tālrunis:'"
      ]
     },
     "execution_count": 58,
     "metadata": {},
     "output_type": "execute_result"
    }
   ],
   "source": [
    "# find login form\n",
    "\n",
    "login_form = browser.find_element(By.ID, 'login_form_login_tr')\n",
    "login_form.text"
   ]
  },
  {
   "cell_type": "code",
   "execution_count": 60,
   "metadata": {},
   "outputs": [
    {
     "data": {
      "text/plain": [
       "''"
      ]
     },
     "execution_count": 60,
     "metadata": {},
     "output_type": "execute_result"
    }
   ],
   "source": [
    "# find td child of login_form\n",
    "login_form_td_input = login_form.find_element(By.XPATH, './/td/input')\n",
    "login_form_td_input.text"
   ]
  },
  {
   "cell_type": "code",
   "execution_count": 62,
   "metadata": {},
   "outputs": [],
   "source": [
    "# enter some text in the input\n",
    "login_form_td_input.send_keys('2640')"
   ]
  },
  {
   "cell_type": "code",
   "execution_count": 63,
   "metadata": {},
   "outputs": [],
   "source": [
    "# press backwards 3 times\n",
    "login_form_td_input.send_keys(Keys.BACKSPACE * 3)"
   ]
  },
  {
   "cell_type": "code",
   "execution_count": 64,
   "metadata": {},
   "outputs": [
    {
     "data": {
      "text/plain": [
       "6"
      ]
     },
     "execution_count": 64,
     "metadata": {},
     "output_type": "execute_result"
    }
   ],
   "source": [
    "# you can use Selenium just like beautiful soup\n",
    "# get all tables\n",
    "\n",
    "tables = browser.find_elements(By.TAG_NAME, 'table')\n",
    "len(tables)"
   ]
  },
  {
   "cell_type": "code",
   "execution_count": 65,
   "metadata": {},
   "outputs": [
    {
     "data": {
      "text/plain": [
       "'Cena:\\n-  Istabas:\\n1\\n2\\n3\\n4\\n5\\n6\\nCiti\\n-\\n1\\n2\\n3\\n4\\n5\\n6\\nCiti\\n  Platība:\\n-  Stāvs:\\n-  Sērija:\\n103.\\n104.\\n467.\\n602.\\nČehu pr.\\nHrušč.\\nM. ģim.\\nP. kara\\nPriv. m.\\nRenov.\\nSpecpr.\\nStaļina\\nJaun.\\n '"
      ]
     },
     "execution_count": 65,
     "metadata": {},
     "output_type": "execute_result"
    }
   ],
   "source": [
    "tables[2].text"
   ]
  },
  {
   "cell_type": "code",
   "execution_count": 67,
   "metadata": {},
   "outputs": [
    {
     "data": {
      "text/plain": [
       "' Sludinājumi\\ndatums\\nIela Ist. m2 Stāvs Sērija Cena, m2 Cena\\nСдаю срочно квартиру в новостройке. Квартира сдаётся впервые , х\\nDuntes 28 2 65 6/12 Jaun. 7.69 € 500 €/mēn.\\nEkskluzīvs 6-istabu dzīvoklis Klusajā centrā renovētā Pirmskara\\nEksporta 4 6 205 2/5 Renov. 1,341 € 275,000 €\\nPārdod nelielu dzīvokli Rīgas vēsturiskajā centrā, Marijas ielā\\nMarijas 14A 1 19 6/6 Renov. 2,775 € 52,725 €\\nMūsdienīgi izremontēts dzīvoklis pašā centra sirdī Pārdod tieši\\nTērbatas 59 3 48 1/6 P. kara 2,177 € 104,500 €\\nLielisks 2.5-istabu dzīvoklis Krišjāņa Valdemāra ielā. Dzīvo\\nValdemāra 87 2 63 2/5 P. kara 1,663 € 104,800 €\\nTiek pārdots 2 istabu dzīvoklis dzīvojamā ēkā ar vēsturisku auru\\nStabu 46/48 2 52 6/6 P. kara 1,654 € 86,000 €\\nLielisks 3-istabu dzīvoklis Krišjāņa Valdemāra ielā. Dzīvok\\nValdemāra 87 3 63 2/5 P. kara 1,663 € 104,800 €\\nĻoti labā atrašanās vietā Rīgas centrā ilgtermiņa nomai (vēlams\\nValdemāra 147 k3 3 72 3/5 Hrušč. 8.75 € 630 €/mēn.\\nĪpašnieks pārdod trīs istabu dzīvokli - tuvu Klusajam Centram, H\\nGanību d. 15 3 93 6/6 P. kara 1,366 € 127,000 €\\nTiek pārdots 3 istabu dzīvoklis ēkā ar vēsturisku auru. Dzīvokli\\nStabu 46/48 3 79 5/6 P. kara 1,570 € 124,000 €\\nĪpašnieks izīrē izremontētu, ļoti skaistu, gaišu 2 istabu dzīvok\\nČaka 63 2 66 6/6 P. kara 9.09 € 600 €/mēn.\\nХозяин сдаёт. Своё отопление. Īpašnieks izīrē. Sava spkure. silt\\nAvotu 7 2 63 5/5 P. kara 7.54 € 475 €/mēn.\\nPiedāvā īrēšanai renovētā mājā, vienas guļamistabas saulains dzī\\nBarona 10 2 60 5/5 P. kara 7.33 € 440 €/mēn.\\nNew studio type apartment with balcony is available from Novembe\\nČaka 33 1 20 6/7 Renov. 17 € 340 €/mēn.\\nIzīrē divistabu dzīvokli 59 kv/m piecstāvu mājas pirmajā stāvā p\\nValdemāra 40 2 59 1/5 Hrušč. 7.63 € 450 €/mēn.\\nIzīrē izremontētu 2 istabu dzīvokli centrā. Iebūvēta virtuve ar\\nĢertrūdes 90 2 56 4/5 P. kara 6.88 € 385 €/mēn.\\nIzīrēju klusu iekšpagalma dzīvokli ar visām mēbelēm un sadzīves\\nStabu 56 3 52 3/3 P. kara 10 € 520 €/mēn.\\nBez starpniekiem pārdod dzīvokli, bez apgrūtinājumiem. Ļoti ekon\\nPērnavas 39 1 25 4/6 P. kara 1,400 € 35,000 €\\nPar īpašnieka cenu tiek piedāvāts īrei trīsistabu dzīvoklis ar k\\nTomsona 30 3 84 4/9 Jaun. 7.74 € 650 €/mēn.\\nPiedāvājam iegādāties dzīvokli Rīgas tālajā centrā - Stabu ielā\\nStabu 96 3 75 3/6 P. kara 1,733 € 130,000 €\\nTiek izīrēts pilnībā jauns un mēbelēts 2-ist. dzīvoklis Centrā.\\nValdemāra 69 2 37 5/6 Renov. 14.86 € 550 €/mēn.\\nСдается уютная, светлая 2x - комнатная квартира в тихом центре Р\\nBruņinieku 60 2 55 1/5 P. kara 5.45 € 300 €/mēn.\\nĪpašnieks izīrē 2-istabu dzīvokli centrā ar visām ērtībām. Dzī\\nValdemāra 103 2 40 1/5 Staļina 8.75 € 350 €/mēn.\\nVienkāršā stāvoklī, nemēbelēts dzīvoklis fasādes namā. Ieeja n\\nLāčplēša 29 4 103 3/5 P. kara 4.37 € 450 €/mēn.\\nModern and nice 1-bedroom apartment in the City Center, Stabu\\nStabu 92 2 65 3/5 Renov. 6.46 € 420 €/mēn.\\nPārdod 2 izolētu istabu dzīvokli Rīgā, Mastu ielā 6. Dzīvoklis\\nMastu 6 2 48 4/5 Hrušč. 1,448 € 69,500 €\\nPārdodam gaišu, plašu dzīvokli centrā, renovētā mājā. Namam ka\\nValdemāra 83 3 74 6/7 Renov. 2,297 € 170,000 €\\nĪpašnieks pārdod gaišu, mājīgu divistabu dzīvokli pirmskara laik\\nPatversmes 5k1 2 47 2/5 P. kara 1,170 € 55,000 €\\nIzīrē plašu un gaišu 3 istabu dzīvokli ( 89 kvm. ) Rīgas Centrā,\\nĢertrūdes 62 3 89 6/6 Renov. 9.55 € 850 €/mēn.\\nPlašs divu līmeņu 3 istabu dzīvoklis ar divām autostāvvietām.\\nArtilērijas 71 3 103 3/4 P. kara 1,505 € 155,000 €'"
      ]
     },
     "execution_count": 67,
     "metadata": {},
     "output_type": "execute_result"
    }
   ],
   "source": [
    "tables[4].text # all text from the 5th table"
   ]
  },
  {
   "cell_type": "code",
   "execution_count": 24,
   "metadata": {},
   "outputs": [
    {
     "name": "stdout",
     "output_type": "stream",
     "text": [
      "Found 47 elements\n"
     ]
    }
   ],
   "source": [
    "table_rows = browser.find_elements_by_tag_name(\"tr\")\n",
    "print(\"Found\", len(table_rows), \"elements\")"
   ]
  },
  {
   "cell_type": "code",
   "execution_count": null,
   "metadata": {},
   "outputs": [],
   "source": [
    "# 47 is too many we have only 30\n",
    "# we could use additional filter"
   ]
  },
  {
   "cell_type": "code",
   "execution_count": 26,
   "metadata": {},
   "outputs": [
    {
     "name": "stdout",
     "output_type": "stream",
     "text": [
      "37\n"
     ]
    }
   ],
   "source": [
    "ad_rows = [row for row in table_rows if row.get_attribute(\"id\") and row.get_attribute(\"id\").startswith(\"tr_\")]\n",
    "print(len(ad_rows))"
   ]
  },
  {
   "cell_type": "code",
   "execution_count": 28,
   "metadata": {},
   "outputs": [
    {
     "name": "stdout",
     "output_type": "stream",
     "text": [
      "Сдаётся 2 комнатная квартира совсемиудобства, Есть необходимаябы\n",
      "Gobas 34 2 52 5/5 103. 5.19 € 270 €/mēn.\n"
     ]
    }
   ],
   "source": [
    "first_ad = ad_rows[0]\n",
    "print(first_ad.text)"
   ]
  },
  {
   "cell_type": "code",
   "execution_count": 29,
   "metadata": {},
   "outputs": [
    {
     "name": "stdout",
     "output_type": "stream",
     "text": [
      "10\n"
     ]
    }
   ],
   "source": [
    "data_cells = first_ad.find_elements_by_tag_name(\"td\")  # stands for table data\n",
    "print(len(data_cells))"
   ]
  },
  {
   "cell_type": "code",
   "execution_count": 30,
   "metadata": {},
   "outputs": [
    {
     "data": {
      "text/plain": [
       "['',\n",
       " '',\n",
       " 'Сдаётся 2 комнатная квартира совсемиудобства, Есть необходимаябы',\n",
       " 'Gobas 34',\n",
       " '2',\n",
       " '52',\n",
       " '5/5',\n",
       " '103.',\n",
       " '5.19 €',\n",
       " '270 €/mēn.']"
      ]
     },
     "execution_count": 30,
     "metadata": {},
     "output_type": "execute_result"
    }
   ],
   "source": [
    "texts = [cell.text for cell in data_cells]\n",
    "texts"
   ]
  },
  {
   "cell_type": "code",
   "execution_count": 32,
   "metadata": {},
   "outputs": [
    {
     "data": {
      "text/plain": [
       "' Sludinājumi\\ndatums\\nIela Ist. m2 Stāvs Sērija Cena, m2 Cena'"
      ]
     },
     "execution_count": 32,
     "metadata": {},
     "output_type": "execute_result"
    }
   ],
   "source": [
    "headline = browser.find_element_by_id(\"head_line\")\n",
    "headline.text"
   ]
  },
  {
   "cell_type": "code",
   "execution_count": 35,
   "metadata": {},
   "outputs": [
    {
     "name": "stdout",
     "output_type": "stream",
     "text": [
      "8\n"
     ]
    }
   ],
   "source": [
    "head_cells = headline.find_elements_by_tag_name(\"td\")\n",
    "print(len(head_cells))"
   ]
  },
  {
   "cell_type": "code",
   "execution_count": 36,
   "metadata": {},
   "outputs": [
    {
     "data": {
      "text/plain": [
       "[' Sludinājumi\\ndatums',\n",
       " 'Iela',\n",
       " 'Ist.',\n",
       " 'm2',\n",
       " 'Stāvs',\n",
       " 'Sērija',\n",
       " 'Cena, m2',\n",
       " 'Cena']"
      ]
     },
     "execution_count": 36,
     "metadata": {},
     "output_type": "execute_result"
    }
   ],
   "source": [
    "head_texts = [cell.text for cell in head_cells]\n",
    "head_texts"
   ]
  },
  {
   "cell_type": "code",
   "execution_count": 37,
   "metadata": {},
   "outputs": [
    {
     "name": "stdout",
     "output_type": "stream",
     "text": [
      "<selenium.webdriver.remote.webelement.WebElement (session=\"6aa539702e95e8366102be31d724618f\", element=\"8108cd71-ab3b-4b48-ae77-cb79aa830929\")>\n"
     ]
    }
   ],
   "source": [
    "# your_choice=browser.find_element_by_xpath(\"//select/option[@value='196277']\")\n",
    "select_deal_type = browser.find_element_by_xpath('//select[@name=\"sid\"]')\n",
    "print(select_deal_type)"
   ]
  },
  {
   "cell_type": "code",
   "execution_count": 38,
   "metadata": {},
   "outputs": [
    {
     "name": "stdout",
     "output_type": "stream",
     "text": [
      "Found 6 option tags\n"
     ]
    }
   ],
   "source": [
    "options = select_deal_type.find_elements_by_tag_name(\"option\")\n",
    "print(\"Found\", len(options), \"option tags\")"
   ]
  },
  {
   "cell_type": "code",
   "execution_count": 39,
   "metadata": {},
   "outputs": [
    {
     "data": {
      "text/plain": [
       "[<selenium.webdriver.remote.webelement.WebElement (session=\"6aa539702e95e8366102be31d724618f\", element=\"ca7193e8-2b7e-48aa-a50a-6bd033a2d274\")>]"
      ]
     },
     "execution_count": 39,
     "metadata": {},
     "output_type": "execute_result"
    }
   ],
   "source": [
    "option_perks = [option for option in options if \"pērk\" in option.text.lower()]\n",
    "option_perks"
   ]
  },
  {
   "cell_type": "code",
   "execution_count": 40,
   "metadata": {},
   "outputs": [
    {
     "data": {
      "text/plain": [
       "'Pērk'"
      ]
     },
     "execution_count": 40,
     "metadata": {},
     "output_type": "execute_result"
    }
   ],
   "source": [
    "first_perk = option_perks[0]\n",
    "first_perk.text"
   ]
  },
  {
   "cell_type": "code",
   "execution_count": 41,
   "metadata": {},
   "outputs": [],
   "source": [
    "first_perk.click()"
   ]
  },
  {
   "cell_type": "code",
   "execution_count": 43,
   "metadata": {},
   "outputs": [
    {
     "name": "stdout",
     "output_type": "stream",
     "text": [
      "Found 6 option tags\n"
     ]
    }
   ],
   "source": [
    "select_deal_type = browser.find_element_by_xpath('//select[@name=\"sid\"]')\n",
    "options = select_deal_type.find_elements_by_tag_name(\"option\")\n",
    "print(\"Found\", len(options), \"option tags\")\n",
    "for_rent = [option for option in options if \"izīrē\" in option.text.lower()]\n",
    "for_rent = for_rent[0]\n",
    "for_rent.click()"
   ]
  },
  {
   "cell_type": "code",
   "execution_count": 46,
   "metadata": {},
   "outputs": [
    {
     "data": {
      "text/plain": [
       "''"
      ]
     },
     "execution_count": 46,
     "metadata": {},
     "output_type": "execute_result"
    }
   ],
   "source": [
    "cena = browser.find_element_by_id(\"f_o_8_min\")\n",
    "cena.get_attribute(\"value\")"
   ]
  },
  {
   "cell_type": "code",
   "execution_count": 47,
   "metadata": {},
   "outputs": [],
   "source": [
    "cena.send_keys('1')\n",
    "cena.send_keys('2')\n",
    "cena.send_keys('0')"
   ]
  },
  {
   "cell_type": "code",
   "execution_count": 48,
   "metadata": {},
   "outputs": [],
   "source": [
    "cena.send_keys(Keys.BACKSPACE)\n",
    "cena.send_keys(Keys.BACKSPACE)\n",
    "cena.send_keys(Keys.BACKSPACE)\n",
    "cena.send_keys(Keys.BACKSPACE)\n",
    "cena.send_keys(Keys.BACKSPACE)"
   ]
  },
  {
   "cell_type": "code",
   "execution_count": 49,
   "metadata": {},
   "outputs": [],
   "source": [
    "cena.send_keys(\"100\")"
   ]
  },
  {
   "cell_type": "code",
   "execution_count": 50,
   "metadata": {},
   "outputs": [],
   "source": [
    "max_price = browser.find_element_by_id(\"f_o_8_max\")\n",
    "max_price.send_keys(\"300\")"
   ]
  },
  {
   "cell_type": "code",
   "execution_count": 51,
   "metadata": {},
   "outputs": [],
   "source": [
    "max_price.send_keys(Keys.ENTER)"
   ]
  }
 ],
 "metadata": {
  "kernelspec": {
   "display_name": "Python 3.10.7 ('venv': venv)",
   "language": "python",
   "name": "python3"
  },
  "language_info": {
   "codemirror_mode": {
    "name": "ipython",
    "version": 3
   },
   "file_extension": ".py",
   "mimetype": "text/x-python",
   "name": "python",
   "nbconvert_exporter": "python",
   "pygments_lexer": "ipython3",
   "version": "3.10.7"
  },
  "vscode": {
   "interpreter": {
    "hash": "b80708c7bd38bd96dc15c82484a40621665f8a1d2e88ebc3c5ed926cece63585"
   }
  }
 },
 "nbformat": 4,
 "nbformat_minor": 4
}
