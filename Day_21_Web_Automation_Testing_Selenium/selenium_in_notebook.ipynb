{
 "cells": [
  {
   "cell_type": "code",
   "execution_count": 8,
   "metadata": {},
   "outputs": [],
   "source": [
    "# let's import the selenium library\n",
    "import selenium\n",
    "# let's import the webdriver\n",
    "from selenium import webdriver\n",
    "# let's import the keys\n",
    "from selenium.webdriver.common.keys import Keys\n",
    "from selenium.webdriver.common.by import By\n",
    "# let's import the time\n",
    "import time\n",
    "# let's import the pandas for later use\n",
    "import pandas as pd\n"
   ]
  },
  {
   "cell_type": "code",
   "execution_count": null,
   "metadata": {},
   "outputs": [],
   "source": [
    "# where to download Selenium drivers\n",
    "# https://www.selenium.dev/documentation/en/webdriver/driver_requirements/\n",
    "# https://www.selenium.dev/documentation/webdriver/getting_started/install_drivers/"
   ]
  },
  {
   "cell_type": "code",
   "execution_count": 2,
   "metadata": {},
   "outputs": [],
   "source": [
    "driver = webdriver.Chrome() # we can use Firefox, Safari, Chrome\n",
    "# Chrome without path works because I have added the driver to the PATH in System Environment Variables\n",
    "# driver = webdriver.Firefox()\n",
    "# driver = webdriver.Safari()\n",
    "# driver = webdriver.Chrome('C:/DRIVERS/chromedriver.exe') if we want to specify the path to the driver\n",
    "\n",
    "# another alternative is ChromeDriverManager from webdriver_manager.chrome import ChromeDriverManager\n",
    "# thats a standalone package that can be installed with pip install webdriver_manager\n"
   ]
  },
  {
   "cell_type": "code",
   "execution_count": 3,
   "metadata": {},
   "outputs": [],
   "source": [
    "# make a get request to the website - open the website\n",
    "driver.get('https://www.google.com')"
   ]
  },
  {
   "cell_type": "code",
   "execution_count": null,
   "metadata": {},
   "outputs": [],
   "source": [
    "# <div class=\"QS5gu sy4vM\" role=\"none\">Piekrist visiem</div>"
   ]
  },
  {
   "cell_type": "code",
   "execution_count": 10,
   "metadata": {},
   "outputs": [
    {
     "data": {
      "text/plain": [
       "selenium.webdriver.remote.webelement.WebElement"
      ]
     },
     "execution_count": 10,
     "metadata": {},
     "output_type": "execute_result"
    }
   ],
   "source": [
    "# find element with class name QS5gu\n",
    "# to find elements we use find_element \n",
    "# we pass By.CLASS_NAME or By.CSS_SELECTOR By.ID or By.XPATH or By.LINK_TEXT\n",
    "my_element = driver.find_element(By.CLASS_NAME, 'QS5gu')\n",
    "type(my_element)"
   ]
  },
  {
   "cell_type": "code",
   "execution_count": 14,
   "metadata": {},
   "outputs": [
    {
     "data": {
      "text/plain": [
       "selenium.webdriver.remote.webelement.WebElement"
      ]
     },
     "execution_count": 14,
     "metadata": {},
     "output_type": "execute_result"
    }
   ],
   "source": [
    "# find search box by name, so you would need to know the name of the element\n",
    "# in this case it is q\n",
    "search_box = driver.find_element(By.NAME, 'q')\n",
    "type(search_box)"
   ]
  },
  {
   "cell_type": "code",
   "execution_count": 15,
   "metadata": {},
   "outputs": [],
   "source": [
    "# enter the text in the search box\n",
    "search_box.send_keys('SHEGOESTECH' + Keys.RETURN)"
   ]
  },
  {
   "cell_type": "code",
   "execution_count": 12,
   "metadata": {},
   "outputs": [],
   "source": [
    "my_element.click() # simulates a click on the element"
   ]
  },
  {
   "cell_type": "code",
   "execution_count": 13,
   "metadata": {},
   "outputs": [
    {
     "data": {
      "text/plain": [
       "'LV'"
      ]
     },
     "execution_count": 13,
     "metadata": {},
     "output_type": "execute_result"
    }
   ],
   "source": [
    "my_element.text"
   ]
  },
  {
   "cell_type": "code",
   "execution_count": 11,
   "metadata": {},
   "outputs": [
    {
     "data": {
      "text/plain": [
       "selenium.webdriver.chrome.webdriver.WebDriver"
      ]
     },
     "execution_count": 11,
     "metadata": {},
     "output_type": "execute_result"
    }
   ],
   "source": [
    "type(driver)"
   ]
  }
 ],
 "metadata": {
  "kernelspec": {
   "display_name": "Python 3.10.7 ('venv': venv)",
   "language": "python",
   "name": "python3"
  },
  "language_info": {
   "codemirror_mode": {
    "name": "ipython",
    "version": 3
   },
   "file_extension": ".py",
   "mimetype": "text/x-python",
   "name": "python",
   "nbconvert_exporter": "python",
   "pygments_lexer": "ipython3",
   "version": "3.10.7"
  },
  "orig_nbformat": 4,
  "vscode": {
   "interpreter": {
    "hash": "b80708c7bd38bd96dc15c82484a40621665f8a1d2e88ebc3c5ed926cece63585"
   }
  }
 },
 "nbformat": 4,
 "nbformat_minor": 2
}
