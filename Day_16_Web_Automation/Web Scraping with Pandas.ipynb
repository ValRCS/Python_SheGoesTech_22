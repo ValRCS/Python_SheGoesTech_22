{
 "cells": [
  {
   "cell_type": "code",
   "execution_count": 1,
   "metadata": {},
   "outputs": [],
   "source": [
    "import pandas as pd"
   ]
  },
  {
   "cell_type": "code",
   "execution_count": 3,
   "metadata": {},
   "outputs": [],
   "source": [
    "# url = \"https://www.ss.com/lv/real-estate/flats/riga/centre/sell/\" \n",
    "url = \"https://www.ss.com/lv/real-estate/homes-summer-residences/riga-region/all/sell/\"\n",
    "# notice how we can specify some parameters in the url\n"
   ]
  },
  {
   "cell_type": "code",
   "execution_count": 4,
   "metadata": {},
   "outputs": [
    {
     "data": {
      "text/plain": [
       "list"
      ]
     },
     "execution_count": 4,
     "metadata": {},
     "output_type": "execute_result"
    }
   ],
   "source": [
    "# pandas can do some web scraping as long as there are tables\n",
    "dfs = pd.read_html(url, header=0) # i know that i want the first row to server for column names\n",
    "type(dfs)"
   ]
  },
  {
   "cell_type": "code",
   "execution_count": 5,
   "metadata": {},
   "outputs": [
    {
     "data": {
      "text/plain": [
       "11"
      ]
     },
     "execution_count": 5,
     "metadata": {},
     "output_type": "execute_result"
    }
   ],
   "source": [
    "len(dfs) # why list and why such length ?\n",
    "# well ss.com was made in early 2000s when tables were used for everything"
   ]
  },
  {
   "cell_type": "code",
   "execution_count": null,
   "metadata": {},
   "outputs": [],
   "source": [
    "# https://pandas.pydata.org/pandas-docs/stable/reference/api/pandas.read_html.html\n",
    "# pandas reads tables by default ALL tables on the page\n"
   ]
  },
  {
   "cell_type": "code",
   "execution_count": 6,
   "metadata": {},
   "outputs": [
    {
     "data": {
      "text/html": [
       "<div>\n",
       "<style scoped>\n",
       "    .dataframe tbody tr th:only-of-type {\n",
       "        vertical-align: middle;\n",
       "    }\n",
       "\n",
       "    .dataframe tbody tr th {\n",
       "        vertical-align: top;\n",
       "    }\n",
       "\n",
       "    .dataframe thead th {\n",
       "        text-align: right;\n",
       "    }\n",
       "</style>\n",
       "<table border=\"1\" class=\"dataframe\">\n",
       "  <thead>\n",
       "    <tr style=\"text-align: right;\">\n",
       "      <th></th>\n",
       "      <th>Sludinājumi \\tdatums</th>\n",
       "      <th>Sludinājumi \\tdatums.1</th>\n",
       "      <th>Sludinājumi \\tdatums.2</th>\n",
       "      <th>Pagasts</th>\n",
       "      <th>m2</th>\n",
       "      <th>Stāvi</th>\n",
       "      <th>Zem. pl.</th>\n",
       "      <th>Cena</th>\n",
       "    </tr>\n",
       "  </thead>\n",
       "  <tbody>\n",
       "    <tr>\n",
       "      <th>0</th>\n",
       "      <td>NaN</td>\n",
       "      <td>NaN</td>\n",
       "      <td>Tiek pārdota omulīga privātmāja Gaujā. Ir veik...</td>\n",
       "      <td>Carnikavas nov.Gauja</td>\n",
       "      <td>210</td>\n",
       "      <td>2</td>\n",
       "      <td>1000 m²</td>\n",
       "      <td>160,000 €</td>\n",
       "    </tr>\n",
       "    <tr>\n",
       "      <th>1</th>\n",
       "      <td>NaN</td>\n",
       "      <td>NaN</td>\n",
       "      <td>Pārdodu zemes gabala domājamo daļu 750 kv. m. ...</td>\n",
       "      <td>Mārupes pag.Mārupe</td>\n",
       "      <td>203</td>\n",
       "      <td>2</td>\n",
       "      <td>750 m²</td>\n",
       "      <td>135,000 €</td>\n",
       "    </tr>\n",
       "    <tr>\n",
       "      <th>2</th>\n",
       "      <td>NaN</td>\n",
       "      <td>NaN</td>\n",
       "      <td>Kārtīgi celta māja ar sakoptu dārzu un siltumn...</td>\n",
       "      <td>Saulkrasti</td>\n",
       "      <td>85</td>\n",
       "      <td>2</td>\n",
       "      <td>580 m²</td>\n",
       "      <td>46,800 €</td>\n",
       "    </tr>\n",
       "    <tr>\n",
       "      <th>3</th>\n",
       "      <td>NaN</td>\n",
       "      <td>NaN</td>\n",
       "      <td>Pārdod māju Katlakalnā. Māja atrodas lieliskā ...</td>\n",
       "      <td>Ķekavas pag.Katlakalns</td>\n",
       "      <td>278</td>\n",
       "      <td>2</td>\n",
       "      <td>1200 m²</td>\n",
       "      <td>265,000 €</td>\n",
       "    </tr>\n",
       "    <tr>\n",
       "      <th>4</th>\n",
       "      <td>NaN</td>\n",
       "      <td>NaN</td>\n",
       "      <td>Дом у озера в Букулты на продажу Планировка: -...</td>\n",
       "      <td>Garkalnes nov.Bukulti</td>\n",
       "      <td>590</td>\n",
       "      <td>3</td>\n",
       "      <td>1900 m²</td>\n",
       "      <td>349,000 €</td>\n",
       "    </tr>\n",
       "  </tbody>\n",
       "</table>\n",
       "</div>"
      ],
      "text/plain": [
       "   Sludinājumi \\tdatums  Sludinājumi \\tdatums.1  \\\n",
       "0                   NaN                     NaN   \n",
       "1                   NaN                     NaN   \n",
       "2                   NaN                     NaN   \n",
       "3                   NaN                     NaN   \n",
       "4                   NaN                     NaN   \n",
       "\n",
       "                              Sludinājumi \\tdatums.2                 Pagasts  \\\n",
       "0  Tiek pārdota omulīga privātmāja Gaujā. Ir veik...    Carnikavas nov.Gauja   \n",
       "1  Pārdodu zemes gabala domājamo daļu 750 kv. m. ...      Mārupes pag.Mārupe   \n",
       "2  Kārtīgi celta māja ar sakoptu dārzu un siltumn...              Saulkrasti   \n",
       "3  Pārdod māju Katlakalnā. Māja atrodas lieliskā ...  Ķekavas pag.Katlakalns   \n",
       "4  Дом у озера в Букулты на продажу Планировка: -...   Garkalnes nov.Bukulti   \n",
       "\n",
       "    m2  Stāvi Zem. pl.       Cena  \n",
       "0  210      2  1000 m²  160,000 €  \n",
       "1  203      2   750 m²  135,000 €  \n",
       "2   85      2   580 m²   46,800 €  \n",
       "3  278      2  1200 m²  265,000 €  \n",
       "4  590      3  1900 m²  349,000 €  "
      ]
     },
     "execution_count": 6,
     "metadata": {},
     "output_type": "execute_result"
    }
   ],
   "source": [
    "# df = dfs[4] # the 5th table on our page has our info\n",
    "df = dfs[8] # 9th table for our riga region houses\n",
    "df.head()"
   ]
  },
  {
   "cell_type": "code",
   "execution_count": 7,
   "metadata": {},
   "outputs": [
    {
     "data": {
      "text/plain": [
       "(30, 8)"
      ]
     },
     "execution_count": 7,
     "metadata": {},
     "output_type": "execute_result"
    }
   ],
   "source": [
    "df.shape"
   ]
  },
  {
   "cell_type": "code",
   "execution_count": 7,
   "metadata": {},
   "outputs": [],
   "source": [
    "df.to_json(\"center.json\")"
   ]
  },
  {
   "cell_type": "code",
   "execution_count": 8,
   "metadata": {},
   "outputs": [],
   "source": [
    "df.to_excel(\"center.xlsx\")"
   ]
  },
  {
   "cell_type": "code",
   "execution_count": 6,
   "metadata": {},
   "outputs": [],
   "source": [
    "url2 = \"https://www.ss.com/lv/real-estate/flats/riga/centre/sell/page2.html\""
   ]
  },
  {
   "cell_type": "code",
   "execution_count": 7,
   "metadata": {},
   "outputs": [
    {
     "data": {
      "text/plain": [
       "7"
      ]
     },
     "execution_count": 7,
     "metadata": {},
     "output_type": "execute_result"
    }
   ],
   "source": [
    "dflist = pd.read_html(url2, header=0)\n",
    "len(dflist)"
   ]
  },
  {
   "cell_type": "code",
   "execution_count": 8,
   "metadata": {},
   "outputs": [
    {
     "data": {
      "text/html": [
       "<div>\n",
       "<style scoped>\n",
       "    .dataframe tbody tr th:only-of-type {\n",
       "        vertical-align: middle;\n",
       "    }\n",
       "\n",
       "    .dataframe tbody tr th {\n",
       "        vertical-align: top;\n",
       "    }\n",
       "\n",
       "    .dataframe thead th {\n",
       "        text-align: right;\n",
       "    }\n",
       "</style>\n",
       "<table border=\"1\" class=\"dataframe\">\n",
       "  <thead>\n",
       "    <tr style=\"text-align: right;\">\n",
       "      <th></th>\n",
       "      <th>Sludinājumi \\tdatums</th>\n",
       "      <th>Sludinājumi \\tdatums.1</th>\n",
       "      <th>Sludinājumi \\tdatums.2</th>\n",
       "      <th>Iela</th>\n",
       "      <th>Ist.</th>\n",
       "      <th>m2</th>\n",
       "      <th>Stāvs</th>\n",
       "      <th>Sērija</th>\n",
       "      <th>Cena, m2</th>\n",
       "      <th>Cena</th>\n",
       "    </tr>\n",
       "  </thead>\n",
       "  <tbody>\n",
       "    <tr>\n",
       "      <th>0</th>\n",
       "      <td>NaN</td>\n",
       "      <td>NaN</td>\n",
       "      <td>Tiek pārdots divu istabu dzīvoklis Klusajā cen...</td>\n",
       "      <td>Dzirnavu 6</td>\n",
       "      <td>2</td>\n",
       "      <td>56</td>\n",
       "      <td>1/5</td>\n",
       "      <td>Renov.</td>\n",
       "      <td>2,500 €</td>\n",
       "      <td>140,000 €</td>\n",
       "    </tr>\n",
       "    <tr>\n",
       "      <th>1</th>\n",
       "      <td>NaN</td>\n",
       "      <td>NaN</td>\n",
       "      <td>Tiek pārdots 4 istabu dzīvoklis Klusajā centrā...</td>\n",
       "      <td>Dzirnavu 6</td>\n",
       "      <td>4</td>\n",
       "      <td>97</td>\n",
       "      <td>2/4</td>\n",
       "      <td>Renov.</td>\n",
       "      <td>2,371 €</td>\n",
       "      <td>230,000 €</td>\n",
       "    </tr>\n",
       "    <tr>\n",
       "      <th>2</th>\n",
       "      <td>NaN</td>\n",
       "      <td>NaN</td>\n",
       "      <td>Pārdod trīsistabu dzīvokli jaunājā projektā pr...</td>\n",
       "      <td>Rūpniecības 50</td>\n",
       "      <td>3</td>\n",
       "      <td>80</td>\n",
       "      <td>3/7</td>\n",
       "      <td>Jaun.</td>\n",
       "      <td>2,000 €</td>\n",
       "      <td>160,000 €</td>\n",
       "    </tr>\n",
       "    <tr>\n",
       "      <th>3</th>\n",
       "      <td>NaN</td>\n",
       "      <td>NaN</td>\n",
       "      <td>Īpašnieks pārdod plašu trīsistabu dzīvokli Rīg...</td>\n",
       "      <td>Lāčplēša 47</td>\n",
       "      <td>3</td>\n",
       "      <td>88</td>\n",
       "      <td>2/5</td>\n",
       "      <td>P. kara</td>\n",
       "      <td>2,233 €</td>\n",
       "      <td>196,500 €</td>\n",
       "    </tr>\n",
       "    <tr>\n",
       "      <th>4</th>\n",
       "      <td>NaN</td>\n",
       "      <td>NaN</td>\n",
       "      <td>3D tūre, izstaigā dzīvokli, esot mājās. Links ...</td>\n",
       "      <td>Krasta 11</td>\n",
       "      <td>3</td>\n",
       "      <td>69</td>\n",
       "      <td>2/6</td>\n",
       "      <td>Renov.</td>\n",
       "      <td>1,590 €</td>\n",
       "      <td>109,700 €</td>\n",
       "    </tr>\n",
       "  </tbody>\n",
       "</table>\n",
       "</div>"
      ],
      "text/plain": [
       "   Sludinājumi \\tdatums  Sludinājumi \\tdatums.1  \\\n",
       "0                   NaN                     NaN   \n",
       "1                   NaN                     NaN   \n",
       "2                   NaN                     NaN   \n",
       "3                   NaN                     NaN   \n",
       "4                   NaN                     NaN   \n",
       "\n",
       "                              Sludinājumi \\tdatums.2            Iela  Ist.  \\\n",
       "0  Tiek pārdots divu istabu dzīvoklis Klusajā cen...      Dzirnavu 6     2   \n",
       "1  Tiek pārdots 4 istabu dzīvoklis Klusajā centrā...      Dzirnavu 6     4   \n",
       "2  Pārdod trīsistabu dzīvokli jaunājā projektā pr...  Rūpniecības 50     3   \n",
       "3  Īpašnieks pārdod plašu trīsistabu dzīvokli Rīg...     Lāčplēša 47     3   \n",
       "4  3D tūre, izstaigā dzīvokli, esot mājās. Links ...       Krasta 11     3   \n",
       "\n",
       "   m2 Stāvs   Sērija Cena, m2       Cena  \n",
       "0  56   1/5   Renov.  2,500 €  140,000 €  \n",
       "1  97   2/4   Renov.  2,371 €  230,000 €  \n",
       "2  80   3/7    Jaun.  2,000 €  160,000 €  \n",
       "3  88   2/5  P. kara  2,233 €  196,500 €  \n",
       "4  69   2/6   Renov.  1,590 €  109,700 €  "
      ]
     },
     "execution_count": 8,
     "metadata": {},
     "output_type": "execute_result"
    }
   ],
   "source": [
    "dflist[4].head() # getting start of 5th table from our 2nd html page"
   ]
  },
  {
   "cell_type": "code",
   "execution_count": 9,
   "metadata": {},
   "outputs": [
    {
     "data": {
      "text/html": [
       "<div>\n",
       "<style scoped>\n",
       "    .dataframe tbody tr th:only-of-type {\n",
       "        vertical-align: middle;\n",
       "    }\n",
       "\n",
       "    .dataframe tbody tr th {\n",
       "        vertical-align: top;\n",
       "    }\n",
       "\n",
       "    .dataframe thead th {\n",
       "        text-align: right;\n",
       "    }\n",
       "</style>\n",
       "<table border=\"1\" class=\"dataframe\">\n",
       "  <thead>\n",
       "    <tr style=\"text-align: right;\">\n",
       "      <th></th>\n",
       "      <th>Sludinājumi \\tdatums</th>\n",
       "      <th>Sludinājumi \\tdatums.1</th>\n",
       "      <th>Sludinājumi \\tdatums.2</th>\n",
       "      <th>Iela</th>\n",
       "      <th>Ist.</th>\n",
       "      <th>m2</th>\n",
       "      <th>Stāvs</th>\n",
       "      <th>Sērija</th>\n",
       "      <th>Cena, m2</th>\n",
       "      <th>Cena</th>\n",
       "    </tr>\n",
       "  </thead>\n",
       "  <tbody>\n",
       "    <tr>\n",
       "      <th>0</th>\n",
       "      <td>NaN</td>\n",
       "      <td>NaN</td>\n",
       "      <td>Īpašnieks pārdod gaišu, siltu, plašu dzīvokli ...</td>\n",
       "      <td>Hanzas 4</td>\n",
       "      <td>4</td>\n",
       "      <td>114</td>\n",
       "      <td>6/6</td>\n",
       "      <td>P. kara</td>\n",
       "      <td>1,404 €</td>\n",
       "      <td>160,000 €</td>\n",
       "    </tr>\n",
       "    <tr>\n",
       "      <th>1</th>\n",
       "      <td>NaN</td>\n",
       "      <td>NaN</td>\n",
       "      <td>Dzīvokli- renovētā ēkā, puspagraba stāvā, Mier...</td>\n",
       "      <td>Miera 5</td>\n",
       "      <td>2</td>\n",
       "      <td>56</td>\n",
       "      <td>1/6</td>\n",
       "      <td>Renov.</td>\n",
       "      <td>897 €</td>\n",
       "      <td>50,220 €</td>\n",
       "    </tr>\n",
       "    <tr>\n",
       "      <th>2</th>\n",
       "      <td>NaN</td>\n",
       "      <td>NaN</td>\n",
       "      <td>3 - istabu dzīvoklis fasādes mājas 2. stāvā ar...</td>\n",
       "      <td>Matīsa 41</td>\n",
       "      <td>3</td>\n",
       "      <td>70</td>\n",
       "      <td>2/6</td>\n",
       "      <td>P. kara</td>\n",
       "      <td>1,786 €</td>\n",
       "      <td>125,000 €</td>\n",
       "    </tr>\n",
       "    <tr>\n",
       "      <th>3</th>\n",
       "      <td>NaN</td>\n",
       "      <td>NaN</td>\n",
       "      <td>Ksulains un plašs dzīvoklis \"Skanstes Parkā\" D...</td>\n",
       "      <td>Grostonas 19</td>\n",
       "      <td>2</td>\n",
       "      <td>62</td>\n",
       "      <td>5/10</td>\n",
       "      <td>Jaun.</td>\n",
       "      <td>2,419 €</td>\n",
       "      <td>150,000 €</td>\n",
       "    </tr>\n",
       "    <tr>\n",
       "      <th>4</th>\n",
       "      <td>NaN</td>\n",
       "      <td>NaN</td>\n",
       "      <td>Investīcijas piedāvājums. Ēkas energoefektivit...</td>\n",
       "      <td>Stabu 100</td>\n",
       "      <td>2</td>\n",
       "      <td>41</td>\n",
       "      <td>2/7</td>\n",
       "      <td>Jaun.</td>\n",
       "      <td>2,239 €</td>\n",
       "      <td>91,800 €</td>\n",
       "    </tr>\n",
       "  </tbody>\n",
       "</table>\n",
       "</div>"
      ],
      "text/plain": [
       "   Sludinājumi \\tdatums  Sludinājumi \\tdatums.1  \\\n",
       "0                   NaN                     NaN   \n",
       "1                   NaN                     NaN   \n",
       "2                   NaN                     NaN   \n",
       "3                   NaN                     NaN   \n",
       "4                   NaN                     NaN   \n",
       "\n",
       "                              Sludinājumi \\tdatums.2          Iela  Ist.   m2  \\\n",
       "0  Īpašnieks pārdod gaišu, siltu, plašu dzīvokli ...      Hanzas 4     4  114   \n",
       "1  Dzīvokli- renovētā ēkā, puspagraba stāvā, Mier...       Miera 5     2   56   \n",
       "2  3 - istabu dzīvoklis fasādes mājas 2. stāvā ar...     Matīsa 41     3   70   \n",
       "3  Ksulains un plašs dzīvoklis \"Skanstes Parkā\" D...  Grostonas 19     2   62   \n",
       "4  Investīcijas piedāvājums. Ēkas energoefektivit...     Stabu 100     2   41   \n",
       "\n",
       "  Stāvs   Sērija Cena, m2       Cena  \n",
       "0   6/6  P. kara  1,404 €  160,000 €  \n",
       "1   1/6   Renov.    897 €   50,220 €  \n",
       "2   2/6  P. kara  1,786 €  125,000 €  \n",
       "3  5/10    Jaun.  2,419 €  150,000 €  \n",
       "4   2/7    Jaun.  2,239 €   91,800 €  "
      ]
     },
     "execution_count": 9,
     "metadata": {},
     "output_type": "execute_result"
    }
   ],
   "source": [
    "bigdf = pd.concat([df, dflist[4]]) # concat creates a new dataframe from an iterable! of dataframes\n",
    "# https://pandas.pydata.org/pandas-docs/stable/reference/api/pandas.concat.html\n",
    "bigdf.head()"
   ]
  },
  {
   "cell_type": "code",
   "execution_count": 10,
   "metadata": {},
   "outputs": [
    {
     "data": {
      "text/plain": [
       "((30, 10), (30, 10), (60, 10))"
      ]
     },
     "execution_count": 10,
     "metadata": {},
     "output_type": "execute_result"
    }
   ],
   "source": [
    "df.shape, dflist[4].shape, bigdf.shape"
   ]
  },
  {
   "cell_type": "code",
   "execution_count": 11,
   "metadata": {},
   "outputs": [],
   "source": [
    "bigdf.to_excel(\"riga_center_60.xlsx\")"
   ]
  },
  {
   "cell_type": "code",
   "execution_count": null,
   "metadata": {},
   "outputs": [],
   "source": [
    "# so if we know the last page of\n"
   ]
  },
  {
   "cell_type": "code",
   "execution_count": null,
   "metadata": {},
   "outputs": [],
   "source": [
    "# Challenge how to automatically get all pages no matter how many ads?\n",
    "# how to scrape web address for each ad (in case we want to look in to the ad more in depth)"
   ]
  }
 ],
 "metadata": {
  "kernelspec": {
   "display_name": "Python 3",
   "language": "python",
   "name": "python3"
  },
  "language_info": {
   "codemirror_mode": {
    "name": "ipython",
    "version": 3
   },
   "file_extension": ".py",
   "mimetype": "text/x-python",
   "name": "python",
   "nbconvert_exporter": "python",
   "pygments_lexer": "ipython3",
   "version": "3.8.3"
  }
 },
 "nbformat": 4,
 "nbformat_minor": 4
}
