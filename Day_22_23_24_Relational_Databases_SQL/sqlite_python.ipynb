{
 "cells": [
  {
   "cell_type": "code",
   "execution_count": null,
   "metadata": {},
   "outputs": [],
   "source": [
    "# accessing sqlite database with python"
   ]
  },
  {
   "cell_type": "code",
   "execution_count": 8,
   "metadata": {},
   "outputs": [],
   "source": [
    "import sqlite3\n",
    "import pandas as pd\n"
   ]
  },
  {
   "cell_type": "code",
   "execution_count": 7,
   "metadata": {},
   "outputs": [
    {
     "name": "stdout",
     "output_type": "stream",
     "text": [
      "<sqlite3.Connection object at 0x0000024447E44140>\n"
     ]
    }
   ],
   "source": [
    "# open connection to database\n",
    "con = sqlite3.connect('chinook.db') # chinook is in the same folder as this file\n",
    "# for other SQL databases, you would need a different driver\n",
    "# also, you would need to install the driver\n",
    "# most likely you would need a username and password as well\n",
    "\n",
    "# con = sqlite3.connect('chinookbad.db') \n",
    "# con = sqlite3.connect('chinook_fresh.db') # will create a brand new database if it does not exist\n",
    "# get status\n",
    "print(con)\n",
    "# con.close() # you have to close the database connection if you want to perform any changes"
   ]
  },
  {
   "cell_type": "code",
   "execution_count": 9,
   "metadata": {},
   "outputs": [
    {
     "data": {
      "text/html": [
       "<div>\n",
       "<style scoped>\n",
       "    .dataframe tbody tr th:only-of-type {\n",
       "        vertical-align: middle;\n",
       "    }\n",
       "\n",
       "    .dataframe tbody tr th {\n",
       "        vertical-align: top;\n",
       "    }\n",
       "\n",
       "    .dataframe thead th {\n",
       "        text-align: right;\n",
       "    }\n",
       "</style>\n",
       "<table border=\"1\" class=\"dataframe\">\n",
       "  <thead>\n",
       "    <tr style=\"text-align: right;\">\n",
       "      <th></th>\n",
       "      <th>TrackId</th>\n",
       "      <th>Name</th>\n",
       "      <th>AlbumId</th>\n",
       "      <th>MediaTypeId</th>\n",
       "      <th>GenreId</th>\n",
       "      <th>Composer</th>\n",
       "      <th>Milliseconds</th>\n",
       "      <th>Bytes</th>\n",
       "      <th>UnitPrice</th>\n",
       "    </tr>\n",
       "  </thead>\n",
       "  <tbody>\n",
       "    <tr>\n",
       "      <th>0</th>\n",
       "      <td>1</td>\n",
       "      <td>For Those About To Rock (We Salute You)</td>\n",
       "      <td>1</td>\n",
       "      <td>1</td>\n",
       "      <td>1</td>\n",
       "      <td>Angus Young, Malcolm Young, Brian Johnson</td>\n",
       "      <td>343719</td>\n",
       "      <td>11170334</td>\n",
       "      <td>0.99</td>\n",
       "    </tr>\n",
       "    <tr>\n",
       "      <th>1</th>\n",
       "      <td>2</td>\n",
       "      <td>Balls to the Wall</td>\n",
       "      <td>2</td>\n",
       "      <td>2</td>\n",
       "      <td>1</td>\n",
       "      <td>None</td>\n",
       "      <td>342562</td>\n",
       "      <td>5510424</td>\n",
       "      <td>0.99</td>\n",
       "    </tr>\n",
       "    <tr>\n",
       "      <th>2</th>\n",
       "      <td>3</td>\n",
       "      <td>Fast As a Shark</td>\n",
       "      <td>3</td>\n",
       "      <td>2</td>\n",
       "      <td>1</td>\n",
       "      <td>F. Baltes, S. Kaufman, U. Dirkscneider &amp; W. Ho...</td>\n",
       "      <td>230619</td>\n",
       "      <td>3990994</td>\n",
       "      <td>0.99</td>\n",
       "    </tr>\n",
       "    <tr>\n",
       "      <th>3</th>\n",
       "      <td>4</td>\n",
       "      <td>Restless and Wild</td>\n",
       "      <td>3</td>\n",
       "      <td>2</td>\n",
       "      <td>1</td>\n",
       "      <td>F. Baltes, R.A. Smith-Diesel, S. Kaufman, U. D...</td>\n",
       "      <td>252051</td>\n",
       "      <td>4331779</td>\n",
       "      <td>0.99</td>\n",
       "    </tr>\n",
       "    <tr>\n",
       "      <th>4</th>\n",
       "      <td>5</td>\n",
       "      <td>Princess of the Dawn</td>\n",
       "      <td>3</td>\n",
       "      <td>2</td>\n",
       "      <td>1</td>\n",
       "      <td>Deaffy &amp; R.A. Smith-Diesel</td>\n",
       "      <td>375418</td>\n",
       "      <td>6290521</td>\n",
       "      <td>0.99</td>\n",
       "    </tr>\n",
       "  </tbody>\n",
       "</table>\n",
       "</div>"
      ],
      "text/plain": [
       "   TrackId                                     Name  AlbumId  MediaTypeId  \\\n",
       "0        1  For Those About To Rock (We Salute You)        1            1   \n",
       "1        2                        Balls to the Wall        2            2   \n",
       "2        3                          Fast As a Shark        3            2   \n",
       "3        4                        Restless and Wild        3            2   \n",
       "4        5                     Princess of the Dawn        3            2   \n",
       "\n",
       "   GenreId                                           Composer  Milliseconds  \\\n",
       "0        1          Angus Young, Malcolm Young, Brian Johnson        343719   \n",
       "1        1                                               None        342562   \n",
       "2        1  F. Baltes, S. Kaufman, U. Dirkscneider & W. Ho...        230619   \n",
       "3        1  F. Baltes, R.A. Smith-Diesel, S. Kaufman, U. D...        252051   \n",
       "4        1                         Deaffy & R.A. Smith-Diesel        375418   \n",
       "\n",
       "      Bytes  UnitPrice  \n",
       "0  11170334       0.99  \n",
       "1   5510424       0.99  \n",
       "2   3990994       0.99  \n",
       "3   4331779       0.99  \n",
       "4   6290521       0.99  "
      ]
     },
     "execution_count": 9,
     "metadata": {},
     "output_type": "execute_result"
    }
   ],
   "source": [
    "# load tracks table into a dataframe\n",
    "df = pd.read_sql_query(\"select * from tracks\", con)\n",
    "df.head()\n",
    "# now you can do the usual pandas stuff"
   ]
  },
  {
   "cell_type": "code",
   "execution_count": 10,
   "metadata": {},
   "outputs": [
    {
     "data": {
      "text/html": [
       "<div>\n",
       "<style scoped>\n",
       "    .dataframe tbody tr th:only-of-type {\n",
       "        vertical-align: middle;\n",
       "    }\n",
       "\n",
       "    .dataframe tbody tr th {\n",
       "        vertical-align: top;\n",
       "    }\n",
       "\n",
       "    .dataframe thead th {\n",
       "        text-align: right;\n",
       "    }\n",
       "</style>\n",
       "<table border=\"1\" class=\"dataframe\">\n",
       "  <thead>\n",
       "    <tr style=\"text-align: right;\">\n",
       "      <th></th>\n",
       "      <th>TrackName</th>\n",
       "      <th>AlbumTitle</th>\n",
       "      <th>ArtistName</th>\n",
       "      <th>Genre</th>\n",
       "      <th>MediaType</th>\n",
       "      <th>time_ms</th>\n",
       "      <th>seconds</th>\n",
       "      <th>minutes</th>\n",
       "      <th>UnitPrice</th>\n",
       "    </tr>\n",
       "  </thead>\n",
       "  <tbody>\n",
       "    <tr>\n",
       "      <th>0</th>\n",
       "      <td>Dazed And Confused</td>\n",
       "      <td>The Song Remains The Same (Disc 1)</td>\n",
       "      <td>Led Zeppelin</td>\n",
       "      <td>Rock</td>\n",
       "      <td>MPEG audio file</td>\n",
       "      <td>1612329</td>\n",
       "      <td>1612</td>\n",
       "      <td>26</td>\n",
       "      <td>0.99</td>\n",
       "    </tr>\n",
       "    <tr>\n",
       "      <th>1</th>\n",
       "      <td>Space Truckin'</td>\n",
       "      <td>The Final Concerts (Disc 2)</td>\n",
       "      <td>Deep Purple</td>\n",
       "      <td>Rock</td>\n",
       "      <td>MPEG audio file</td>\n",
       "      <td>1196094</td>\n",
       "      <td>1196</td>\n",
       "      <td>19</td>\n",
       "      <td>0.99</td>\n",
       "    </tr>\n",
       "    <tr>\n",
       "      <th>2</th>\n",
       "      <td>Dazed And Confused</td>\n",
       "      <td>BBC Sessions [Disc 2] [Live]</td>\n",
       "      <td>Led Zeppelin</td>\n",
       "      <td>Rock</td>\n",
       "      <td>MPEG audio file</td>\n",
       "      <td>1116734</td>\n",
       "      <td>1116</td>\n",
       "      <td>18</td>\n",
       "      <td>0.99</td>\n",
       "    </tr>\n",
       "    <tr>\n",
       "      <th>3</th>\n",
       "      <td>We've Got To Get Together/Jingo</td>\n",
       "      <td>Santana Live</td>\n",
       "      <td>Santana</td>\n",
       "      <td>Rock</td>\n",
       "      <td>MPEG audio file</td>\n",
       "      <td>1070027</td>\n",
       "      <td>1070</td>\n",
       "      <td>17</td>\n",
       "      <td>0.99</td>\n",
       "    </tr>\n",
       "    <tr>\n",
       "      <th>4</th>\n",
       "      <td>Funky Piano</td>\n",
       "      <td>Santana Live</td>\n",
       "      <td>Santana</td>\n",
       "      <td>Rock</td>\n",
       "      <td>MPEG audio file</td>\n",
       "      <td>934791</td>\n",
       "      <td>934</td>\n",
       "      <td>15</td>\n",
       "      <td>0.99</td>\n",
       "    </tr>\n",
       "  </tbody>\n",
       "</table>\n",
       "</div>"
      ],
      "text/plain": [
       "                         TrackName                          AlbumTitle  \\\n",
       "0               Dazed And Confused  The Song Remains The Same (Disc 1)   \n",
       "1                   Space Truckin'         The Final Concerts (Disc 2)   \n",
       "2               Dazed And Confused        BBC Sessions [Disc 2] [Live]   \n",
       "3  We've Got To Get Together/Jingo                        Santana Live   \n",
       "4                      Funky Piano                        Santana Live   \n",
       "\n",
       "     ArtistName Genre        MediaType  time_ms  seconds  minutes  UnitPrice  \n",
       "0  Led Zeppelin  Rock  MPEG audio file  1612329     1612       26       0.99  \n",
       "1   Deep Purple  Rock  MPEG audio file  1196094     1196       19       0.99  \n",
       "2  Led Zeppelin  Rock  MPEG audio file  1116734     1116       18       0.99  \n",
       "3       Santana  Rock  MPEG audio file  1070027     1070       17       0.99  \n",
       "4       Santana  Rock  MPEG audio file   934791      934       15       0.99  "
      ]
     },
     "execution_count": 10,
     "metadata": {},
     "output_type": "execute_result"
    }
   ],
   "source": [
    "# load view into a dataframe\n",
    "rock_df = pd.read_sql_query(\"select * from v_rock_songs\", con)\n",
    "rock_df.head()"
   ]
  },
  {
   "cell_type": "code",
   "execution_count": 11,
   "metadata": {},
   "outputs": [
    {
     "name": "stdout",
     "output_type": "stream",
     "text": [
      "<class 'pandas.core.frame.DataFrame'>\n",
      "RangeIndex: 1297 entries, 0 to 1296\n",
      "Data columns (total 9 columns):\n",
      " #   Column      Non-Null Count  Dtype  \n",
      "---  ------      --------------  -----  \n",
      " 0   TrackName   1297 non-null   object \n",
      " 1   AlbumTitle  1297 non-null   object \n",
      " 2   ArtistName  1297 non-null   object \n",
      " 3   Genre       1297 non-null   object \n",
      " 4   MediaType   1297 non-null   object \n",
      " 5   time_ms     1297 non-null   int64  \n",
      " 6   seconds     1297 non-null   int64  \n",
      " 7   minutes     1297 non-null   int64  \n",
      " 8   UnitPrice   1297 non-null   float64\n",
      "dtypes: float64(1), int64(3), object(5)\n",
      "memory usage: 91.3+ KB\n"
     ]
    }
   ],
   "source": [
    "rock_df.info()"
   ]
  },
  {
   "cell_type": "code",
   "execution_count": 13,
   "metadata": {},
   "outputs": [
    {
     "data": {
      "text/html": [
       "<div>\n",
       "<style scoped>\n",
       "    .dataframe tbody tr th:only-of-type {\n",
       "        vertical-align: middle;\n",
       "    }\n",
       "\n",
       "    .dataframe tbody tr th {\n",
       "        vertical-align: top;\n",
       "    }\n",
       "\n",
       "    .dataframe thead th {\n",
       "        text-align: right;\n",
       "    }\n",
       "</style>\n",
       "<table border=\"1\" class=\"dataframe\">\n",
       "  <thead>\n",
       "    <tr style=\"text-align: right;\">\n",
       "      <th></th>\n",
       "      <th>TrackName</th>\n",
       "      <th>AlbumTitle</th>\n",
       "      <th>ArtistName</th>\n",
       "      <th>Genre</th>\n",
       "      <th>MediaType</th>\n",
       "      <th>time_ms</th>\n",
       "      <th>seconds</th>\n",
       "      <th>minutes</th>\n",
       "      <th>UnitPrice</th>\n",
       "    </tr>\n",
       "  </thead>\n",
       "  <tbody>\n",
       "    <tr>\n",
       "      <th>186</th>\n",
       "      <td>Sin</td>\n",
       "      <td>Core</td>\n",
       "      <td>Stone Temple Pilots</td>\n",
       "      <td>Rock</td>\n",
       "      <td>MPEG audio file</td>\n",
       "      <td>364800</td>\n",
       "      <td>364</td>\n",
       "      <td>6</td>\n",
       "      <td>0.99</td>\n",
       "    </tr>\n",
       "    <tr>\n",
       "      <th>187</th>\n",
       "      <td>Black Sabbath</td>\n",
       "      <td>Speak of the Devil</td>\n",
       "      <td>Ozzy Osbourne</td>\n",
       "      <td>Rock</td>\n",
       "      <td>Protected AAC audio file</td>\n",
       "      <td>364180</td>\n",
       "      <td>364</td>\n",
       "      <td>6</td>\n",
       "      <td>0.99</td>\n",
       "    </tr>\n",
       "    <tr>\n",
       "      <th>188</th>\n",
       "      <td>How Many Say I</td>\n",
       "      <td>Van Halen III</td>\n",
       "      <td>Van Halen</td>\n",
       "      <td>Rock</td>\n",
       "      <td>MPEG audio file</td>\n",
       "      <td>363937</td>\n",
       "      <td>363</td>\n",
       "      <td>6</td>\n",
       "      <td>0.99</td>\n",
       "    </tr>\n",
       "    <tr>\n",
       "      <th>189</th>\n",
       "      <td>No Sign of Yesterday</td>\n",
       "      <td>The Best Of Men At Work</td>\n",
       "      <td>Men At Work</td>\n",
       "      <td>Rock</td>\n",
       "      <td>MPEG audio file</td>\n",
       "      <td>362004</td>\n",
       "      <td>362</td>\n",
       "      <td>6</td>\n",
       "      <td>0.99</td>\n",
       "    </tr>\n",
       "    <tr>\n",
       "      <th>190</th>\n",
       "      <td>Hands All Over</td>\n",
       "      <td>A-Sides</td>\n",
       "      <td>Soundgarden</td>\n",
       "      <td>Rock</td>\n",
       "      <td>MPEG audio file</td>\n",
       "      <td>362475</td>\n",
       "      <td>362</td>\n",
       "      <td>6</td>\n",
       "      <td>0.99</td>\n",
       "    </tr>\n",
       "  </tbody>\n",
       "</table>\n",
       "</div>"
      ],
      "text/plain": [
       "                TrackName               AlbumTitle           ArtistName Genre  \\\n",
       "186                   Sin                     Core  Stone Temple Pilots  Rock   \n",
       "187         Black Sabbath       Speak of the Devil        Ozzy Osbourne  Rock   \n",
       "188        How Many Say I            Van Halen III            Van Halen  Rock   \n",
       "189  No Sign of Yesterday  The Best Of Men At Work          Men At Work  Rock   \n",
       "190        Hands All Over                  A-Sides          Soundgarden  Rock   \n",
       "\n",
       "                    MediaType  time_ms  seconds  minutes  UnitPrice  \n",
       "186           MPEG audio file   364800      364        6       0.99  \n",
       "187  Protected AAC audio file   364180      364        6       0.99  \n",
       "188           MPEG audio file   363937      363        6       0.99  \n",
       "189           MPEG audio file   362004      362        6       0.99  \n",
       "190           MPEG audio file   362475      362        6       0.99  "
      ]
     },
     "execution_count": 13,
     "metadata": {},
     "output_type": "execute_result"
    }
   ],
   "source": [
    "# you can do filtering in pandas\n",
    "# you can do filtering in sql\n",
    "\n",
    "# let's filter view by minutes\n",
    "rock_df[rock_df['minutes'] > 5].tail()"
   ]
  },
  {
   "cell_type": "code",
   "execution_count": 15,
   "metadata": {},
   "outputs": [
    {
     "data": {
      "text/html": [
       "<div>\n",
       "<style scoped>\n",
       "    .dataframe tbody tr th:only-of-type {\n",
       "        vertical-align: middle;\n",
       "    }\n",
       "\n",
       "    .dataframe tbody tr th {\n",
       "        vertical-align: top;\n",
       "    }\n",
       "\n",
       "    .dataframe thead th {\n",
       "        text-align: right;\n",
       "    }\n",
       "</style>\n",
       "<table border=\"1\" class=\"dataframe\">\n",
       "  <thead>\n",
       "    <tr style=\"text-align: right;\">\n",
       "      <th></th>\n",
       "      <th>TrackName</th>\n",
       "      <th>AlbumTitle</th>\n",
       "      <th>ArtistName</th>\n",
       "      <th>Genre</th>\n",
       "      <th>MediaType</th>\n",
       "      <th>time_ms</th>\n",
       "      <th>seconds</th>\n",
       "      <th>minutes</th>\n",
       "      <th>UnitPrice</th>\n",
       "    </tr>\n",
       "  </thead>\n",
       "  <tbody>\n",
       "    <tr>\n",
       "      <th>186</th>\n",
       "      <td>Sin</td>\n",
       "      <td>Core</td>\n",
       "      <td>Stone Temple Pilots</td>\n",
       "      <td>Rock</td>\n",
       "      <td>MPEG audio file</td>\n",
       "      <td>364800</td>\n",
       "      <td>364</td>\n",
       "      <td>6</td>\n",
       "      <td>0.99</td>\n",
       "    </tr>\n",
       "    <tr>\n",
       "      <th>187</th>\n",
       "      <td>Black Sabbath</td>\n",
       "      <td>Speak of the Devil</td>\n",
       "      <td>Ozzy Osbourne</td>\n",
       "      <td>Rock</td>\n",
       "      <td>Protected AAC audio file</td>\n",
       "      <td>364180</td>\n",
       "      <td>364</td>\n",
       "      <td>6</td>\n",
       "      <td>0.99</td>\n",
       "    </tr>\n",
       "    <tr>\n",
       "      <th>188</th>\n",
       "      <td>How Many Say I</td>\n",
       "      <td>Van Halen III</td>\n",
       "      <td>Van Halen</td>\n",
       "      <td>Rock</td>\n",
       "      <td>MPEG audio file</td>\n",
       "      <td>363937</td>\n",
       "      <td>363</td>\n",
       "      <td>6</td>\n",
       "      <td>0.99</td>\n",
       "    </tr>\n",
       "    <tr>\n",
       "      <th>189</th>\n",
       "      <td>No Sign of Yesterday</td>\n",
       "      <td>The Best Of Men At Work</td>\n",
       "      <td>Men At Work</td>\n",
       "      <td>Rock</td>\n",
       "      <td>MPEG audio file</td>\n",
       "      <td>362004</td>\n",
       "      <td>362</td>\n",
       "      <td>6</td>\n",
       "      <td>0.99</td>\n",
       "    </tr>\n",
       "    <tr>\n",
       "      <th>190</th>\n",
       "      <td>Hands All Over</td>\n",
       "      <td>A-Sides</td>\n",
       "      <td>Soundgarden</td>\n",
       "      <td>Rock</td>\n",
       "      <td>MPEG audio file</td>\n",
       "      <td>362475</td>\n",
       "      <td>362</td>\n",
       "      <td>6</td>\n",
       "      <td>0.99</td>\n",
       "    </tr>\n",
       "  </tbody>\n",
       "</table>\n",
       "</div>"
      ],
      "text/plain": [
       "                TrackName               AlbumTitle           ArtistName Genre  \\\n",
       "186                   Sin                     Core  Stone Temple Pilots  Rock   \n",
       "187         Black Sabbath       Speak of the Devil        Ozzy Osbourne  Rock   \n",
       "188        How Many Say I            Van Halen III            Van Halen  Rock   \n",
       "189  No Sign of Yesterday  The Best Of Men At Work          Men At Work  Rock   \n",
       "190        Hands All Over                  A-Sides          Soundgarden  Rock   \n",
       "\n",
       "                    MediaType  time_ms  seconds  minutes  UnitPrice  \n",
       "186           MPEG audio file   364800      364        6       0.99  \n",
       "187  Protected AAC audio file   364180      364        6       0.99  \n",
       "188           MPEG audio file   363937      363        6       0.99  \n",
       "189           MPEG audio file   362004      362        6       0.99  \n",
       "190           MPEG audio file   362475      362        6       0.99  "
      ]
     },
     "execution_count": 15,
     "metadata": {},
     "output_type": "execute_result"
    }
   ],
   "source": [
    "# let's do the same query in SQL\n",
    "long_rock_songs = pd.read_sql_query(\"select * from v_rock_songs where minutes > 5\", con)\n",
    "# if you have a huge database you might want to filter earlier in SQL\n",
    "# if you have a small database you might want to filter later in pandas\n",
    "long_rock_songs.tail()"
   ]
  },
  {
   "cell_type": "code",
   "execution_count": 16,
   "metadata": {},
   "outputs": [
    {
     "name": "stdout",
     "output_type": "stream",
     "text": [
      "<sqlite3.Cursor object at 0x00000244604F1CC0>\n"
     ]
    }
   ],
   "source": [
    "# we can do queries without pandas\n",
    "\n",
    "# get cursor\n",
    "cur = con.cursor() # you can use this cursor to execute queries\n",
    "# get status\n",
    "print(cur)"
   ]
  },
  {
   "cell_type": "code",
   "execution_count": 17,
   "metadata": {},
   "outputs": [
    {
     "data": {
      "text/plain": [
       "[('albums',),\n",
       " ('sqlite_sequence',),\n",
       " ('artists',),\n",
       " ('customers',),\n",
       " ('employees',),\n",
       " ('genres',),\n",
       " ('invoices',),\n",
       " ('invoice_items',),\n",
       " ('media_types',),\n",
       " ('playlists',),\n",
       " ('playlist_track',),\n",
       " ('tracks',),\n",
       " ('sqlite_stat1',),\n",
       " ('results',)]"
      ]
     },
     "execution_count": 17,
     "metadata": {},
     "output_type": "execute_result"
    }
   ],
   "source": [
    "# get all tables\n",
    "cur.execute(\"select name from sqlite_master where type = 'table'\")\n",
    "# this is a special query that returns all tables in the database\n",
    "# you can also use this query to get all views\n",
    "# show all tables\n",
    "table_list = cur.fetchall() # this will return a list of tuples\n",
    "table_list\n",
    "# why list of tuples?\n",
    "# TODO: find out why list of tuples NOT list of strings"
   ]
  },
  {
   "cell_type": "code",
   "execution_count": 18,
   "metadata": {},
   "outputs": [
    {
     "data": {
      "text/plain": [
       "[('v_top_playlist',),\n",
       " ('v_tracks',),\n",
       " ('v_long_songs',),\n",
       " ('v_full_tracks',),\n",
       " ('v_full_tracks_2',),\n",
       " ('v_rock_songs',)]"
      ]
     },
     "execution_count": 18,
     "metadata": {},
     "output_type": "execute_result"
    }
   ],
   "source": [
    "# lets get all views in our database\n",
    "view_list = cur.execute(\"select name from sqlite_master where type = 'view'\").fetchall()\n",
    "view_list"
   ]
  },
  {
   "cell_type": "code",
   "execution_count": 23,
   "metadata": {},
   "outputs": [
    {
     "name": "stdout",
     "output_type": "stream",
     "text": [
      "(1, 'Rock')\n",
      "(2, 'Jazz')\n",
      "(3, 'Metal')\n",
      "(4, 'Alternative & Punk')\n",
      "(5, 'Rock And Roll')\n",
      "(6, 'Blues')\n",
      "(7, 'Latin')\n",
      "(8, 'Reggae')\n",
      "(9, 'Pop')\n",
      "(10, 'Soundtrack')\n",
      "(11, 'Bossa Nova')\n",
      "(12, 'Easy Listening')\n",
      "(13, 'Heavy Metal')\n",
      "(14, 'R&B/Soul')\n",
      "(15, 'Electronica/Dance')\n",
      "(16, 'World')\n",
      "(17, 'Hip Hop/Rap')\n",
      "(18, 'Science Fiction')\n",
      "(19, 'TV Shows')\n",
      "(20, 'Sci Fi & Fantasy')\n",
      "(21, 'Drama')\n",
      "(22, 'Comedy')\n",
      "(23, 'Alternative')\n",
      "(24, 'Classical')\n",
      "(25, 'Opera')\n"
     ]
    },
    {
     "data": {
      "text/plain": [
       "[(1, 'Rock'),\n",
       " (2, 'Jazz'),\n",
       " (3, 'Metal'),\n",
       " (4, 'Alternative & Punk'),\n",
       " (5, 'Rock And Roll')]"
      ]
     },
     "execution_count": 23,
     "metadata": {},
     "output_type": "execute_result"
    }
   ],
   "source": [
    "# be careful with fetchall() for large databases\n",
    "# you can use fetchone() to get one row at a time\n",
    "# how to fetch rows one at a time\n",
    "\n",
    "# get all genres\n",
    "result = cur.execute(\"select * from genres\")\n",
    "# get results one at a time\n",
    "# result.fetchone()\n",
    "# result.fetchone()\n",
    "# we could use a loop to get all results\n",
    "for row in result: # think of result in a way similar to how range works, it is an iterable\n",
    "    print(row)\n",
    "# you can also use fetchmany() to get a number of rows at a time\n",
    "# in this case it will give us nothing because just like with file reading\n",
    "# we have to reset the cursor to the beginning of the result\n",
    "# in this case we would do this by executing the query again\n",
    "result = cur.execute(\"select * from genres\")\n",
    "result.fetchmany(5)"
   ]
  },
  {
   "cell_type": "code",
   "execution_count": 24,
   "metadata": {},
   "outputs": [
    {
     "data": {
      "text/plain": [
       "[(16,\n",
       "  'Frank',\n",
       "  'Harris',\n",
       "  'Google Inc.',\n",
       "  '1600 Amphitheatre Parkway',\n",
       "  'Mountain View',\n",
       "  'CA',\n",
       "  'USA',\n",
       "  '94043-1351',\n",
       "  '+1 (650) 253-0000',\n",
       "  '+1 (650) 253-0000',\n",
       "  'fharris@google.com',\n",
       "  4),\n",
       " (17,\n",
       "  'Jack',\n",
       "  'Smith',\n",
       "  'Microsoft Corporation',\n",
       "  '1 Microsoft Way',\n",
       "  'Redmond',\n",
       "  'WA',\n",
       "  'USA',\n",
       "  '98052-8300',\n",
       "  '+1 (425) 882-8080',\n",
       "  '+1 (425) 882-8081',\n",
       "  'jacksmith@microsoft.com',\n",
       "  5),\n",
       " (18,\n",
       "  'Michelle',\n",
       "  'Brooks',\n",
       "  None,\n",
       "  '627 Broadway',\n",
       "  'New York',\n",
       "  'NY',\n",
       "  'USA',\n",
       "  '10012-2612',\n",
       "  '+1 (212) 221-3546',\n",
       "  '+1 (212) 221-4679',\n",
       "  'michelleb@aol.com',\n",
       "  3),\n",
       " (19,\n",
       "  'Tim',\n",
       "  'Goyer',\n",
       "  'Apple Inc.',\n",
       "  '1 Infinite Loop',\n",
       "  'Cupertino',\n",
       "  'CA',\n",
       "  'USA',\n",
       "  '95014',\n",
       "  '+1 (408) 996-1010',\n",
       "  '+1 (408) 996-1011',\n",
       "  'tgoyer@apple.com',\n",
       "  3),\n",
       " (20,\n",
       "  'Dan',\n",
       "  'Miller',\n",
       "  None,\n",
       "  '541 Del Medio Avenue',\n",
       "  'Mountain View',\n",
       "  'CA',\n",
       "  'USA',\n",
       "  '94040-111',\n",
       "  '+1 (650) 644-3358',\n",
       "  None,\n",
       "  'dmiller@comcast.com',\n",
       "  4),\n",
       " (21,\n",
       "  'Kathy',\n",
       "  'Chase',\n",
       "  None,\n",
       "  '801 W 4th Street',\n",
       "  'Reno',\n",
       "  'NV',\n",
       "  'USA',\n",
       "  '89503',\n",
       "  '+1 (775) 223-7665',\n",
       "  None,\n",
       "  'kachase@hotmail.com',\n",
       "  5),\n",
       " (22,\n",
       "  'Heather',\n",
       "  'Leacock',\n",
       "  None,\n",
       "  '120 S Orange Ave',\n",
       "  'Orlando',\n",
       "  'FL',\n",
       "  'USA',\n",
       "  '32801',\n",
       "  '+1 (407) 999-7788',\n",
       "  None,\n",
       "  'hleacock@gmail.com',\n",
       "  4),\n",
       " (23,\n",
       "  'John',\n",
       "  'Gordon',\n",
       "  None,\n",
       "  '69 Salem Street',\n",
       "  'Boston',\n",
       "  'MA',\n",
       "  'USA',\n",
       "  '2113',\n",
       "  '+1 (617) 522-1333',\n",
       "  None,\n",
       "  'johngordon22@yahoo.com',\n",
       "  4),\n",
       " (24,\n",
       "  'Frank',\n",
       "  'Ralston',\n",
       "  None,\n",
       "  '162 E Superior Street',\n",
       "  'Chicago',\n",
       "  'IL',\n",
       "  'USA',\n",
       "  '60611',\n",
       "  '+1 (312) 332-3232',\n",
       "  None,\n",
       "  'fralston@gmail.com',\n",
       "  3),\n",
       " (25,\n",
       "  'Victor',\n",
       "  'Stevens',\n",
       "  None,\n",
       "  '319 N. Frances Street',\n",
       "  'Madison',\n",
       "  'WI',\n",
       "  'USA',\n",
       "  '53703',\n",
       "  '+1 (608) 257-0597',\n",
       "  None,\n",
       "  'vstevens@yahoo.com',\n",
       "  5),\n",
       " (26,\n",
       "  'Richard',\n",
       "  'Cunningham',\n",
       "  None,\n",
       "  '2211 W Berry Street',\n",
       "  'Fort Worth',\n",
       "  'TX',\n",
       "  'USA',\n",
       "  '76110',\n",
       "  '+1 (817) 924-7272',\n",
       "  None,\n",
       "  'ricunningham@hotmail.com',\n",
       "  4),\n",
       " (27,\n",
       "  'Patrick',\n",
       "  'Gray',\n",
       "  None,\n",
       "  '1033 N Park Ave',\n",
       "  'Tucson',\n",
       "  'AZ',\n",
       "  'USA',\n",
       "  '85719',\n",
       "  '+1 (520) 622-4200',\n",
       "  None,\n",
       "  'patrick.gray@aol.com',\n",
       "  4),\n",
       " (28,\n",
       "  'Julia',\n",
       "  'Barnett',\n",
       "  None,\n",
       "  '302 S 700 E',\n",
       "  'Salt Lake City',\n",
       "  'UT',\n",
       "  'USA',\n",
       "  '84102',\n",
       "  '+1 (801) 531-7272',\n",
       "  None,\n",
       "  'jubarnett@gmail.com',\n",
       "  5)]"
      ]
     },
     "execution_count": 24,
     "metadata": {},
     "output_type": "execute_result"
    }
   ],
   "source": [
    "# lets get customers from USA\n",
    "result = cur.execute(\"select * from customers where country = 'USA'\")\n",
    "us_customers_list = result.fetchall()\n",
    "us_customers_list # it is up to us to make sense of this data\n",
    "# these are tuples without column names"
   ]
  },
  {
   "cell_type": "code",
   "execution_count": 26,
   "metadata": {},
   "outputs": [
    {
     "data": {
      "text/plain": [
       "['CustomerId',\n",
       " 'FirstName',\n",
       " 'LastName',\n",
       " 'Company',\n",
       " 'Address',\n",
       " 'City',\n",
       " 'State',\n",
       " 'Country',\n",
       " 'PostalCode',\n",
       " 'Phone',\n",
       " 'Fax',\n",
       " 'Email',\n",
       " 'SupportRepId']"
      ]
     },
     "execution_count": 26,
     "metadata": {},
     "output_type": "execute_result"
    }
   ],
   "source": [
    "# get column names from customers\n",
    "# we can use the description attribute of the cursor\n",
    "# this will give us a list of tuples\n",
    "# each tuple will have 5 elements\n",
    "# 0 - column name\n",
    "# 1 - type code\n",
    "# 2 - display size\n",
    "# 3 - internal size\n",
    "# 4 - precision\n",
    "\n",
    "# get column names\n",
    "from pyparsing import col\n",
    "\n",
    "\n",
    "cur.description # so lot of extra information but we only ned the first element\n",
    "# we can use list comprehension to get the first element of each tuple\n",
    "\n",
    "column_names = [tup[0] for tup in cur.description]\n",
    "column_names"
   ]
  },
  {
   "cell_type": "code",
   "execution_count": 7,
   "metadata": {},
   "outputs": [],
   "source": [
    "# one typical approach would be to create a customer class\n",
    "# and then create a list of customer objects\n",
    "# we can use the zip function to create a list of tuples\n",
    "\n",
    "class Customer:\n",
    "    # constructor\n",
    "    def __init__(self, id, first_name, last_name, company, address, city, state, country, postal_code, phone, fax, email, support_rep_id):\n",
    "        self.id = id\n",
    "        self.first_name = first_name\n",
    "        self.last_name = last_name\n",
    "        self.company = company\n",
    "        self.address = address\n",
    "        self.city = city\n",
    "        self.state = state\n",
    "        self.country = country\n",
    "        self.postal_code = postal_code\n",
    "        self.phone = phone\n",
    "        self.fax = fax\n",
    "        self.email = email\n",
    "        self.support_rep_id = support_rep_id \n",
    "    \n",
    "    # for printing\n",
    "    def __repr__(self):\n",
    "        return f\"{self.first_name} {self.last_name} {self.email} {self.country}\""
   ]
  },
  {
   "cell_type": "code",
   "execution_count": 29,
   "metadata": {},
   "outputs": [
    {
     "data": {
      "text/plain": [
       "(16,\n",
       " 'Frank',\n",
       " 'Harris',\n",
       " 'Google Inc.',\n",
       " '1600 Amphitheatre Parkway',\n",
       " 'Mountain View',\n",
       " 'CA',\n",
       " 'USA',\n",
       " '94043-1351',\n",
       " '+1 (650) 253-0000',\n",
       " '+1 (650) 253-0000',\n",
       " 'fharris@google.com',\n",
       " 4)"
      ]
     },
     "execution_count": 29,
     "metadata": {},
     "output_type": "execute_result"
    }
   ],
   "source": [
    "us_customers_list[0]"
   ]
  },
  {
   "cell_type": "code",
   "execution_count": 31,
   "metadata": {},
   "outputs": [
    {
     "data": {
      "text/plain": [
       "[Frank Harris fharris@google.com USA,\n",
       " Jack Smith jacksmith@microsoft.com USA,\n",
       " Michelle Brooks michelleb@aol.com USA]"
      ]
     },
     "execution_count": 31,
     "metadata": {},
     "output_type": "execute_result"
    }
   ],
   "source": [
    "# create a list of customer objects\n",
    "us_customers = [Customer(*tup) for tup in us_customers_list]\n",
    "# this works because *tup will give me the elements of the tuple as individual arguments\n",
    "# this is called unpacking\n",
    "\n",
    "# print first 3 customers\n",
    "us_customers[:3]"
   ]
  },
  {
   "cell_type": "code",
   "execution_count": 32,
   "metadata": {},
   "outputs": [
    {
     "data": {
      "text/plain": [
       "('Google Inc.', '+1 (650) 253-0000')"
      ]
     },
     "execution_count": 32,
     "metadata": {},
     "output_type": "execute_result"
    }
   ],
   "source": [
    "first_customer = us_customers[0]\n",
    "first_customer.company, first_customer.phone"
   ]
  },
  {
   "cell_type": "code",
   "execution_count": 33,
   "metadata": {},
   "outputs": [
    {
     "data": {
      "text/plain": [
       "{'CustomerId': 16,\n",
       " 'FirstName': 'Frank',\n",
       " 'LastName': 'Harris',\n",
       " 'Company': 'Google Inc.',\n",
       " 'Address': '1600 Amphitheatre Parkway',\n",
       " 'City': 'Mountain View',\n",
       " 'State': 'CA',\n",
       " 'Country': 'USA',\n",
       " 'PostalCode': '94043-1351',\n",
       " 'Phone': '+1 (650) 253-0000',\n",
       " 'Fax': '+1 (650) 253-0000',\n",
       " 'Email': 'fharris@google.com',\n",
       " 'SupportRepId': 4}"
      ]
     },
     "execution_count": 33,
     "metadata": {},
     "output_type": "execute_result"
    }
   ],
   "source": [
    "# using data classes for storing rows is very typical\n",
    "# you can also use named tuples - they are immutable\n",
    "# you can also use dictionaries - they are mutable\n",
    "\n",
    "# there is an alternative way to do this\n",
    "# we can use the sqlite3.Row class\n",
    "# this will allow us to access columns by name\n",
    "\n",
    "# get cursor\n",
    "cur = con.cursor()\n",
    "# set row factory\n",
    "cur.row_factory = sqlite3.Row\n",
    "# get all customers from USA\n",
    "result = cur.execute(\"select * from customers where country = 'USA'\")\n",
    "# get first row\n",
    "row = result.fetchone()\n",
    "# get column names\n",
    "column_names = row.keys()\n",
    "# get column values\n",
    "column_values = [row[col] for col in column_names]\n",
    "# create a dictionary\n",
    "row_dict = dict(zip(column_names, column_values))\n",
    "row_dict\n"
   ]
  },
  {
   "cell_type": "code",
   "execution_count": null,
   "metadata": {},
   "outputs": [],
   "source": [
    "# CRUD - means create, read, update, delete\n",
    "# we can do CRUD in SQL\n",
    "# in SQL - select, insert, update, delete\n",
    "# so select is read, insert is create, update is update, delete is delete"
   ]
  },
  {
   "cell_type": "code",
   "execution_count": null,
   "metadata": {},
   "outputs": [],
   "source": [
    "# next we will look at create, update and delete of data in SQL"
   ]
  },
  {
   "cell_type": "code",
   "execution_count": 1,
   "metadata": {},
   "outputs": [],
   "source": [
    "# lets get a connection and cursor again\n",
    "import sqlite3\n",
    "con = sqlite3.connect('chinook.db')\n",
    "cur = con.cursor()"
   ]
  },
  {
   "cell_type": "code",
   "execution_count": 4,
   "metadata": {},
   "outputs": [],
   "source": [
    "# let's insert a new artist in our database\n",
    "# we will use the execute method of the cursor\n",
    "# we will use the commit method of the connection\n",
    "\n",
    "# documentation for SQL insert at SQLite tutorial\n",
    "# https://www.sqlitetutorial.net/sqlite-insert/\n",
    "\n",
    "# insert artist\n",
    "cur.execute(\"insert into artists (name) values ('Jumprava')\")\n",
    "# commit changes\n",
    "con.commit()"
   ]
  },
  {
   "cell_type": "code",
   "execution_count": 6,
   "metadata": {},
   "outputs": [],
   "source": [
    "# how to do parameterized queries\n",
    "# we can use the ? placeholder\n",
    "\n",
    "# insert artist\n",
    "\n",
    "# you use parameterized queries to avoid SQL injection\n",
    "# SQL injection is a big security risk\n",
    "# XKCD comic on SQL injection\n",
    "# https://xkcd.com/327/\n",
    "\n",
    "# you use parameterized when you do not know the safety of the data\n",
    "band_name = input(\"Enter band name: \") # attacker could enter '; drop table artists; --\n",
    "# you might have been tempted to use f-strings\n",
    "# but f-strings are not safe for SQL queries when combined with user input\n",
    "\n",
    "cur.execute(\"insert into artists (name) values (?)\", (band_name,))\n",
    "con.commit()"
   ]
  },
  {
   "cell_type": "code",
   "execution_count": 9,
   "metadata": {},
   "outputs": [],
   "source": [
    "# let's create a new customer\n",
    "# we will use the execute method of the cursor\n",
    "\n",
    "new_customer = Customer(None, 'John', 'Doe', \"Trump Plaza\", '123 Main St', 'New York', 'NY', 'USA', '10001', '555-555-5555', None, '', None)"
   ]
  },
  {
   "cell_type": "code",
   "execution_count": 11,
   "metadata": {},
   "outputs": [],
   "source": [
    "# let's insert a new customer\n",
    "\n",
    "# insert customer\n",
    "\n",
    "# we can use the lastrowid attribute of the cursor to get the id of the last inserted row\n",
    "\n",
    "# safe way of inserting data\n",
    "cur.execute(\"insert into customers (FirstName, LastName,\\\n",
    "     company, address, city, state, country, PostalCode, phone, fax, email, supportRepId)\\\n",
    "         values (?, ?, ?, ?, ?, ?, ?, ?, ?, ?, ?, ?)\", \n",
    "        (   new_customer.first_name, \n",
    "            new_customer.last_name, \n",
    "            new_customer.company,\n",
    "            new_customer.address, \n",
    "            new_customer.city, \n",
    "            new_customer.state, \n",
    "            new_customer.country, \n",
    "            new_customer.postal_code, \n",
    "            new_customer.phone, \n",
    "            new_customer.fax, \n",
    "            new_customer.email, \n",
    "            new_customer.support_rep_id))\n",
    "# you could insert more customers here\n",
    "\n",
    "# once you are done inserting customers\n",
    "con.commit()"
   ]
  },
  {
   "cell_type": "code",
   "execution_count": 12,
   "metadata": {},
   "outputs": [],
   "source": [
    "# let's update a customer\n",
    "\n",
    "# update customer\n",
    "\n",
    "# let's update the customer we just inserted\n",
    "\n",
    "# we will use the execute method of the cursor\n",
    "\n",
    "# we will use the commit method of the connection\n",
    "\n",
    "# documentation for SQL update at SQLite tutorial\n",
    "# https://www.sqlitetutorial.net/sqlite-update/\n",
    "\n",
    "# update customer   \n",
    "\n",
    "# we will find ALL!! rows where city is New York and will rename them to New York City\n",
    "cur.execute(\"update customers set city = 'New York City' where city = 'New York'\")\n",
    "\n",
    "# once you are done updating customers\n",
    "con.commit()\n",
    "\n",
    "# so if you want to only change one row, the best way is to use the rowid\n",
    "# you would need to know the rowid of the row you want to update\n"
   ]
  },
  {
   "cell_type": "code",
   "execution_count": 13,
   "metadata": {},
   "outputs": [],
   "source": [
    "# parameterized queries are safer\n",
    "# use them to update a single row\n",
    "\n",
    "new_city_name = input(\"Enter new city name: \") # someone could enter New York City'; drop table customers; --\n",
    "\n",
    "# update documentation at SQLIte tutorial\n",
    "# https://www.sqlitetutorial.net/sqlite-update/\n",
    "\n",
    "# safe way to update data\n",
    "cur.execute(\"update customers set city = ? where city = 'New York City'\", (new_city_name,))\n",
    "\n",
    "# once you are done updating customers\n",
    "con.commit()"
   ]
  },
  {
   "cell_type": "code",
   "execution_count": 2,
   "metadata": {},
   "outputs": [],
   "source": [
    "# let's update customer\n",
    "# UPDATE employees\n",
    "# SET city = 'Toronto',\n",
    "#     state = 'ON',\n",
    "#     postalcode = 'M5P 2N7'\n",
    "# WHERE\n",
    "#     employeeid = 4;\n",
    "\n",
    "# if these values are not safe this is how we would do it\n",
    "# we would use parameterized queries\n",
    "cur.execute(\"update employees set city = ?, state = ?, postalcode = ? where employeeid = ?\", \n",
    "    ('Toronto', 'ON', 'M5P 2N7', 4))\n",
    "\n",
    "# once you are done updating customers\n",
    "con.commit()\n"
   ]
  },
  {
   "cell_type": "code",
   "execution_count": 14,
   "metadata": {},
   "outputs": [],
   "source": [
    "# finally delete a customer\n",
    "\n",
    "# delete customer\n",
    "\n",
    "# let's delete the customer we just inserted\n",
    "\n",
    "# we will use the execute method of the cursor\n",
    "\n",
    "# we will use the commit method of the connection\n",
    "\n",
    "# delete last customer\n",
    "\n",
    "# documentation for SQL delete at SQLite tutorial\n",
    "# https://www.sqlitetutorial.net/sqlite-delete/\n",
    "\n",
    "# delete will delete all rows that match the condition!!!\n",
    "\n",
    "# delete last customer\n",
    "\n",
    "# we will delete the last customer we inserted\n",
    "\n",
    "# using subquery to obtain the id of the last customer\n",
    "cur.execute(\"delete from customers where customerId = (select max(customerId) from customers)\")\n",
    "\n",
    "con.commit()\n",
    "\n",
    "# turns out not all sqlite versions have extended delete\n",
    "# https://www.sqlite.org/lang_delete.html\n",
    "\n"
   ]
  },
  {
   "cell_type": "code",
   "execution_count": 5,
   "metadata": {},
   "outputs": [
    {
     "ename": "OperationalError",
     "evalue": "near \"ORDER\": syntax error",
     "output_type": "error",
     "traceback": [
      "\u001b[1;31m---------------------------------------------------------------------------\u001b[0m",
      "\u001b[1;31mOperationalError\u001b[0m                          Traceback (most recent call last)",
      "Cell \u001b[1;32mIn [5], line 7\u001b[0m\n\u001b[0;32m      1\u001b[0m \u001b[39m# how to delete multiple rows\u001b[39;00m\n\u001b[0;32m      2\u001b[0m \n\u001b[0;32m      3\u001b[0m \u001b[39m# delete all customers from USA\u001b[39;00m\n\u001b[0;32m      4\u001b[0m \u001b[39m# let's delete using parameterized queries\u001b[39;00m\n\u001b[0;32m      5\u001b[0m \u001b[39m# alternative way to delete last customer from USA\u001b[39;00m\n\u001b[0;32m      6\u001b[0m \u001b[39m# cur.execute(\"DELETE FROM customers WHERE country = ? ORDER BY CustomerId DESC LIMIT 1\", ('USA',))\u001b[39;00m\n\u001b[1;32m----> 7\u001b[0m cur\u001b[39m.\u001b[39;49mexecute(\u001b[39m\"\u001b[39;49m\u001b[39mDELETE FROM customers ORDER BY CustomerId DESC LIMIT 1\u001b[39;49m\u001b[39m\"\u001b[39;49m)\n\u001b[0;32m      8\u001b[0m con\u001b[39m.\u001b[39mcommit()\n",
      "\u001b[1;31mOperationalError\u001b[0m: near \"ORDER\": syntax error"
     ]
    }
   ],
   "source": [
    "# how to delete multiple rows\n",
    "\n",
    "# delete all customers from USA\n",
    "# let's delete using parameterized queries\n",
    "# alternative way to delete last customer from USA\n",
    "# cur.execute(\"DELETE FROM customers WHERE country = ? ORDER BY CustomerId DESC LIMIT 1\", ('USA',))\n",
    "# cur.execute(\"DELETE FROM customers ORDER BY CustomerId DESC LIMIT 1\")\n",
    "# con.commit()"
   ]
  },
  {
   "cell_type": "code",
   "execution_count": 6,
   "metadata": {},
   "outputs": [
    {
     "data": {
      "text/plain": [
       "'2.6.0'"
      ]
     },
     "execution_count": 6,
     "metadata": {},
     "output_type": "execute_result"
    }
   ],
   "source": [
    "# check sqlite version\n",
    "# sqlite3.version\n",
    "sqlite3.version # this is library version"
   ]
  },
  {
   "cell_type": "code",
   "execution_count": 7,
   "metadata": {},
   "outputs": [
    {
     "data": {
      "text/plain": [
       "'3.37.2'"
      ]
     },
     "execution_count": 7,
     "metadata": {},
     "output_type": "execute_result"
    }
   ],
   "source": [
    "# check version of sqlite built into Python\n",
    "sqlite3.sqlite_version # this is the version of sqlite database built into Python"
   ]
  },
  {
   "cell_type": "code",
   "execution_count": 11,
   "metadata": {},
   "outputs": [],
   "source": [
    "# CREATE TABLE manager (\n",
    "# \tcontact_id INTEGER PRIMARY KEY,\n",
    "# \tfirst_name TEXT NOT NULL,\n",
    "# \tlast_name TEXT NOT NULL,\n",
    "# \temail TEXT NOT NULL UNIQUE,\n",
    "# \tphone TEXT NOT NULL UNIQUE\n",
    "# );\n",
    "\n",
    "# let's create a table\n",
    "\n",
    "# create table documentation at SQLite tutorial\n",
    "# https://www.sqlitetutorial.net/sqlite-create-table/\n",
    "\n",
    "# create table\n",
    "\n",
    "# i am using \"\"\" to create a multi-line string\n",
    "# by saying not null i am saying that the column is required\n",
    "# by saying unique i am saying that the column must have unique values\n",
    "# by requiring unique values in effect i am saying this column could have been a primary key\n",
    "cur.execute(\"\"\"CREATE TABLE managers \n",
    "\t\t(contact_id integer PRIMARY KEY, \n",
    "\t\tartist_id integer not null,\n",
    "\t\tfirst_name text not null, \n",
    "\t\tlast_name text not null, \n",
    "\t\temail text not null unique, \n",
    "\t\tphone text not null unique)\"\"\")\n",
    "\n",
    "# once you are done creating the table\n",
    "\n",
    "con.commit()\n",
    "\n"
   ]
  },
  {
   "cell_type": "code",
   "execution_count": 14,
   "metadata": {},
   "outputs": [
    {
     "ename": "OperationalError",
     "evalue": "near \"FOREIGN\": syntax error",
     "output_type": "error",
     "traceback": [
      "\u001b[1;31m---------------------------------------------------------------------------\u001b[0m",
      "\u001b[1;31mOperationalError\u001b[0m                          Traceback (most recent call last)",
      "Cell \u001b[1;32mIn [14], line 7\u001b[0m\n\u001b[0;32m      1\u001b[0m \u001b[39m# TODO add foreign key constraint\u001b[39;00m\n\u001b[0;32m      2\u001b[0m \u001b[39m# https://www.sqlitetutorial.net/sqlite-foreign-key/\u001b[39;00m\n\u001b[0;32m      3\u001b[0m \u001b[39m# FOREIGN KEY(trackartist) REFERENCES artist(artistid)\u001b[39;00m\n\u001b[0;32m      4\u001b[0m \n\u001b[0;32m      5\u001b[0m \u001b[39m# add foreign key constraint for managers table\u001b[39;00m\n\u001b[1;32m----> 7\u001b[0m cur\u001b[39m.\u001b[39;49mexecute(\u001b[39m\"\u001b[39;49m\u001b[39mALTER TABLE managers ADD FOREIGN KEY(artist_id) REFERENCES artists(ArtistId)\u001b[39;49m\u001b[39m\"\u001b[39;49m)\n\u001b[0;32m      9\u001b[0m con\u001b[39m.\u001b[39mcommit()\n",
      "\u001b[1;31mOperationalError\u001b[0m: near \"FOREIGN\": syntax error"
     ]
    }
   ],
   "source": [
    "# TODO add foreign key constraint\n",
    "# https://www.sqlitetutorial.net/sqlite-foreign-key/\n",
    "# FOREIGN KEY(trackartist) REFERENCES artist(artistid)\n",
    "\n",
    "# add foreign key constraint for managers table\n",
    "\n",
    "# cur.execute(\"ALTER TABLE managers ADD FOREIGN KEY(artist_id) REFERENCES artists(ArtistId)\")\n",
    "\n",
    "# con.commit()\n",
    "\n",
    "# FIXME add foreign key constraint for managers table\n"
   ]
  }
 ],
 "metadata": {
  "kernelspec": {
   "display_name": "Python 3.10.7 ('venv': venv)",
   "language": "python",
   "name": "python3"
  },
  "language_info": {
   "codemirror_mode": {
    "name": "ipython",
    "version": 3
   },
   "file_extension": ".py",
   "mimetype": "text/x-python",
   "name": "python",
   "nbconvert_exporter": "python",
   "pygments_lexer": "ipython3",
   "version": "3.10.7"
  },
  "orig_nbformat": 4,
  "vscode": {
   "interpreter": {
    "hash": "b80708c7bd38bd96dc15c82484a40621665f8a1d2e88ebc3c5ed926cece63585"
   }
  }
 },
 "nbformat": 4,
 "nbformat_minor": 2
}
