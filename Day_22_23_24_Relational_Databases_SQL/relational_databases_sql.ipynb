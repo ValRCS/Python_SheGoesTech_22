{
 "cells": [
  {
   "cell_type": "markdown",
   "metadata": {},
   "source": [
    "# Introduction to Relational Databases and SQL"
   ]
  },
  {
   "cell_type": "markdown",
   "metadata": {},
   "source": [
    "![Table example](https://www.sqlitetutorial.net/wp-content/uploads/2015/11/Tracks-Table-data.jpg)\n",
    "\n",
    "example from: https://www.sqlitetutorial.net/sqlite-select/"
   ]
  },
  {
   "cell_type": "code",
   "execution_count": null,
   "metadata": {},
   "outputs": [],
   "source": [
    "# what is a relational database?\n",
    "#\n",
    "# - a database that stores data in tables\n",
    "# - each table has a name\n",
    "# - each table has columns\n",
    "# - each column has a name\n",
    "# - each column has a data type\n",
    "# - each row has a unique id\n",
    "# - each row has a value for each column - can be null\n",
    "# - each table has a primary key - a unique identifier for each row(most sql databases use an integer id)\n",
    "\n",
    "# what is a sql database?\n",
    "#\n",
    "# - a database that uses the sql language\n",
    "# - sql is a declarative language\n",
    "# - sql is a standard language\n",
    "# - sql is a language that is used to communicate with a database\n",
    "# - sql is a language that is used to create, read, update, and delete data in a database\n",
    "\n",
    "# sql standard is defined by the iso\n",
    "# - iso is the international organization for standardization\n",
    "# link to iso standards: https://www.iso.org/standard/63555.html\n"
   ]
  },
  {
   "cell_type": "code",
   "execution_count": null,
   "metadata": {},
   "outputs": [],
   "source": [
    "# how does Python work with SQL?\n",
    "\n",
    "# - Python has a built-in module called sqlite3\n",
    "# - sqlite3 is a database driver\n",
    "# - a database driver is a library that allows Python to communicate with a database\n",
    "# - sqlite3 is a lightweight database driver\n",
    "# - sqlite3 is a database driver that works with a database that is stored in a file\n",
    "# - sqlite3 is a database driver that works with a database that is stored in memory\n",
    "\n",
    "# there are other database drivers for Python\n",
    "# such as:\n",
    "# - psycopg2\n",
    "# - mysql-connector\n",
    "# - pyodbc\n",
    "# - pymssql\n",
    "# - pymsql - and many more those external libraries are not part of the standard library\n",
    "# we install them using pip\n",
    "\n",
    "# there are also libraries such as sqlalchemy that are used to work with multiple databases\n",
    "# - sqlalchemy is an object relational mapper - orm - that allows us to work with multiple databases"
   ]
  },
  {
   "cell_type": "code",
   "execution_count": null,
   "metadata": {},
   "outputs": [],
   "source": [
    "# it might be useful to install an external database management system\n",
    "# - a database management system is a program that allows us to work with a database\n",
    "# - a database management system is a program that allows us to create, read, update, and delete data in a database\n",
    "\n",
    "# there are many database management systems - some paid and some free\n",
    "# - sqlite studio\n",
    "# - sql workbench\n",
    "# - oracle sql developer\n",
    "# - mysql workbench\n",
    "# - postgresql pgadmin\n",
    "# - microsoft sql server management studio\n",
    "\n",
    "# we will use dbeaver Community Edition\n",
    "# - dbeaver is a free database management system\n",
    "# - dbeaver is a free database management system that works with multiple databases\n",
    "# - link to download dbeaver: https://dbeaver.io/download/\n",
    "\n",
    "# we could use python for everything but it is not the best tool for the job when starting out"
   ]
  },
  {
   "cell_type": "code",
   "execution_count": null,
   "metadata": {},
   "outputs": [],
   "source": [
    "# What is SQLite?\n",
    "#\n",
    "# - SQLite is a database that is stored in a file\n",
    "# - maximum size of a SQLite database is 140 terabytes ! so it is not a problem\n",
    "# - SQLite is a relational database\n",
    "# official site is here: https://www.sqlite.org/index.html\n",
    "# SQlite is embedded in many devices and applications - such as\n",
    "# - Android\n",
    "# - iOS\n",
    "# - Windows\n",
    "# - Linux\n",
    "# - Mac OS\n",
    "# - Firefox\n",
    "# - Chrome\n",
    "# - Opera\n",
    "# becuase it is easy to include in a program, it is often used for small and big applications\n",
    "\n",
    "# what is the limitation of SQLite?\n",
    "#\n",
    "# - SQLite is a single user database - no password\n",
    "# - SQLite is a single user database - no multi-user support\n",
    "# - SQLite is a single user database - no multi-threading support\n",
    "# - SQLite is a single user database - no multi-processing support\n",
    "\n",
    "# what is the advantage of SQLite?\n",
    "#\n",
    "# it is faster than most other SQL databases\n",
    "# it is easy to use\n",
    "# it is easy to include in a program\n",
    "# it is easy to backup\n",
    "# it is easy to restore\n",
    "# it is easy to transfer\n",
    "# it is easy to share\n",
    "# it is easy to learn - we will see that in a moment\n",
    "# SQLite is also exteremely well tested"
   ]
  },
  {
   "cell_type": "code",
   "execution_count": null,
   "metadata": {},
   "outputs": [],
   "source": [
    "# database popularity statistics\n",
    "# - https://db-engines.com/en/ranking"
   ]
  }
 ],
 "metadata": {
  "kernelspec": {
   "display_name": "Python 3.10.7 ('venv': venv)",
   "language": "python",
   "name": "python3"
  },
  "language_info": {
   "name": "python",
   "version": "3.10.7"
  },
  "orig_nbformat": 4,
  "vscode": {
   "interpreter": {
    "hash": "b80708c7bd38bd96dc15c82484a40621665f8a1d2e88ebc3c5ed926cece63585"
   }
  }
 },
 "nbformat": 4,
 "nbformat_minor": 2
}
