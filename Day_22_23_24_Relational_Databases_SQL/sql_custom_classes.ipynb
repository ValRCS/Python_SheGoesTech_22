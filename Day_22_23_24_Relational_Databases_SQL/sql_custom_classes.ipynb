{
 "cells": [
  {
   "cell_type": "code",
   "execution_count": 30,
   "metadata": {},
   "outputs": [],
   "source": [
    "# we will create a class to connect to sqlite database and perform CRUD operations\n",
    "\n",
    "# first we need to import sqlite3\n",
    "\n",
    "import sqlite3\n",
    "import pandas as pd"
   ]
  },
  {
   "cell_type": "code",
   "execution_count": 37,
   "metadata": {},
   "outputs": [],
   "source": [
    "# our class for connecting to sqlite database and performing CRUD operations\n",
    "# especially useful if you have multiple databases and you want to create a class for each database\n",
    "\n",
    "# later on we can move this class to separate file and import it TODO\n",
    "class SqliteCRUD:\n",
    "    \n",
    "    # constructor\n",
    "    # called when we create an object of this class\n",
    "    def __init__(self, dbpath):\n",
    "        self.dbpath = dbpath\n",
    "        self.conn = sqlite3.connect(dbpath)\n",
    "        self.cursor = self.conn.cursor()\n",
    "        # print status  \n",
    "        print(f\"Connected to database: {dbpath} Ready to perform CRUD operations!\")\n",
    "    \n",
    "    # destructor - will be called when object is deleted - typically when program ends\n",
    "    def __del__(self):\n",
    "        self.conn.close()\n",
    "    \n",
    "    # get a list of all artists\n",
    "    def read_artists(self):\n",
    "        self.cursor.execute(\"SELECT * FROM artists\")\n",
    "        return self.cursor.fetchall() # returns a list of tuples\n",
    "\n",
    "    def create_artist(self, name):\n",
    "        # notice the parameterized query - for security reasons\n",
    "        self.cursor.execute(\"INSERT INTO artists (name) VALUES (?)\", (name,))\n",
    "        self.conn.commit()\n",
    "        # return self to allow chaining\n",
    "        return self\n",
    "\n",
    "    # insert a list of artists\n",
    "    def create_artists(self, artists):\n",
    "        self.cursor.executemany(\"INSERT INTO artists (name) VALUES (?)\", artists)\n",
    "        # alternative:\n",
    "        # for artist in artists:\n",
    "        #     self.cursor.execute(\"INSERT INTO artists (name) VALUES (?)\", artist)\n",
    "        # should be similar speed as long as we do not have too many artists\n",
    "        # also note how we only commit once\n",
    "        self.conn.commit()\n",
    "        return self\n",
    "\n",
    "    # update artist name\n",
    "    def update_artist_by_id(self, id, new_name):\n",
    "        # again parameterized query for security reasons\n",
    "        self.cursor.execute(\"UPDATE artists SET name = ? WHERE ArtistId = ?\", (new_name, id))\n",
    "        self.conn.commit()\n",
    "        return self\n",
    "\n",
    "    # update arits name by name\n",
    "    def update_artist_by_name(self, old_name, new_name):\n",
    "        # again parameterized query for security reasons\n",
    "        # this could change multiple rows !\n",
    "        self.cursor.execute(\"UPDATE artists SET name = ? WHERE name = ?\", (new_name, old_name))\n",
    "        self.conn.commit()\n",
    "        return self\n",
    "\n",
    "    # let's get tail of artists table\n",
    "    def read_artists_tail(self, n=10):\n",
    "        self.cursor.execute(\"SELECT * FROM artists ORDER BY ArtistId DESC LIMIT ?\", (n,))\n",
    "        return self.cursor.fetchall()\n",
    "\n",
    "    # delete artist by id\n",
    "    def delete_artist_by_id(self, id):\n",
    "        # again parameterized query for security reasons\n",
    "        self.cursor.execute(\"DELETE FROM artists WHERE ArtistId = ?\", (id,))\n",
    "        self.conn.commit()\n",
    "        return self\n",
    "\n",
    "    # delete artist by name\n",
    "    def delete_artist_by_name(self, name):\n",
    "        # again parameterized query for security reasons\n",
    "        self.cursor.execute(\"DELETE FROM artists WHERE name = ?\", (name,))\n",
    "        self.conn.commit()\n",
    "        return self\n",
    "\n",
    "    # return dataframe with all artists\n",
    "    def read_artists_df(self):\n",
    "        # by abstracting this we can change the implementation later\n",
    "        # also we create documentation for this method\n",
    "        return pd.read_sql_query(\"SELECT * FROM artists\", self.conn)\n",
    "\n",
    "    # just add more methods for other tables, joins, views, etc.\n",
    "\n",
    "    # TODO explore GROUP BY, HAVING and other SQL features"
   ]
  },
  {
   "cell_type": "code",
   "execution_count": 39,
   "metadata": {},
   "outputs": [],
   "source": [
    "# in effect we have made our own ORM - object relational mapper\n",
    "# ORM is a library that maps database tables to python objects\n",
    "\n",
    "# ORM on wikipedia: https://en.wikipedia.org/wiki/Object-relational_mapping"
   ]
  },
  {
   "cell_type": "code",
   "execution_count": 38,
   "metadata": {},
   "outputs": [
    {
     "name": "stdout",
     "output_type": "stream",
     "text": [
      "Connected to database: chinook.db Ready to perform CRUD operations!\n"
     ]
    },
    {
     "data": {
      "text/plain": [
       "'chinook.db'"
      ]
     },
     "execution_count": 38,
     "metadata": {},
     "output_type": "execute_result"
    }
   ],
   "source": [
    "# we create a single object of this class\n",
    "db = SqliteCRUD(\"chinook.db\")\n",
    "db.dbpath\n",
    "# now we can run queries using db.cursor.execute(query) method"
   ]
  },
  {
   "cell_type": "code",
   "execution_count": 9,
   "metadata": {},
   "outputs": [
    {
     "data": {
      "text/plain": [
       "[(1, 'AC/DC'), (2, 'Accept'), (3, 'Aerosmith')]"
      ]
     },
     "execution_count": 9,
     "metadata": {},
     "output_type": "execute_result"
    }
   ],
   "source": [
    "artist_list = db.read_artists()\n",
    "artist_list[:3]"
   ]
  },
  {
   "cell_type": "code",
   "execution_count": 10,
   "metadata": {},
   "outputs": [
    {
     "data": {
      "text/plain": [
       "[(278, 'Jumprava'),\n",
       " (279, '; DROP TABLE artists; --'),\n",
       " (280, 'Lady Gaga; DROP TABLES artists; --')]"
      ]
     },
     "execution_count": 10,
     "metadata": {},
     "output_type": "execute_result"
    }
   ],
   "source": [
    "# last 3\n",
    "artist_list[-3:]"
   ]
  },
  {
   "cell_type": "code",
   "execution_count": 11,
   "metadata": {},
   "outputs": [
    {
     "data": {
      "text/plain": [
       "[(279, '; DROP TABLE artists; --'),\n",
       " (280, 'Lady Gaga; DROP TABLES artists; --'),\n",
       " (281, 'David Bowie')]"
      ]
     },
     "execution_count": 11,
     "metadata": {},
     "output_type": "execute_result"
    }
   ],
   "source": [
    "# create a new artist\n",
    "db.create_artist(\"David Bowie\")\n",
    "artist_list = db.read_artists()\n",
    "# last 3 \n",
    "artist_list[-3:]\n"
   ]
  },
  {
   "cell_type": "code",
   "execution_count": 12,
   "metadata": {},
   "outputs": [
    {
     "data": {
      "text/plain": [
       "[(282, 'David Bowie'), (283, 'Queen'), (284, 'The Beatles')]"
      ]
     },
     "execution_count": 12,
     "metadata": {},
     "output_type": "execute_result"
    }
   ],
   "source": [
    "# a list of single element tuples\n",
    "my_artists = [(\"David Bowie\",), (\"Queen\",), (\"The Beatles\",)]\n",
    "db.create_artists(my_artists)\n",
    "artist_list = db.read_artists()\n",
    "# last 3\n",
    "artist_list[-3:]"
   ]
  },
  {
   "cell_type": "code",
   "execution_count": 17,
   "metadata": {},
   "outputs": [
    {
     "data": {
      "text/plain": [
       "[(275, 'Philip Glass Ensemble'),\n",
       " (276, 'Valdis Saulespurēns'),\n",
       " (277, 'Jumprava'),\n",
       " (278, 'Jumprava'),\n",
       " (279, '; DROP TABLE artists; --'),\n",
       " (280, 'Lady Gaga; DROP TABLES artists; --'),\n",
       " (281, 'David Bowie'),\n",
       " (282, 'David Bowie'),\n",
       " (283, 'Queen'),\n",
       " (284, 'The Beatles')]"
      ]
     },
     "execution_count": 17,
     "metadata": {},
     "output_type": "execute_result"
    }
   ],
   "source": [
    "# last 10 artists\n",
    "artist_list = db.read_artists()\n",
    "artist_list[-10:]"
   ]
  },
  {
   "cell_type": "code",
   "execution_count": null,
   "metadata": {},
   "outputs": [],
   "source": []
  },
  {
   "cell_type": "code",
   "execution_count": 21,
   "metadata": {},
   "outputs": [
    {
     "data": {
      "text/plain": [
       "[(275, 'Philip Glass Ensemble'),\n",
       " (276, 'Valdis Saulespurēns'),\n",
       " (277, 'Jumprava'),\n",
       " (278, 'Jumprava'),\n",
       " (279, '; DROP TABLE artists; --'),\n",
       " (280, 'Lady Gaga'),\n",
       " (281, 'David Bowie'),\n",
       " (282, 'David Bowie'),\n",
       " (283, 'Queen'),\n",
       " (284, 'The Beatles')]"
      ]
     },
     "execution_count": 21,
     "metadata": {},
     "output_type": "execute_result"
    }
   ],
   "source": [
    "# let's change 280 to Lady Gaga\n",
    "db.update_artist_by_id(280, \"Lady Gaga\")\n",
    "db.read_artists()[-10:] # of course on larger database we would not read all artists"
   ]
  },
  {
   "cell_type": "code",
   "execution_count": 25,
   "metadata": {},
   "outputs": [
    {
     "data": {
      "text/plain": [
       "[(284, 'The Beatles'),\n",
       " (283, 'Queen'),\n",
       " (282, 'David Bowie'),\n",
       " (281, 'David Bowie'),\n",
       " (280, 'Lady Gaga'),\n",
       " (279, '; DROP TABLE artists; --'),\n",
       " (278, 'Jumprava'),\n",
       " (277, 'Jumprava'),\n",
       " (276, 'Valdis Saulespurēns'),\n",
       " (275, 'Philip Glass Ensemble'),\n",
       " (274, 'Nash Ensemble'),\n",
       " (273,\n",
       "  'C. Monteverdi, Nigel Rogers - Chiaroscuro; London Baroque; London Cornett & Sackbu')]"
      ]
     },
     "execution_count": 25,
     "metadata": {},
     "output_type": "execute_result"
    }
   ],
   "source": [
    "# let's get tail\n",
    "db.read_artists_tail(12) # default is 10"
   ]
  },
  {
   "cell_type": "code",
   "execution_count": 28,
   "metadata": {},
   "outputs": [
    {
     "data": {
      "text/plain": [
       "[(284, 'The Beatles'),\n",
       " (283, 'Queen'),\n",
       " (282, 'David Bowie'),\n",
       " (281, 'David Bowie'),\n",
       " (280, 'Lady Gaga')]"
      ]
     },
     "execution_count": 28,
     "metadata": {},
     "output_type": "execute_result"
    }
   ],
   "source": [
    "# let's get tail of 5\n",
    "db.read_artists_tail(5)"
   ]
  },
  {
   "cell_type": "code",
   "execution_count": 29,
   "metadata": {},
   "outputs": [
    {
     "data": {
      "text/plain": [
       "[(287, 'Samanta Tīne'),\n",
       " (286, 'Lauris Reinikis'),\n",
       " (285, 'Ansis'),\n",
       " (284, 'The Beatles'),\n",
       " (283, 'Queen'),\n",
       " (282, 'David Bowie'),\n",
       " (281, 'David Bowie'),\n",
       " (280, 'Lady Gaga')]"
      ]
     },
     "execution_count": 29,
     "metadata": {},
     "output_type": "execute_result"
    }
   ],
   "source": [
    "# let's chain some methods i am using \\ for newline to make it more readable\n",
    "db.create_artist(\"Ansis\")\\\n",
    "    .create_artist(\"Lauris Reinikis\")\\\n",
    "    .create_artist(\"Samanta Tīne\")\\\n",
    "    .read_artists_tail(8)"
   ]
  },
  {
   "cell_type": "code",
   "execution_count": 34,
   "metadata": {},
   "outputs": [
    {
     "data": {
      "text/html": [
       "<div>\n",
       "<style scoped>\n",
       "    .dataframe tbody tr th:only-of-type {\n",
       "        vertical-align: middle;\n",
       "    }\n",
       "\n",
       "    .dataframe tbody tr th {\n",
       "        vertical-align: top;\n",
       "    }\n",
       "\n",
       "    .dataframe thead th {\n",
       "        text-align: right;\n",
       "    }\n",
       "</style>\n",
       "<table border=\"1\" class=\"dataframe\">\n",
       "  <thead>\n",
       "    <tr style=\"text-align: right;\">\n",
       "      <th></th>\n",
       "      <th>ArtistId</th>\n",
       "      <th>Name</th>\n",
       "    </tr>\n",
       "  </thead>\n",
       "  <tbody>\n",
       "    <tr>\n",
       "      <th>0</th>\n",
       "      <td>1</td>\n",
       "      <td>AC/DC</td>\n",
       "    </tr>\n",
       "    <tr>\n",
       "      <th>1</th>\n",
       "      <td>2</td>\n",
       "      <td>Accept</td>\n",
       "    </tr>\n",
       "    <tr>\n",
       "      <th>2</th>\n",
       "      <td>3</td>\n",
       "      <td>Aerosmith</td>\n",
       "    </tr>\n",
       "    <tr>\n",
       "      <th>3</th>\n",
       "      <td>4</td>\n",
       "      <td>Alanis Morissette</td>\n",
       "    </tr>\n",
       "    <tr>\n",
       "      <th>4</th>\n",
       "      <td>5</td>\n",
       "      <td>Alice In Chains</td>\n",
       "    </tr>\n",
       "  </tbody>\n",
       "</table>\n",
       "</div>"
      ],
      "text/plain": [
       "   ArtistId               Name\n",
       "0         1              AC/DC\n",
       "1         2             Accept\n",
       "2         3          Aerosmith\n",
       "3         4  Alanis Morissette\n",
       "4         5    Alice In Chains"
      ]
     },
     "execution_count": 34,
     "metadata": {},
     "output_type": "execute_result"
    }
   ],
   "source": [
    "artists_df = db.read_artists_df()\n",
    "artists_df.head()"
   ]
  },
  {
   "cell_type": "code",
   "execution_count": 35,
   "metadata": {},
   "outputs": [
    {
     "data": {
      "text/html": [
       "<div>\n",
       "<style scoped>\n",
       "    .dataframe tbody tr th:only-of-type {\n",
       "        vertical-align: middle;\n",
       "    }\n",
       "\n",
       "    .dataframe tbody tr th {\n",
       "        vertical-align: top;\n",
       "    }\n",
       "\n",
       "    .dataframe thead th {\n",
       "        text-align: right;\n",
       "    }\n",
       "</style>\n",
       "<table border=\"1\" class=\"dataframe\">\n",
       "  <thead>\n",
       "    <tr style=\"text-align: right;\">\n",
       "      <th></th>\n",
       "      <th>ArtistId</th>\n",
       "      <th>Name</th>\n",
       "    </tr>\n",
       "  </thead>\n",
       "  <tbody>\n",
       "    <tr>\n",
       "      <th>282</th>\n",
       "      <td>283</td>\n",
       "      <td>Queen</td>\n",
       "    </tr>\n",
       "    <tr>\n",
       "      <th>283</th>\n",
       "      <td>284</td>\n",
       "      <td>The Beatles</td>\n",
       "    </tr>\n",
       "    <tr>\n",
       "      <th>284</th>\n",
       "      <td>285</td>\n",
       "      <td>Ansis</td>\n",
       "    </tr>\n",
       "    <tr>\n",
       "      <th>285</th>\n",
       "      <td>286</td>\n",
       "      <td>Lauris Reinikis</td>\n",
       "    </tr>\n",
       "    <tr>\n",
       "      <th>286</th>\n",
       "      <td>287</td>\n",
       "      <td>Samanta Tīne</td>\n",
       "    </tr>\n",
       "  </tbody>\n",
       "</table>\n",
       "</div>"
      ],
      "text/plain": [
       "     ArtistId             Name\n",
       "282       283            Queen\n",
       "283       284      The Beatles\n",
       "284       285            Ansis\n",
       "285       286  Lauris Reinikis\n",
       "286       287     Samanta Tīne"
      ]
     },
     "execution_count": 35,
     "metadata": {},
     "output_type": "execute_result"
    }
   ],
   "source": [
    "artists_df.tail()"
   ]
  },
  {
   "cell_type": "code",
   "execution_count": null,
   "metadata": {},
   "outputs": [],
   "source": [
    "# now we could start working on the dataframe without worrying about the database"
   ]
  }
 ],
 "metadata": {
  "kernelspec": {
   "display_name": "Python 3.10.7 ('venv': venv)",
   "language": "python",
   "name": "python3"
  },
  "language_info": {
   "codemirror_mode": {
    "name": "ipython",
    "version": 3
   },
   "file_extension": ".py",
   "mimetype": "text/x-python",
   "name": "python",
   "nbconvert_exporter": "python",
   "pygments_lexer": "ipython3",
   "version": "3.10.7"
  },
  "orig_nbformat": 4,
  "vscode": {
   "interpreter": {
    "hash": "b80708c7bd38bd96dc15c82484a40621665f8a1d2e88ebc3c5ed926cece63585"
   }
  }
 },
 "nbformat": 4,
 "nbformat_minor": 2
}
