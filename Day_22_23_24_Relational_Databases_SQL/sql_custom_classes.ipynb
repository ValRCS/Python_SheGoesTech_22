{
 "cells": [
  {
   "cell_type": "code",
   "execution_count": 2,
   "metadata": {},
   "outputs": [],
   "source": [
    "# we will create a class to connect to sqlite database and perform CRUD operations\n",
    "\n",
    "# first we need to import sqlite3\n",
    "\n",
    "import sqlite3\n",
    "import pandas as pd"
   ]
  },
  {
   "cell_type": "code",
   "execution_count": 5,
   "metadata": {},
   "outputs": [],
   "source": [
    "# our class for connecting to sqlite database and performing CRUD operations\n",
    "# especially useful if you have multiple databases and you want to create a class for each database\n",
    "\n",
    "# later on we can move this class to separate file and import it TODO\n",
    "class SqliteCRUD:\n",
    "    \n",
    "    # constructor\n",
    "    # called when we create an object of this class\n",
    "    def __init__(self, dbpath):\n",
    "        self.dbpath = dbpath\n",
    "        self.conn = sqlite3.connect(dbpath)\n",
    "        self.cursor = self.conn.cursor()\n",
    "        # print status  \n",
    "        print(f\"Connected to database: {dbpath} Ready to perform CRUD operations!\")\n",
    "    \n",
    "    # destructor - will be called when object is deleted - typically when program ends\n",
    "    def __del__(self):\n",
    "        print(\"Closing connection\")\n",
    "        self.conn.close()\n",
    "    \n",
    "    # get a list of all artists\n",
    "    def read_artists(self):\n",
    "        self.cursor.execute(\"SELECT * FROM artists\")\n",
    "        return self.cursor.fetchall() # returns a list of tuples\n",
    "\n",
    "    def create_artist(self, name):\n",
    "        # notice the parameterized query - for security reasons\n",
    "        self.cursor.execute(\"INSERT INTO artists (name) VALUES (?)\", (name,))\n",
    "        self.conn.commit()\n",
    "        # return self to allow chaining\n",
    "        return self\n",
    "\n",
    "    # insert a list of artists\n",
    "    def create_artists(self, artists):\n",
    "        self.cursor.executemany(\"INSERT INTO artists (name) VALUES (?)\", artists)\n",
    "        # alternative:\n",
    "        # for artist in artists:\n",
    "        #     self.cursor.execute(\"INSERT INTO artists (name) VALUES (?)\", artist)\n",
    "        # should be similar speed as long as we do not have too many artists\n",
    "        # also note how we only commit once\n",
    "        self.conn.commit()\n",
    "        return self\n",
    "\n",
    "    # update artist name\n",
    "    def update_artist_by_id(self, id, new_name):\n",
    "        # again parameterized query for security reasons\n",
    "        self.cursor.execute(\"UPDATE artists SET name = ? WHERE ArtistId = ?\", (new_name, id))\n",
    "        self.conn.commit()\n",
    "        return self\n",
    "\n",
    "    # update arits name by name\n",
    "    def update_artist_by_name(self, old_name, new_name):\n",
    "        # again parameterized query for security reasons\n",
    "        # this could change multiple rows !\n",
    "        self.cursor.execute(\"UPDATE artists SET name = ? WHERE name = ?\", (new_name, old_name))\n",
    "        self.conn.commit()\n",
    "        return self\n",
    "\n",
    "    # let's get tail of artists table\n",
    "    def read_artists_tail(self, n=10):\n",
    "        self.cursor.execute(\"SELECT * FROM artists ORDER BY ArtistId DESC LIMIT ?\", (n,))\n",
    "        return self.cursor.fetchall()\n",
    "\n",
    "    # delete artist by id\n",
    "    def delete_artist_by_id(self, id):\n",
    "        # again parameterized query for security reasons\n",
    "        self.cursor.execute(\"DELETE FROM artists WHERE ArtistId = ?\", (id,))\n",
    "        self.conn.commit()\n",
    "        return self\n",
    "\n",
    "    # delete artist by name\n",
    "    def delete_artist_by_name(self, name):\n",
    "        # again parameterized query for security reasons\n",
    "        self.cursor.execute(\"DELETE FROM artists WHERE name = ?\", (name,))\n",
    "        self.conn.commit()\n",
    "        return self\n",
    "\n",
    "    # return dataframe with all artists\n",
    "    def read_artists_df(self):\n",
    "        # by abstracting this we can change the implementation later\n",
    "        # also we create documentation for this method\n",
    "        return pd.read_sql_query(\"SELECT * FROM artists\", self.conn)\n",
    "\n",
    "    def read_albums_df(self):\n",
    "        return pd.read_sql_query(\"SELECT * FROM albums\", self.conn)\n",
    "\n",
    "    def read_tracks_df(self):\n",
    "        return pd.read_sql_query(\"SELECT * FROM tracks\", self.conn)\n",
    "\n",
    "    def read_album_stats(self):\n",
    "        query = \"\"\"\n",
    "        --how about getting total running length of each album?\n",
    "        SELECT\n",
    "            t.albumid,\n",
    "            a.Title AlbumTitle,\n",
    "            a2.Name ArtistName,\n",
    "            COUNT(trackid),\n",
    "            SUM(Milliseconds)/(1000*60) AlbumLengthMinutes,\n",
    "            AVG(Milliseconds)/(1000*60) AverageSongLengthMin,\n",
    "            MIN(Milliseconds)/(1000*60) ShortestSongMin,\n",
    "            MAX(Milliseconds)/(1000*60) LongestSongMin\n",
    "        FROM\n",
    "            tracks t\n",
    "        JOIN albums a \n",
    "        ON a.AlbumId = t.AlbumId \n",
    "        JOIN artists a2 \n",
    "        ON a.ArtistId = a2.ArtistId \n",
    "        GROUP BY\n",
    "            t.albumid\n",
    "        --SO HAVING is similar to WHERE but we use it in GROUP BY situations\n",
    "        -- disabling HAVING it for DF since we can filter there \n",
    "        -- HAVING AlbumLengthMinutes < 80\n",
    "        ORDER BY AlbumLengthMinutes DESC;\n",
    "        \"\"\"\n",
    "        return pd.read_sql_query(query, self.conn)\n",
    "\n",
    "    # just add more methods for other tables, joins, views, etc.\n",
    "\n",
    "    # TODO explore GROUP BY, HAVING and other SQL features"
   ]
  },
  {
   "cell_type": "code",
   "execution_count": 39,
   "metadata": {},
   "outputs": [],
   "source": [
    "# in effect we have made our own ORM - object relational mapper\n",
    "# ORM is a library that maps database tables to python objects\n",
    "\n",
    "# ORM on wikipedia: https://en.wikipedia.org/wiki/Object-relational_mapping"
   ]
  },
  {
   "cell_type": "code",
   "execution_count": 6,
   "metadata": {},
   "outputs": [
    {
     "name": "stdout",
     "output_type": "stream",
     "text": [
      "Connected to database: chinook.db Ready to perform CRUD operations!\n"
     ]
    },
    {
     "data": {
      "text/plain": [
       "'chinook.db'"
      ]
     },
     "execution_count": 6,
     "metadata": {},
     "output_type": "execute_result"
    }
   ],
   "source": [
    "# we create a single object of this class\n",
    "db = SqliteCRUD(\"chinook.db\")\n",
    "db.dbpath\n",
    "# now we can run queries using db.cursor.execute(query) method"
   ]
  },
  {
   "cell_type": "code",
   "execution_count": 4,
   "metadata": {},
   "outputs": [
    {
     "name": "stdout",
     "output_type": "stream",
     "text": [
      "Closing connection\n"
     ]
    }
   ],
   "source": [
    "# now let's close the connection by deleting the object\n",
    "del db"
   ]
  },
  {
   "cell_type": "code",
   "execution_count": 9,
   "metadata": {},
   "outputs": [
    {
     "data": {
      "text/plain": [
       "[(1, 'AC/DC'), (2, 'Accept'), (3, 'Aerosmith')]"
      ]
     },
     "execution_count": 9,
     "metadata": {},
     "output_type": "execute_result"
    }
   ],
   "source": [
    "artist_list = db.read_artists()\n",
    "artist_list[:3]"
   ]
  },
  {
   "cell_type": "code",
   "execution_count": 10,
   "metadata": {},
   "outputs": [
    {
     "data": {
      "text/plain": [
       "[(278, 'Jumprava'),\n",
       " (279, '; DROP TABLE artists; --'),\n",
       " (280, 'Lady Gaga; DROP TABLES artists; --')]"
      ]
     },
     "execution_count": 10,
     "metadata": {},
     "output_type": "execute_result"
    }
   ],
   "source": [
    "# last 3\n",
    "artist_list[-3:]"
   ]
  },
  {
   "cell_type": "code",
   "execution_count": 11,
   "metadata": {},
   "outputs": [
    {
     "data": {
      "text/plain": [
       "[(279, '; DROP TABLE artists; --'),\n",
       " (280, 'Lady Gaga; DROP TABLES artists; --'),\n",
       " (281, 'David Bowie')]"
      ]
     },
     "execution_count": 11,
     "metadata": {},
     "output_type": "execute_result"
    }
   ],
   "source": [
    "# create a new artist\n",
    "db.create_artist(\"David Bowie\")\n",
    "artist_list = db.read_artists()\n",
    "# last 3 \n",
    "artist_list[-3:]\n"
   ]
  },
  {
   "cell_type": "code",
   "execution_count": 12,
   "metadata": {},
   "outputs": [
    {
     "data": {
      "text/plain": [
       "[(282, 'David Bowie'), (283, 'Queen'), (284, 'The Beatles')]"
      ]
     },
     "execution_count": 12,
     "metadata": {},
     "output_type": "execute_result"
    }
   ],
   "source": [
    "# a list of single element tuples\n",
    "my_artists = [(\"David Bowie\",), (\"Queen\",), (\"The Beatles\",)]\n",
    "db.create_artists(my_artists)\n",
    "artist_list = db.read_artists()\n",
    "# last 3\n",
    "artist_list[-3:]"
   ]
  },
  {
   "cell_type": "code",
   "execution_count": 17,
   "metadata": {},
   "outputs": [
    {
     "data": {
      "text/plain": [
       "[(275, 'Philip Glass Ensemble'),\n",
       " (276, 'Valdis Saulespurēns'),\n",
       " (277, 'Jumprava'),\n",
       " (278, 'Jumprava'),\n",
       " (279, '; DROP TABLE artists; --'),\n",
       " (280, 'Lady Gaga; DROP TABLES artists; --'),\n",
       " (281, 'David Bowie'),\n",
       " (282, 'David Bowie'),\n",
       " (283, 'Queen'),\n",
       " (284, 'The Beatles')]"
      ]
     },
     "execution_count": 17,
     "metadata": {},
     "output_type": "execute_result"
    }
   ],
   "source": [
    "# last 10 artists\n",
    "artist_list = db.read_artists()\n",
    "artist_list[-10:]"
   ]
  },
  {
   "cell_type": "code",
   "execution_count": null,
   "metadata": {},
   "outputs": [],
   "source": []
  },
  {
   "cell_type": "code",
   "execution_count": 21,
   "metadata": {},
   "outputs": [
    {
     "data": {
      "text/plain": [
       "[(275, 'Philip Glass Ensemble'),\n",
       " (276, 'Valdis Saulespurēns'),\n",
       " (277, 'Jumprava'),\n",
       " (278, 'Jumprava'),\n",
       " (279, '; DROP TABLE artists; --'),\n",
       " (280, 'Lady Gaga'),\n",
       " (281, 'David Bowie'),\n",
       " (282, 'David Bowie'),\n",
       " (283, 'Queen'),\n",
       " (284, 'The Beatles')]"
      ]
     },
     "execution_count": 21,
     "metadata": {},
     "output_type": "execute_result"
    }
   ],
   "source": [
    "# let's change 280 to Lady Gaga\n",
    "db.update_artist_by_id(280, \"Lady Gaga\")\n",
    "db.read_artists()[-10:] # of course on larger database we would not read all artists"
   ]
  },
  {
   "cell_type": "code",
   "execution_count": 25,
   "metadata": {},
   "outputs": [
    {
     "data": {
      "text/plain": [
       "[(284, 'The Beatles'),\n",
       " (283, 'Queen'),\n",
       " (282, 'David Bowie'),\n",
       " (281, 'David Bowie'),\n",
       " (280, 'Lady Gaga'),\n",
       " (279, '; DROP TABLE artists; --'),\n",
       " (278, 'Jumprava'),\n",
       " (277, 'Jumprava'),\n",
       " (276, 'Valdis Saulespurēns'),\n",
       " (275, 'Philip Glass Ensemble'),\n",
       " (274, 'Nash Ensemble'),\n",
       " (273,\n",
       "  'C. Monteverdi, Nigel Rogers - Chiaroscuro; London Baroque; London Cornett & Sackbu')]"
      ]
     },
     "execution_count": 25,
     "metadata": {},
     "output_type": "execute_result"
    }
   ],
   "source": [
    "# let's get tail\n",
    "db.read_artists_tail(12) # default is 10"
   ]
  },
  {
   "cell_type": "code",
   "execution_count": 28,
   "metadata": {},
   "outputs": [
    {
     "data": {
      "text/plain": [
       "[(284, 'The Beatles'),\n",
       " (283, 'Queen'),\n",
       " (282, 'David Bowie'),\n",
       " (281, 'David Bowie'),\n",
       " (280, 'Lady Gaga')]"
      ]
     },
     "execution_count": 28,
     "metadata": {},
     "output_type": "execute_result"
    }
   ],
   "source": [
    "# let's get tail of 5\n",
    "db.read_artists_tail(5)"
   ]
  },
  {
   "cell_type": "code",
   "execution_count": 29,
   "metadata": {},
   "outputs": [
    {
     "data": {
      "text/plain": [
       "[(287, 'Samanta Tīne'),\n",
       " (286, 'Lauris Reinikis'),\n",
       " (285, 'Ansis'),\n",
       " (284, 'The Beatles'),\n",
       " (283, 'Queen'),\n",
       " (282, 'David Bowie'),\n",
       " (281, 'David Bowie'),\n",
       " (280, 'Lady Gaga')]"
      ]
     },
     "execution_count": 29,
     "metadata": {},
     "output_type": "execute_result"
    }
   ],
   "source": [
    "# let's chain some methods i am using \\ for newline to make it more readable\n",
    "db.create_artist(\"Ansis\")\\\n",
    "    .create_artist(\"Lauris Reinikis\")\\\n",
    "    .create_artist(\"Samanta Tīne\")\\\n",
    "    .read_artists_tail(8)"
   ]
  },
  {
   "cell_type": "code",
   "execution_count": 34,
   "metadata": {},
   "outputs": [
    {
     "data": {
      "text/html": [
       "<div>\n",
       "<style scoped>\n",
       "    .dataframe tbody tr th:only-of-type {\n",
       "        vertical-align: middle;\n",
       "    }\n",
       "\n",
       "    .dataframe tbody tr th {\n",
       "        vertical-align: top;\n",
       "    }\n",
       "\n",
       "    .dataframe thead th {\n",
       "        text-align: right;\n",
       "    }\n",
       "</style>\n",
       "<table border=\"1\" class=\"dataframe\">\n",
       "  <thead>\n",
       "    <tr style=\"text-align: right;\">\n",
       "      <th></th>\n",
       "      <th>ArtistId</th>\n",
       "      <th>Name</th>\n",
       "    </tr>\n",
       "  </thead>\n",
       "  <tbody>\n",
       "    <tr>\n",
       "      <th>0</th>\n",
       "      <td>1</td>\n",
       "      <td>AC/DC</td>\n",
       "    </tr>\n",
       "    <tr>\n",
       "      <th>1</th>\n",
       "      <td>2</td>\n",
       "      <td>Accept</td>\n",
       "    </tr>\n",
       "    <tr>\n",
       "      <th>2</th>\n",
       "      <td>3</td>\n",
       "      <td>Aerosmith</td>\n",
       "    </tr>\n",
       "    <tr>\n",
       "      <th>3</th>\n",
       "      <td>4</td>\n",
       "      <td>Alanis Morissette</td>\n",
       "    </tr>\n",
       "    <tr>\n",
       "      <th>4</th>\n",
       "      <td>5</td>\n",
       "      <td>Alice In Chains</td>\n",
       "    </tr>\n",
       "  </tbody>\n",
       "</table>\n",
       "</div>"
      ],
      "text/plain": [
       "   ArtistId               Name\n",
       "0         1              AC/DC\n",
       "1         2             Accept\n",
       "2         3          Aerosmith\n",
       "3         4  Alanis Morissette\n",
       "4         5    Alice In Chains"
      ]
     },
     "execution_count": 34,
     "metadata": {},
     "output_type": "execute_result"
    }
   ],
   "source": [
    "artists_df = db.read_artists_df()\n",
    "artists_df.head()"
   ]
  },
  {
   "cell_type": "code",
   "execution_count": 35,
   "metadata": {},
   "outputs": [
    {
     "data": {
      "text/html": [
       "<div>\n",
       "<style scoped>\n",
       "    .dataframe tbody tr th:only-of-type {\n",
       "        vertical-align: middle;\n",
       "    }\n",
       "\n",
       "    .dataframe tbody tr th {\n",
       "        vertical-align: top;\n",
       "    }\n",
       "\n",
       "    .dataframe thead th {\n",
       "        text-align: right;\n",
       "    }\n",
       "</style>\n",
       "<table border=\"1\" class=\"dataframe\">\n",
       "  <thead>\n",
       "    <tr style=\"text-align: right;\">\n",
       "      <th></th>\n",
       "      <th>ArtistId</th>\n",
       "      <th>Name</th>\n",
       "    </tr>\n",
       "  </thead>\n",
       "  <tbody>\n",
       "    <tr>\n",
       "      <th>282</th>\n",
       "      <td>283</td>\n",
       "      <td>Queen</td>\n",
       "    </tr>\n",
       "    <tr>\n",
       "      <th>283</th>\n",
       "      <td>284</td>\n",
       "      <td>The Beatles</td>\n",
       "    </tr>\n",
       "    <tr>\n",
       "      <th>284</th>\n",
       "      <td>285</td>\n",
       "      <td>Ansis</td>\n",
       "    </tr>\n",
       "    <tr>\n",
       "      <th>285</th>\n",
       "      <td>286</td>\n",
       "      <td>Lauris Reinikis</td>\n",
       "    </tr>\n",
       "    <tr>\n",
       "      <th>286</th>\n",
       "      <td>287</td>\n",
       "      <td>Samanta Tīne</td>\n",
       "    </tr>\n",
       "  </tbody>\n",
       "</table>\n",
       "</div>"
      ],
      "text/plain": [
       "     ArtistId             Name\n",
       "282       283            Queen\n",
       "283       284      The Beatles\n",
       "284       285            Ansis\n",
       "285       286  Lauris Reinikis\n",
       "286       287     Samanta Tīne"
      ]
     },
     "execution_count": 35,
     "metadata": {},
     "output_type": "execute_result"
    }
   ],
   "source": [
    "artists_df.tail()"
   ]
  },
  {
   "cell_type": "code",
   "execution_count": null,
   "metadata": {},
   "outputs": [],
   "source": [
    "# now we could start working on the dataframe without worrying about the database"
   ]
  },
  {
   "cell_type": "code",
   "execution_count": 7,
   "metadata": {},
   "outputs": [
    {
     "data": {
      "text/html": [
       "<div>\n",
       "<style scoped>\n",
       "    .dataframe tbody tr th:only-of-type {\n",
       "        vertical-align: middle;\n",
       "    }\n",
       "\n",
       "    .dataframe tbody tr th {\n",
       "        vertical-align: top;\n",
       "    }\n",
       "\n",
       "    .dataframe thead th {\n",
       "        text-align: right;\n",
       "    }\n",
       "</style>\n",
       "<table border=\"1\" class=\"dataframe\">\n",
       "  <thead>\n",
       "    <tr style=\"text-align: right;\">\n",
       "      <th></th>\n",
       "      <th>AlbumId</th>\n",
       "      <th>AlbumTitle</th>\n",
       "      <th>ArtistName</th>\n",
       "      <th>COUNT(trackid)</th>\n",
       "      <th>AlbumLengthMinutes</th>\n",
       "      <th>AverageSongLengthMin</th>\n",
       "      <th>ShortestSongMin</th>\n",
       "      <th>LongestSongMin</th>\n",
       "    </tr>\n",
       "  </thead>\n",
       "  <tbody>\n",
       "    <tr>\n",
       "      <th>0</th>\n",
       "      <td>229</td>\n",
       "      <td>Lost, Season 3</td>\n",
       "      <td>Lost</td>\n",
       "      <td>26</td>\n",
       "      <td>1177</td>\n",
       "      <td>45.298450</td>\n",
       "      <td>42</td>\n",
       "      <td>84</td>\n",
       "    </tr>\n",
       "    <tr>\n",
       "      <th>1</th>\n",
       "      <td>253</td>\n",
       "      <td>Battlestar Galactica (Classic), Season 1</td>\n",
       "      <td>Battlestar Galactica (Classic)</td>\n",
       "      <td>24</td>\n",
       "      <td>1170</td>\n",
       "      <td>48.759572</td>\n",
       "      <td>47</td>\n",
       "      <td>49</td>\n",
       "    </tr>\n",
       "    <tr>\n",
       "      <th>2</th>\n",
       "      <td>230</td>\n",
       "      <td>Lost, Season 1</td>\n",
       "      <td>Lost</td>\n",
       "      <td>25</td>\n",
       "      <td>1080</td>\n",
       "      <td>43.236624</td>\n",
       "      <td>40</td>\n",
       "      <td>43</td>\n",
       "    </tr>\n",
       "    <tr>\n",
       "      <th>3</th>\n",
       "      <td>231</td>\n",
       "      <td>Lost, Season 2</td>\n",
       "      <td>Lost</td>\n",
       "      <td>24</td>\n",
       "      <td>1054</td>\n",
       "      <td>43.951133</td>\n",
       "      <td>41</td>\n",
       "      <td>47</td>\n",
       "    </tr>\n",
       "    <tr>\n",
       "      <th>4</th>\n",
       "      <td>228</td>\n",
       "      <td>Heroes, Season 1</td>\n",
       "      <td>Heroes</td>\n",
       "      <td>23</td>\n",
       "      <td>996</td>\n",
       "      <td>43.319035</td>\n",
       "      <td>42</td>\n",
       "      <td>44</td>\n",
       "    </tr>\n",
       "  </tbody>\n",
       "</table>\n",
       "</div>"
      ],
      "text/plain": [
       "   AlbumId                                AlbumTitle  \\\n",
       "0      229                            Lost, Season 3   \n",
       "1      253  Battlestar Galactica (Classic), Season 1   \n",
       "2      230                            Lost, Season 1   \n",
       "3      231                            Lost, Season 2   \n",
       "4      228                          Heroes, Season 1   \n",
       "\n",
       "                       ArtistName  COUNT(trackid)  AlbumLengthMinutes  \\\n",
       "0                            Lost              26                1177   \n",
       "1  Battlestar Galactica (Classic)              24                1170   \n",
       "2                            Lost              25                1080   \n",
       "3                            Lost              24                1054   \n",
       "4                          Heroes              23                 996   \n",
       "\n",
       "   AverageSongLengthMin  ShortestSongMin  LongestSongMin  \n",
       "0             45.298450               42              84  \n",
       "1             48.759572               47              49  \n",
       "2             43.236624               40              43  \n",
       "3             43.951133               41              47  \n",
       "4             43.319035               42              44  "
      ]
     },
     "execution_count": 7,
     "metadata": {},
     "output_type": "execute_result"
    }
   ],
   "source": [
    "# get album stats dataframe\n",
    "album_stats_df = db.read_album_stats()\n",
    "album_stats_df.head()"
   ]
  },
  {
   "cell_type": "code",
   "execution_count": 8,
   "metadata": {},
   "outputs": [],
   "source": [
    "class GROUPBYDB(SqliteCRUD):\n",
    "   # no need for constructor and destructor\n",
    "   # because we are inheriting them from parent class \n",
    "# we can add more methods here\n",
    "   \n",
    "    def total_sales_by_year(self):\n",
    "        query = \"\"\"\n",
    "        SELECT SUBSTRING(InvoiceDate,1,4) as year,sum(Total) as total_sales\n",
    "        from invoices i \n",
    "        group by SUBSTRING(InvoiceDate,1,4)\n",
    "        \"\"\"\n",
    "        return pd.read_sql_query(query, self.conn)\n",
    "\n",
    "    def total_sales_by_country(self):\n",
    "        query = \"\"\"\n",
    "        SELECT c.Country ,sum(Total) as total_sales\n",
    "        from invoices i \n",
    "        join customers c on i.CustomerId =c.CustomerId \n",
    "        group by c.Country \n",
    "        \"\"\"\n",
    "        return pd.read_sql_query(query, self.conn)\n",
    "\n",
    "    def count_track(self): \n",
    "        query=\"\"\"\n",
    "        SELECT p.Name , count(pt.TrackId) as count_track\n",
    "        from playlist_track pt \n",
    "        join playlists p on pt.PlaylistId =p.PlaylistId \n",
    "        group by pt.PlaylistId\n",
    "        \"\"\"\n",
    "        return pd.read_sql_query(query,self.conn)\n",
    "    \n",
    "    def track_length(self): \n",
    "        query=\"\"\"\n",
    "        SELECT p.Name , count(pt.TrackId) as count_track, sum(t.Milliseconds)  / (1000 * 60)  as length_minutes\n",
    "        from playlist_track pt \n",
    "        join playlists p on pt.PlaylistId =p.PlaylistId \n",
    "        join tracks t on pt.TrackId =t.TrackId \n",
    "        group by pt.PlaylistId\n",
    "        \"\"\"\n",
    "        return pd.read_sql_query(query,self.conn)"
   ]
  },
  {
   "cell_type": "code",
   "execution_count": 9,
   "metadata": {},
   "outputs": [
    {
     "name": "stdout",
     "output_type": "stream",
     "text": [
      "Closing connection\n"
     ]
    }
   ],
   "source": [
    "del db"
   ]
  },
  {
   "cell_type": "code",
   "execution_count": 10,
   "metadata": {},
   "outputs": [
    {
     "name": "stdout",
     "output_type": "stream",
     "text": [
      "Connected to database: chinook.db Ready to perform CRUD operations!\n"
     ]
    }
   ],
   "source": [
    "db = GROUPBYDB(\"chinook.db\") # it will use constructor from parent class"
   ]
  },
  {
   "cell_type": "code",
   "execution_count": 11,
   "metadata": {},
   "outputs": [
    {
     "data": {
      "text/html": [
       "<div>\n",
       "<style scoped>\n",
       "    .dataframe tbody tr th:only-of-type {\n",
       "        vertical-align: middle;\n",
       "    }\n",
       "\n",
       "    .dataframe tbody tr th {\n",
       "        vertical-align: top;\n",
       "    }\n",
       "\n",
       "    .dataframe thead th {\n",
       "        text-align: right;\n",
       "    }\n",
       "</style>\n",
       "<table border=\"1\" class=\"dataframe\">\n",
       "  <thead>\n",
       "    <tr style=\"text-align: right;\">\n",
       "      <th></th>\n",
       "      <th>year</th>\n",
       "      <th>total_sales</th>\n",
       "    </tr>\n",
       "  </thead>\n",
       "  <tbody>\n",
       "    <tr>\n",
       "      <th>0</th>\n",
       "      <td>2009</td>\n",
       "      <td>449.46</td>\n",
       "    </tr>\n",
       "    <tr>\n",
       "      <th>1</th>\n",
       "      <td>2010</td>\n",
       "      <td>481.45</td>\n",
       "    </tr>\n",
       "    <tr>\n",
       "      <th>2</th>\n",
       "      <td>2011</td>\n",
       "      <td>469.58</td>\n",
       "    </tr>\n",
       "    <tr>\n",
       "      <th>3</th>\n",
       "      <td>2012</td>\n",
       "      <td>477.53</td>\n",
       "    </tr>\n",
       "    <tr>\n",
       "      <th>4</th>\n",
       "      <td>2013</td>\n",
       "      <td>450.58</td>\n",
       "    </tr>\n",
       "  </tbody>\n",
       "</table>\n",
       "</div>"
      ],
      "text/plain": [
       "   year  total_sales\n",
       "0  2009       449.46\n",
       "1  2010       481.45\n",
       "2  2011       469.58\n",
       "3  2012       477.53\n",
       "4  2013       450.58"
      ]
     },
     "execution_count": 11,
     "metadata": {},
     "output_type": "execute_result"
    }
   ],
   "source": [
    "db.total_sales_by_year()"
   ]
  },
  {
   "cell_type": "code",
   "execution_count": 13,
   "metadata": {},
   "outputs": [],
   "source": [
    "# save the sales report to csv\n",
    "# rounding 2 places\n",
    "db.total_sales_by_year().round(2).to_csv(\"sales_by_year.csv\", index=False)\n",
    "# round 2 is pandas method to round to 2 decimal places"
   ]
  },
  {
   "cell_type": "code",
   "execution_count": 14,
   "metadata": {},
   "outputs": [
    {
     "data": {
      "text/html": [
       "<div>\n",
       "<style scoped>\n",
       "    .dataframe tbody tr th:only-of-type {\n",
       "        vertical-align: middle;\n",
       "    }\n",
       "\n",
       "    .dataframe tbody tr th {\n",
       "        vertical-align: top;\n",
       "    }\n",
       "\n",
       "    .dataframe thead th {\n",
       "        text-align: right;\n",
       "    }\n",
       "</style>\n",
       "<table border=\"1\" class=\"dataframe\">\n",
       "  <thead>\n",
       "    <tr style=\"text-align: right;\">\n",
       "      <th></th>\n",
       "      <th>Name</th>\n",
       "      <th>count_track</th>\n",
       "      <th>length_minutes</th>\n",
       "    </tr>\n",
       "  </thead>\n",
       "  <tbody>\n",
       "    <tr>\n",
       "      <th>0</th>\n",
       "      <td>Music</td>\n",
       "      <td>3290</td>\n",
       "      <td>14628</td>\n",
       "    </tr>\n",
       "    <tr>\n",
       "      <th>1</th>\n",
       "      <td>TV Shows</td>\n",
       "      <td>213</td>\n",
       "      <td>8351</td>\n",
       "    </tr>\n",
       "    <tr>\n",
       "      <th>2</th>\n",
       "      <td>90’s Music</td>\n",
       "      <td>1477</td>\n",
       "      <td>6645</td>\n",
       "    </tr>\n",
       "    <tr>\n",
       "      <th>3</th>\n",
       "      <td>Music</td>\n",
       "      <td>3290</td>\n",
       "      <td>14628</td>\n",
       "    </tr>\n",
       "    <tr>\n",
       "      <th>4</th>\n",
       "      <td>Music Videos</td>\n",
       "      <td>1</td>\n",
       "      <td>4</td>\n",
       "    </tr>\n",
       "    <tr>\n",
       "      <th>5</th>\n",
       "      <td>TV Shows</td>\n",
       "      <td>213</td>\n",
       "      <td>8351</td>\n",
       "    </tr>\n",
       "    <tr>\n",
       "      <th>6</th>\n",
       "      <td>Brazilian Music</td>\n",
       "      <td>39</td>\n",
       "      <td>158</td>\n",
       "    </tr>\n",
       "    <tr>\n",
       "      <th>7</th>\n",
       "      <td>Classical</td>\n",
       "      <td>75</td>\n",
       "      <td>362</td>\n",
       "    </tr>\n",
       "    <tr>\n",
       "      <th>8</th>\n",
       "      <td>Classical 101 - Deep Cuts</td>\n",
       "      <td>25</td>\n",
       "      <td>112</td>\n",
       "    </tr>\n",
       "    <tr>\n",
       "      <th>9</th>\n",
       "      <td>Classical 101 - Next Steps</td>\n",
       "      <td>25</td>\n",
       "      <td>126</td>\n",
       "    </tr>\n",
       "    <tr>\n",
       "      <th>10</th>\n",
       "      <td>Classical 101 - The Basics</td>\n",
       "      <td>25</td>\n",
       "      <td>123</td>\n",
       "    </tr>\n",
       "    <tr>\n",
       "      <th>11</th>\n",
       "      <td>Grunge</td>\n",
       "      <td>15</td>\n",
       "      <td>68</td>\n",
       "    </tr>\n",
       "    <tr>\n",
       "      <th>12</th>\n",
       "      <td>Heavy Metal Classic</td>\n",
       "      <td>26</td>\n",
       "      <td>136</td>\n",
       "    </tr>\n",
       "    <tr>\n",
       "      <th>13</th>\n",
       "      <td>On-The-Go 1</td>\n",
       "      <td>1</td>\n",
       "      <td>3</td>\n",
       "    </tr>\n",
       "  </tbody>\n",
       "</table>\n",
       "</div>"
      ],
      "text/plain": [
       "                          Name  count_track  length_minutes\n",
       "0                        Music         3290           14628\n",
       "1                     TV Shows          213            8351\n",
       "2                   90’s Music         1477            6645\n",
       "3                        Music         3290           14628\n",
       "4                 Music Videos            1               4\n",
       "5                     TV Shows          213            8351\n",
       "6              Brazilian Music           39             158\n",
       "7                    Classical           75             362\n",
       "8    Classical 101 - Deep Cuts           25             112\n",
       "9   Classical 101 - Next Steps           25             126\n",
       "10  Classical 101 - The Basics           25             123\n",
       "11                      Grunge           15              68\n",
       "12         Heavy Metal Classic           26             136\n",
       "13                 On-The-Go 1            1               3"
      ]
     },
     "execution_count": 14,
     "metadata": {},
     "output_type": "execute_result"
    }
   ],
   "source": [
    "# read playlist track\n",
    "db.track_length()"
   ]
  }
 ],
 "metadata": {
  "kernelspec": {
   "display_name": "Python 3.10.7 ('venv': venv)",
   "language": "python",
   "name": "python3"
  },
  "language_info": {
   "codemirror_mode": {
    "name": "ipython",
    "version": 3
   },
   "file_extension": ".py",
   "mimetype": "text/x-python",
   "name": "python",
   "nbconvert_exporter": "python",
   "pygments_lexer": "ipython3",
   "version": "3.10.7"
  },
  "orig_nbformat": 4,
  "vscode": {
   "interpreter": {
    "hash": "b80708c7bd38bd96dc15c82484a40621665f8a1d2e88ebc3c5ed926cece63585"
   }
  }
 },
 "nbformat": 4,
 "nbformat_minor": 2
}
